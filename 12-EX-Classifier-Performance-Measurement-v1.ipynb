{
 "cells": [
  {
   "cell_type": "markdown",
   "metadata": {},
   "source": [
    "Creative Commons CC BY 4.0 Lynd Bacon & Associates, Ltd. Not warranted to be suitable for any particular purpose. (You're on your own!)"
   ]
  },
  {
   "cell_type": "markdown",
   "metadata": {},
   "source": [
    "# Binary Classifier Performance Measurement\n",
    "\n",
    "The classification of observations into just two categories is a special case of the broader array of applications that involve predicting three or more ordered or unordered target variable labels.  And, there are many different performance metrics used in several different disciplines."
   ]
  },
  {
   "cell_type": "markdown",
   "metadata": {},
   "source": [
    "# Confusion Matrix\n",
    "\n",
    "Many frequently used binary classifier performance metrics are based on the [confusion matrix](https://en.wikipedia.org/wiki/Confusion_matrix), which is basically just a cross-tabulation of true vs. predicted class labels.\n",
    "\n",
    "Other common measures include the _Area Under the Curve_ (AUC), where the curve is a _Receiver Operating Characteristic_ (ROC) curve.\n",
    "\n",
    "Let's get the data and results from the binary logistic regression notebook, and apply some performance metrics to it.\n",
    "\n",
    "But first we need to get lots of stuff in modules:"
   ]
  },
  {
   "cell_type": "code",
   "execution_count": 1,
   "metadata": {},
   "outputs": [],
   "source": [
    "from IPython.core.interactiveshell import InteractiveShell\n",
    "InteractiveShell.ast_node_interactivity = \"all\"\n",
    "from IPython.display import display, Markdown\n",
    "import numpy as np\n",
    "import pandas as pd\n",
    "\n",
    "import matplotlib.pyplot as plt\n",
    "import scikitplot as skplt\n",
    "from sklearn import linear_model\n",
    "from sklearn.model_selection import cross_val_predict\n",
    "from sklearn import preprocessing\n",
    "from sklearn.metrics import accuracy_score, confusion_matrix, roc_auc_score\n",
    "from sklearn.metrics import roc_curve, precision_score, recall_score\n",
    "import pickle\n",
    "import os\n",
    "import shelve\n",
    "%matplotlib inline"
   ]
  },
  {
   "cell_type": "markdown",
   "metadata": {},
   "source": [
    "#  Unpickling the Data\n",
    "\n",
    "This assumes that the pickle file is in the DATA subdir."
   ]
  },
  {
   "cell_type": "code",
   "execution_count": 5,
   "metadata": {},
   "outputs": [
    {
     "data": {
      "text/plain": [
       "dict_keys(['X_train', 'y_train', 'X_test', 'y_test', 'yTestPredLabels', 'yTestPredProbs', 'yTrainPredLabels', 'yTrainPredProbs'])"
      ]
     },
     "execution_count": 5,
     "metadata": {},
     "output_type": "execute_result"
    }
   ],
   "source": [
    "with open('rBinLogData99.pkl','rb') as pickleInFile:\n",
    "    breastResDict=pickle.load(pickleInFile)\n",
    "breastResDict.keys()"
   ]
  },
  {
   "cell_type": "markdown",
   "metadata": {},
   "source": [
    "# Basic Confusion\n",
    "\n",
    "A _confusion matrix_ is basically just a two-way table tabulating comments of \"true\" classifier label values by \"predicted\" labels."
   ]
  },
  {
   "cell_type": "code",
   "execution_count": 10,
   "metadata": {},
   "outputs": [
    {
     "name": "stdout",
     "output_type": "stream",
     "text": [
      "[[260   7]\n",
      " [  9 150]]\n"
     ]
    }
   ],
   "source": [
    "## Training Data Confusion Matrix\n",
    "\n",
    "print(confusion_matrix(breastResDict['y_train'], breastResDict['yTrainPredLabels']))"
   ]
  },
  {
   "cell_type": "code",
   "execution_count": 11,
   "metadata": {},
   "outputs": [
    {
     "name": "stdout",
     "output_type": "stream",
     "text": [
      "[[84  6]\n",
      " [ 3 50]]\n"
     ]
    }
   ],
   "source": [
    "# Test Data Confusion Matrix\n",
    "\n",
    "print(confusion_matrix(breastResDict['y_test'], breastResDict['yTestPredLabels']))"
   ]
  },
  {
   "cell_type": "markdown",
   "metadata": {},
   "source": [
    "# Kinder Confusion"
   ]
  },
  {
   "cell_type": "markdown",
   "metadata": {},
   "source": [
    "#Let's import a script for a \"better looking\" confusion matrix from [Matt Hancock](https://notmatthancock.github.io/2015/10/28/confusion-matrix.html), It's in the file `show-confusion.py`.  \n",
    "\n",
    "Assuming that it's in the pwd:\n",
    " "
   ]
  },
  {
   "cell_type": "code",
   "execution_count": 12,
   "metadata": {},
   "outputs": [
    {
     "name": "stdout",
     "output_type": "stream",
     "text": [
      "Writing show_confusion.py\n"
     ]
    }
   ],
   "source": [
    "%%writefile show_confusion.py\n",
    "\n",
    "def show_confusion_matrix(C,class_labels=['0','1']):\n",
    "    \"\"\"\n",
    "    C: ndarray, shape (2,2) as given by scikit-learn confusion_matrix function\n",
    "    class_labels: list of strings, default simply labels 0 and 1.\n",
    "\n",
    "    Draws confusion matrix with associated metrics.\n",
    "    \"\"\"\n",
    "    import matplotlib.pyplot as plt\n",
    "    import numpy as np\n",
    "    \n",
    "    assert C.shape == (2,2), \"Confusion matrix should be from binary classification only.\"\n",
    "    \n",
    "    # true negative, false positive, etc...\n",
    "    tn = C[0,0]; fp = C[0,1]; fn = C[1,0]; tp = C[1,1];\n",
    "\n",
    "    NP = fn+tp # Num positive examples\n",
    "    NN = tn+fp # Num negative examples\n",
    "    N  = NP+NN\n",
    "\n",
    "    fig = plt.figure(figsize=(8,8))\n",
    "    ax  = fig.add_subplot(111)\n",
    "    ax.imshow(C, interpolation='nearest', cmap=plt.cm.gray)\n",
    "\n",
    "    # Draw the grid boxes\n",
    "    ax.set_xlim(-0.5,2.5)\n",
    "    ax.set_ylim(2.5,-0.5)\n",
    "    ax.plot([-0.5,2.5],[0.5,0.5], '-k', lw=2)\n",
    "    ax.plot([-0.5,2.5],[1.5,1.5], '-k', lw=2)\n",
    "    ax.plot([0.5,0.5],[-0.5,2.5], '-k', lw=2)\n",
    "    ax.plot([1.5,1.5],[-0.5,2.5], '-k', lw=2)\n",
    "\n",
    "    # Set xlabels\n",
    "    ax.set_xlabel('Predicted Label', fontsize=16)\n",
    "    ax.set_xticks([0,1,2])\n",
    "    ax.set_xticklabels(class_labels + [''])\n",
    "    ax.xaxis.set_label_position('top')\n",
    "    ax.xaxis.tick_top()\n",
    "    # These coordinate might require some tinkering. Ditto for y, below.\n",
    "    ax.xaxis.set_label_coords(0.34,1.06)\n",
    "\n",
    "    # Set ylabels\n",
    "    ax.set_ylabel('True Label', fontsize=16, rotation=90)\n",
    "    ax.set_yticklabels(class_labels + [''],rotation=90)\n",
    "    ax.set_yticks([0,1,2])\n",
    "    ax.yaxis.set_label_coords(-0.09,0.65)\n",
    "\n",
    "\n",
    "    # Fill in initial metrics: tp, tn, etc...\n",
    "    ax.text(0,0,\n",
    "            'True Neg: %d\\n(Num Neg: %d)'%(tn,NN),\n",
    "            va='center',\n",
    "            ha='center',\n",
    "            bbox=dict(fc='w',boxstyle='round,pad=1'))\n",
    "\n",
    "    ax.text(0,1,\n",
    "            'False Neg: %d'%fn,\n",
    "            va='center',\n",
    "            ha='center',\n",
    "            bbox=dict(fc='w',boxstyle='round,pad=1'))\n",
    "\n",
    "    ax.text(1,0,\n",
    "            'False Pos: %d'%fp,\n",
    "            va='center',\n",
    "            ha='center',\n",
    "            bbox=dict(fc='w',boxstyle='round,pad=1'))\n",
    "\n",
    "\n",
    "    ax.text(1,1,\n",
    "            'True Pos: %d\\n(Num Pos: %d)'%(tp,NP),\n",
    "            va='center',\n",
    "            ha='center',\n",
    "            bbox=dict(fc='w',boxstyle='round,pad=1'))\n",
    "\n",
    "    # Fill in secondary metrics: accuracy, true pos rate, etc...\n",
    "    ax.text(2,0,\n",
    "            'False Pos Rate: %.2f'%(fp / (fp+tn+0.)),\n",
    "            va='center',\n",
    "            ha='center',\n",
    "            bbox=dict(fc='w',boxstyle='round,pad=1'))\n",
    "\n",
    "    ax.text(2,1,\n",
    "            'True Pos Rate: %.2f'%(tp / (tp+fn+0.)),\n",
    "            va='center',\n",
    "            ha='center',\n",
    "            bbox=dict(fc='w',boxstyle='round,pad=1'))\n",
    "\n",
    "    ax.text(2,2,\n",
    "            'Accuracy: %.2f'%((tp+tn+0.)/N),\n",
    "            va='center',\n",
    "            ha='center',\n",
    "            bbox=dict(fc='w',boxstyle='round,pad=1'))\n",
    "\n",
    "    ax.text(0,2,\n",
    "            'Neg Pre Val: %.2f'%(1-fn/(fn+tn+0.)),\n",
    "            va='center',\n",
    "            ha='center',\n",
    "            bbox=dict(fc='w',boxstyle='round,pad=1'))\n",
    "\n",
    "    ax.text(1,2,\n",
    "            'Pos Pred Val: %.2f'%(tp/(tp+fp+0.)),\n",
    "            va='center',\n",
    "            ha='center',\n",
    "            bbox=dict(fc='w',boxstyle='round,pad=1'))\n",
    "\n",
    "\n",
    "    plt.tight_layout()\n",
    "    plt.show()\n",
    "\n",
    "\n"
   ]
  },
  {
   "cell_type": "code",
   "execution_count": 13,
   "metadata": {},
   "outputs": [],
   "source": [
    "from show_confusion import show_confusion_matrix"
   ]
  },
  {
   "cell_type": "code",
   "execution_count": 14,
   "metadata": {},
   "outputs": [
    {
     "name": "stdout",
     "output_type": "stream",
     "text": [
      "\n",
      "    C: ndarray, shape (2,2) as given by scikit-learn confusion_matrix function\n",
      "    class_labels: list of strings, default simply labels 0 and 1.\n",
      "\n",
      "    Draws confusion matrix with associated metrics.\n",
      "    \n"
     ]
    }
   ],
   "source": [
    "print(show_confusion_matrix.__doc__)"
   ]
  },
  {
   "cell_type": "code",
   "execution_count": 15,
   "metadata": {},
   "outputs": [
    {
     "data": {
      "text/markdown": [
       "<strong>Training Data Confusion Matrix</strong><br/>"
      ],
      "text/plain": [
       "<IPython.core.display.Markdown object>"
      ]
     },
     "execution_count": 15,
     "metadata": {},
     "output_type": "execute_result"
    },
    {
     "data": {
      "image/png": "[encoded data removed]",
      "text/plain": [
       "<Figure size 576x576 with 1 Axes>"
      ]
     },
     "metadata": {
      "needs_background": "light"
     },
     "output_type": "display_data"
    }
   ],
   "source": [
    "Markdown('<strong>{}</strong><br/>'.format(\"Training Data Confusion Matrix\"))\n",
    "\n",
    "show_confusion_matrix(confusion_matrix(breastResDict['y_train'], \n",
    "                                       breastResDict['yTrainPredLabels']))\n"
   ]
  },
  {
   "cell_type": "code",
   "execution_count": 16,
   "metadata": {},
   "outputs": [
    {
     "data": {
      "text/markdown": [
       "<strong>Test Data Confusion Matrix</strong><br/>"
      ],
      "text/plain": [
       "<IPython.core.display.Markdown object>"
      ]
     },
     "execution_count": 16,
     "metadata": {},
     "output_type": "execute_result"
    },
    {
     "data": {
      "image/png": "[encoded data removed]",
      "text/plain": [
       "<Figure size 576x576 with 1 Axes>"
      ]
     },
     "metadata": {
      "needs_background": "light"
     },
     "output_type": "display_data"
    }
   ],
   "source": [
    "Markdown('<strong>{}</strong><br/>'.format(\"Test Data Confusion Matrix\"))\n",
    "\n",
    "show_confusion_matrix(confusion_matrix(breastResDict['y_test'], \n",
    "                                       breastResDict['yTestPredLabels']))\n"
   ]
  },
  {
   "cell_type": "markdown",
   "metadata": {},
   "source": [
    "# A Few Useful Binary Classifier Scores  \n",
    "\n",
    "Scikit-learn provide a number of [metrics for classifiers](https://scikit-learn.org/stable/modules/model_evaluation.html#classification-metrics). Among these are:\n",
    "\n",
    "* AUC - area under the ROC (\"receiver operating characteristics\") curve.\n",
    "* Precision (AKA positive predictive value).\n",
    "* Recall (AKA sensitivity).\n",
    "* F1 (harmonic mean of Precision and Recall).\n",
    "* Accuracy (proportion correct).\n",
    "* Hit Rate (AKA sensitivity).\n",
    "* False Alarm Rate (1-selectivity).\n",
    "\n",
    "This page on [wikipedia about Precision and Recall](https://en.wikipedia.org/wiki/Precision_and_recall) includes a table that's helpful in disambiguating the terminology above.\n",
    "\n",
    "![Presicion and Recall](https://upload.wikimedia.org/wikipedia/commons/thumb/2/26/Precisionrecall.svg/1024px-Precisionrecall.svg.png)\n",
    "The Hit Rate (HR) and the False Alarm Rate (FAR) are used to plot an ROC curve."
   ]
  },
  {
   "cell_type": "markdown",
   "metadata": {},
   "source": [
    "# ROC Curve and AUC\n",
    "\n",
    "Let's first get the data out of the dict breastResDict to make things more convenient."
   ]
  },
  {
   "cell_type": "code",
   "execution_count": 21,
   "metadata": {},
   "outputs": [],
   "source": [
    "y_train=breastResDict['y_train']\n",
    "y_test=breastResDict['y_test']\n",
    "yTrainPredProbs=breastResDict['yTrainPredProbs']\n",
    "yTestPredProbs=breastResDict['yTestPredProbs']"
   ]
  },
  {
   "cell_type": "code",
   "execution_count": 28,
   "metadata": {},
   "outputs": [
    {
     "data": {
      "text/plain": [
       "(426, 2)"
      ]
     },
     "execution_count": 28,
     "metadata": {},
     "output_type": "execute_result"
    },
    {
     "data": {
      "text/plain": [
       "(143, 2)"
      ]
     },
     "execution_count": 28,
     "metadata": {},
     "output_type": "execute_result"
    },
    {
     "data": {
      "text/html": [
       "<div>\n",
       "<style scoped>\n",
       "    .dataframe tbody tr th:only-of-type {\n",
       "        vertical-align: middle;\n",
       "    }\n",
       "\n",
       "    .dataframe tbody tr th {\n",
       "        vertical-align: top;\n",
       "    }\n",
       "\n",
       "    .dataframe thead th {\n",
       "        text-align: right;\n",
       "    }\n",
       "</style>\n",
       "<table border=\"1\" class=\"dataframe\">\n",
       "  <thead>\n",
       "    <tr style=\"text-align: right;\">\n",
       "      <th></th>\n",
       "      <th>0</th>\n",
       "    </tr>\n",
       "  </thead>\n",
       "  <tbody>\n",
       "    <tr>\n",
       "      <th>421</th>\n",
       "      <td>1</td>\n",
       "    </tr>\n",
       "    <tr>\n",
       "      <th>422</th>\n",
       "      <td>0</td>\n",
       "    </tr>\n",
       "    <tr>\n",
       "      <th>423</th>\n",
       "      <td>1</td>\n",
       "    </tr>\n",
       "    <tr>\n",
       "      <th>424</th>\n",
       "      <td>0</td>\n",
       "    </tr>\n",
       "    <tr>\n",
       "      <th>425</th>\n",
       "      <td>0</td>\n",
       "    </tr>\n",
       "  </tbody>\n",
       "</table>\n",
       "</div>"
      ],
      "text/plain": [
       "     0\n",
       "421  1\n",
       "422  0\n",
       "423  1\n",
       "424  0\n",
       "425  0"
      ]
     },
     "execution_count": 28,
     "metadata": {},
     "output_type": "execute_result"
    },
    {
     "data": {
      "text/html": [
       "<div>\n",
       "<style scoped>\n",
       "    .dataframe tbody tr th:only-of-type {\n",
       "        vertical-align: middle;\n",
       "    }\n",
       "\n",
       "    .dataframe tbody tr th {\n",
       "        vertical-align: top;\n",
       "    }\n",
       "\n",
       "    .dataframe thead th {\n",
       "        text-align: right;\n",
       "    }\n",
       "</style>\n",
       "<table border=\"1\" class=\"dataframe\">\n",
       "  <thead>\n",
       "    <tr style=\"text-align: right;\">\n",
       "      <th></th>\n",
       "      <th>0</th>\n",
       "      <th>1</th>\n",
       "    </tr>\n",
       "  </thead>\n",
       "  <tbody>\n",
       "    <tr>\n",
       "      <th>421</th>\n",
       "      <td>5.857352e-01</td>\n",
       "      <td>0.414265</td>\n",
       "    </tr>\n",
       "    <tr>\n",
       "      <th>422</th>\n",
       "      <td>9.942723e-01</td>\n",
       "      <td>0.005728</td>\n",
       "    </tr>\n",
       "    <tr>\n",
       "      <th>423</th>\n",
       "      <td>2.751098e-08</td>\n",
       "      <td>1.000000</td>\n",
       "    </tr>\n",
       "    <tr>\n",
       "      <th>424</th>\n",
       "      <td>9.731066e-01</td>\n",
       "      <td>0.026893</td>\n",
       "    </tr>\n",
       "    <tr>\n",
       "      <th>425</th>\n",
       "      <td>6.396186e-01</td>\n",
       "      <td>0.360381</td>\n",
       "    </tr>\n",
       "  </tbody>\n",
       "</table>\n",
       "</div>"
      ],
      "text/plain": [
       "                0         1\n",
       "421  5.857352e-01  0.414265\n",
       "422  9.942723e-01  0.005728\n",
       "423  2.751098e-08  1.000000\n",
       "424  9.731066e-01  0.026893\n",
       "425  6.396186e-01  0.360381"
      ]
     },
     "execution_count": 28,
     "metadata": {},
     "output_type": "execute_result"
    }
   ],
   "source": [
    "# Just checking\n",
    "\n",
    "yTrainPredProbs.shape\n",
    "yTestPredProbs.shape\n",
    "\n",
    "pd.DataFrame(y_train).tail()\n",
    "pd.DataFrame(yTrainPredProbs).tail()"
   ]
  },
  {
   "cell_type": "markdown",
   "metadata": {},
   "source": [
    "## ROC Plot and AUC for the Training Data"
   ]
  },
  {
   "cell_type": "code",
   "execution_count": 23,
   "metadata": {},
   "outputs": [],
   "source": [
    "# Plotting using maplotlib, a \"reusable\" ROC plotting fcn\n",
    "\n",
    "def plotROC(fpr,tpr,label=None):\n",
    "    plt.subplots(figsize=(6,6))\n",
    "    plt.plot(fpr,tpr, linewidth=3,label=label)\n",
    "    plt.plot([0,1],[0,1], 'k--')\n",
    "    plt.axis([0,1,0,1])\n",
    "    plt.xlabel('False Pos Rate')\n",
    "    plt.ylabel('True Pos Rate')\n"
   ]
  },
  {
   "cell_type": "code",
   "execution_count": 29,
   "metadata": {},
   "outputs": [
    {
     "data": {
      "image/png": "[encoded data removed]",
      "text/plain": [
       "<Figure size 432x432 with 1 Axes>"
      ]
     },
     "metadata": {
      "needs_background": "light"
     },
     "output_type": "display_data"
    }
   ],
   "source": [
    "# For the Training data results\n",
    "\n",
    "fprTrain, tprTrain, _ = roc_curve(y_train, yTrainPredProbs[:,1])\n",
    "\n",
    "plotROC(fprTrain, tprTrain)\n",
    "plt.show()"
   ]
  },
  {
   "cell_type": "code",
   "execution_count": 31,
   "metadata": {},
   "outputs": [
    {
     "name": "stdout",
     "output_type": "stream",
     "text": [
      "Training AUC: 0.995\n"
     ]
    }
   ],
   "source": [
    "trainingAUC=roc_auc_score(y_train, yTrainPredProbs[:,1])\n",
    "print('Training AUC: {0:4.3f}'.format(trainingAUC))"
   ]
  },
  {
   "cell_type": "code",
   "execution_count": 32,
   "metadata": {},
   "outputs": [
    {
     "data": {
      "image/png": "[encoded data removed]",
      "text/plain": [
       "<Figure size 432x432 with 1 Axes>"
      ]
     },
     "metadata": {
      "needs_background": "light"
     },
     "output_type": "display_data"
    }
   ],
   "source": [
    "# For the Test data results\n",
    "\n",
    "fprTest, tprTest, _ = roc_curve(y_test, yTestPredProbs[:,1])\n",
    "\n",
    "plotROC(fprTest, tprTest)\n",
    "plt.show()"
   ]
  },
  {
   "cell_type": "code",
   "execution_count": 33,
   "metadata": {},
   "outputs": [
    {
     "name": "stdout",
     "output_type": "stream",
     "text": [
      "Test AUC: 0.988\n"
     ]
    }
   ],
   "source": [
    "testAUC=roc_auc_score(y_test, yTestPredProbs[:,1])\n",
    "print('Test AUC: {0:4.3f}'.format(testAUC))"
   ]
  },
  {
   "cell_type": "markdown",
   "metadata": {},
   "source": [
    "## Zounds!  What a Fit!\n",
    "\n",
    "This model works too well.  Suspiciously so, in fact.  To get a sense of what typical ROC's look like, do the following UDU."
   ]
  },
  {
   "cell_type": "markdown",
   "metadata": {},
   "source": [
    "# UDU: Train a Binary Logistic Classifier Using Features of Your Choice\n",
    "\n",
    "Pick out just a couple of features, and train a binary logistic classifier using them. Use a hold out validation sample as your test data.  Then, plot ROCs for results based on your training data and your test data.\n",
    "\n",
    "The scikit-learn method [model_selection.cross_val_precict()](https://scikit-learn.org/stable/modules/generated/sklearn.model_selection.cross_val_predict.html) can be used to \"quickly\" get predictions from a cross-validated model. Give it a try, here."
   ]
  },
  {
   "cell_type": "markdown",
   "metadata": {},
   "source": [
    "## Alternative Ways to Do an ROC Plot  \n",
    "\n",
    "There's more than one way to do it, even if it isn't in Perl.  The [scikit-plot](https://scikit-plot.readthedocs.io/en/stable/) package has some clever ways of producing plot to assess classifiers and other kinds of models.  Here's a set-up for using it with the logistic results, above.\n",
    "\n",
    "`scikit-plot` likes a 2D numpy array for the predicted label probabilities:"
   ]
  },
  {
   "cell_type": "code",
   "execution_count": 40,
   "metadata": {},
   "outputs": [],
   "source": [
    "#yTestProbs=np.c_[1-yTestPredProbs,yTestPredProbs]\n",
    "yTestProbs=yTestPredProbs"
   ]
  },
  {
   "cell_type": "markdown",
   "metadata": {},
   "source": [
    "Then we can do:"
   ]
  },
  {
   "cell_type": "code",
   "execution_count": 41,
   "metadata": {},
   "outputs": [
    {
     "data": {
      "image/png": "[encoded data removed]",
      "text/plain": [
       "<Figure size 504x504 with 1 Axes>"
      ]
     },
     "metadata": {
      "needs_background": "light"
     },
     "output_type": "display_data"
    }
   ],
   "source": [
    "skplt.metrics.plot_roc(y_test, yTestProbs, title=\"Test Data ROC\",\n",
    "                      figsize=(7,7),\n",
    "                      plot_macro=False, \n",
    "                      plot_micro=False,\n",
    "                      classes_to_plot=1)\n",
    "plt.show();"
   ]
  },
  {
   "cell_type": "markdown",
   "metadata": {},
   "source": [
    "Other ways to produce ROC plots include using the Python [ggplot](http://ggplot.yhathq.com/) package, and the [seaborn](https://seaborn.pydata.org/) package. "
   ]
  },
  {
   "cell_type": "markdown",
   "metadata": {},
   "source": [
    "# Precision and Recall\n",
    "\n",
    "There is an opinion that Precision and Recall are more useful than the ROC curve and AUC for evaluating classifiers where the distribution of the target variable's values is \"unbalanced,\" or skewed. \n",
    "\n",
    "Some definitions:\n",
    "\n",
    "_Precision_ = proportion of cases classified as positive that are actually positive  \n",
    "_Recall_ = proportion of positive cases that are classified as positive  \n",
    "\n",
    "Let:\n",
    "\n",
    "TP=true positive, FP=false positive, TN=true negative, and FN=false negative.\n",
    "\n",
    "Then:\n",
    "\n",
    "_Precision_  =  TP/(TP+FP)  \n",
    "_Recall_     =  TP/(TP+FN)\n",
    "\n",
    "\n",
    "Here's a [PLOS One Paper](https://www.ncbi.nlm.nih.gov/pmc/articles/PMC4349800/) about Precision-Recall plots vs ROC plots when target categories are unbalanced.\n",
    "\n",
    "Precision and recall for the present data are as follows. "
   ]
  },
  {
   "cell_type": "code",
   "execution_count": null,
   "metadata": {},
   "outputs": [],
   "source": [
    "print('Training Precision: {:5.3f} Training Recall: {:5.3f}'.format(\n",
    "        precision_score(y_train,yTrainPredProbs>0.5),\n",
    "        recall_score(y_train,yTrainPredProbs>0.5)))"
   ]
  },
  {
   "cell_type": "code",
   "execution_count": null,
   "metadata": {},
   "outputs": [],
   "source": []
  }
 ],
 "metadata": {
  "hide_input": false,
  "kernelspec": {
   "display_name": "Python 3",
   "language": "python",
   "name": "python3"
  },
  "language_info": {
   "codemirror_mode": {
    "name": "ipython",
    "version": 3
   },
   "file_extension": ".py",
   "mimetype": "text/x-python",
   "name": "python",
   "nbconvert_exporter": "python",
   "pygments_lexer": "ipython3",
   "version": "3.7.3"
  },
  "latex_envs": {
   "LaTeX_envs_menu_present": true,
   "autoclose": false,
   "autocomplete": true,
   "bibliofile": "biblio.bib",
   "cite_by": "apalike",
   "current_citInitial": 1,
   "eqLabelWithNumbers": true,
   "eqNumInitial": 1,
   "hotkeys": {
    "equation": "Ctrl-E",
    "itemize": "Ctrl-I"
   },
   "labels_anchors": false,
   "latex_user_defs": false,
   "report_style_numbering": false,
   "user_envs_cfg": false
  },
  "toc": {
   "base_numbering": 1,
   "nav_menu": {},
   "number_sections": false,
   "sideBar": false,
   "skip_h1_title": false,
   "title_cell": "Table of Contents",
   "title_sidebar": "Contents",
   "toc_cell": false,
   "toc_position": {
    "height": "calc(100% - 180px)",
    "left": "10px",
    "top": "150px",
    "width": "330.2px"
   },
   "toc_section_display": false,
   "toc_window_display": false
  }
 },
 "nbformat": 4,
 "nbformat_minor": 2
}
