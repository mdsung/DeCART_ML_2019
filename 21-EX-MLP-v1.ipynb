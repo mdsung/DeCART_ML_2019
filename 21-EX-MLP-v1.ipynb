{
 "cells": [
  {
   "cell_type": "markdown",
   "metadata": {},
   "source": [
    "Creative Commons CC BY 4.0 Lynd Bacon & Associates, Ltd. Not warranted to be suitable for any particular purpose. (You're on your own!)"
   ]
  },
  {
   "cell_type": "markdown",
   "metadata": {},
   "source": [
    "# Multilayer Perceptrons\n",
    "\n",
    "In the following we're going to train MLPs.  We'll start with a modest data set that has a half dozen features, and that we'll train a MLP to predict a binary target variable.  Then we'll train MLPs to predict the labels on digit images that is widely used to test a variety of predictive algorithms.  Both are larger datasets.  NNs have a voracious appetite for data.\n",
    "\n",
    "We'll use the packages [Tensorflow](http://tensorflow.org) and [Keras](https://keras.io/), the latter being well integrated into the former in recent version releases. See [Keras in Tensorflow](https://www.tensorflow.org/beta/guide/keras)."
   ]
  },
  {
   "cell_type": "markdown",
   "metadata": {},
   "source": [
    "# NN  Parameters\n",
    "\n",
    "There are many parameters to set, and to \"tweak\" to try to improve performance.  They include:\n",
    "\n",
    "* Learning rate:  this is the \"step size\" adjustment taken to update the values of weights upon evaluation of the gradient. \n",
    "* Optimizer selection: there are several available.\n",
    "    * For a summary of those available in Tensorflow, see [Tensorflow Optimizers](https://www.tutorialspoint.com/tensorflow/tensorflow_optimizers).\n",
    "* Number of layers.\n",
    "* Number of nodes per layer.\n",
    "* Activation function(s).\n",
    "* Number of epochs: an epoch is a single forward pass and backward pass over the training examples.\n",
    "* Batch size: the number of training examples in an epoch. (Sometimes called a _mini-batch_ to make it clear that the training examples in an epoch may not be the entire set of htem.)\n",
    "\n",
    "If you have 5,000 training examples, and your batch size is 100, an epoch will require fifty (50) iterations.\n",
    "\n",
    "It may be the case that, ceteris paribus, smaller batches will result in better generalization than larger ones. See [On Large-Batch Training for Deep Learning: Generalization Gap and Sharp Minima](https://arxiv.org/abs/1609.04836)."
   ]
  },
  {
   "cell_type": "markdown",
   "metadata": {},
   "source": [
    "# Getting Packages"
   ]
  },
  {
   "cell_type": "code",
   "execution_count": 1,
   "metadata": {},
   "outputs": [],
   "source": [
    "from IPython.core.interactiveshell import InteractiveShell\n",
    "InteractiveShell.ast_node_interactivity = \"all\"\n",
    "from IPython.display import display, Markdown\n",
    "import numpy as np\n",
    "import pandas as pd\n",
    "\n",
    "import matplotlib.pyplot as plt\n",
    "import scikitplot as skplt\n",
    "from sklearn import linear_model\n",
    "from sklearn.model_selection import KFold, StratifiedShuffleSplit\n",
    "from sklearn.model_selection import cross_val_predict, train_test_split\n",
    "from sklearn.model_selection import GridSearchCV\n",
    "from sklearn import preprocessing\n",
    "from sklearn.metrics import accuracy_score, confusion_matrix, roc_auc_score\n",
    "from sklearn.metrics import roc_curve, precision_score, recall_score\n",
    "from sklearn.metrics import classification_report\n",
    "import tensorflow as tf\n",
    "from tensorflow import keras\n",
    "%matplotlib inline\n"
   ]
  },
  {
   "cell_type": "markdown",
   "metadata": {},
   "source": [
    "# Mammography Data: Input and Munging"
   ]
  },
  {
   "cell_type": "code",
   "execution_count": 2,
   "metadata": {},
   "outputs": [
    {
     "data": {
      "text/plain": [
       "Index(['attr1', 'attr2', 'attr3', 'attr4', 'attr5', 'attr6', 'class'], dtype='object')"
      ]
     },
     "execution_count": 2,
     "metadata": {},
     "output_type": "execute_result"
    },
    {
     "data": {
      "text/html": [
       "<div>\n",
       "<style scoped>\n",
       "    .dataframe tbody tr th:only-of-type {\n",
       "        vertical-align: middle;\n",
       "    }\n",
       "\n",
       "    .dataframe tbody tr th {\n",
       "        vertical-align: top;\n",
       "    }\n",
       "\n",
       "    .dataframe thead th {\n",
       "        text-align: right;\n",
       "    }\n",
       "</style>\n",
       "<table border=\"1\" class=\"dataframe\">\n",
       "  <thead>\n",
       "    <tr style=\"text-align: right;\">\n",
       "      <th></th>\n",
       "      <th>attr1</th>\n",
       "      <th>attr2</th>\n",
       "      <th>attr3</th>\n",
       "      <th>attr4</th>\n",
       "      <th>attr5</th>\n",
       "      <th>attr6</th>\n",
       "    </tr>\n",
       "  </thead>\n",
       "  <tbody>\n",
       "    <tr>\n",
       "      <th>count</th>\n",
       "      <td>1.118300e+04</td>\n",
       "      <td>1.118300e+04</td>\n",
       "      <td>1.118300e+04</td>\n",
       "      <td>1.118300e+04</td>\n",
       "      <td>1.118300e+04</td>\n",
       "      <td>1.118300e+04</td>\n",
       "    </tr>\n",
       "    <tr>\n",
       "      <th>mean</th>\n",
       "      <td>1.096536e-10</td>\n",
       "      <td>1.297595e-09</td>\n",
       "      <td>5.698113e-10</td>\n",
       "      <td>-2.435706e-09</td>\n",
       "      <td>-1.120680e-09</td>\n",
       "      <td>1.459483e-09</td>\n",
       "    </tr>\n",
       "    <tr>\n",
       "      <th>std</th>\n",
       "      <td>1.000000e+00</td>\n",
       "      <td>1.000000e+00</td>\n",
       "      <td>1.000000e+00</td>\n",
       "      <td>1.000000e+00</td>\n",
       "      <td>1.000000e+00</td>\n",
       "      <td>1.000000e+00</td>\n",
       "    </tr>\n",
       "    <tr>\n",
       "      <th>min</th>\n",
       "      <td>-7.844148e-01</td>\n",
       "      <td>-4.701953e-01</td>\n",
       "      <td>-5.916315e-01</td>\n",
       "      <td>-8.595525e-01</td>\n",
       "      <td>-3.778657e-01</td>\n",
       "      <td>-9.457232e-01</td>\n",
       "    </tr>\n",
       "    <tr>\n",
       "      <th>25%</th>\n",
       "      <td>-7.844148e-01</td>\n",
       "      <td>-4.701953e-01</td>\n",
       "      <td>-5.916315e-01</td>\n",
       "      <td>-8.595525e-01</td>\n",
       "      <td>-3.778657e-01</td>\n",
       "      <td>-9.457232e-01</td>\n",
       "    </tr>\n",
       "    <tr>\n",
       "      <th>50%</th>\n",
       "      <td>-1.085769e-01</td>\n",
       "      <td>-3.949941e-01</td>\n",
       "      <td>-2.309790e-01</td>\n",
       "      <td>-8.595525e-01</td>\n",
       "      <td>-3.778657e-01</td>\n",
       "      <td>-9.457232e-01</td>\n",
       "    </tr>\n",
       "    <tr>\n",
       "      <th>75%</th>\n",
       "      <td>3.139489e-01</td>\n",
       "      <td>-7.649473e-02</td>\n",
       "      <td>2.198366e-01</td>\n",
       "      <td>8.202077e-01</td>\n",
       "      <td>-3.778657e-01</td>\n",
       "      <td>1.016613e+00</td>\n",
       "    </tr>\n",
       "    <tr>\n",
       "      <th>max</th>\n",
       "      <td>3.150844e+01</td>\n",
       "      <td>5.085849e+00</td>\n",
       "      <td>2.947777e+01</td>\n",
       "      <td>9.591164e+00</td>\n",
       "      <td>2.361712e+01</td>\n",
       "      <td>1.949027e+00</td>\n",
       "    </tr>\n",
       "  </tbody>\n",
       "</table>\n",
       "</div>"
      ],
      "text/plain": [
       "              attr1         attr2         attr3         attr4         attr5  \\\n",
       "count  1.118300e+04  1.118300e+04  1.118300e+04  1.118300e+04  1.118300e+04   \n",
       "mean   1.096536e-10  1.297595e-09  5.698113e-10 -2.435706e-09 -1.120680e-09   \n",
       "std    1.000000e+00  1.000000e+00  1.000000e+00  1.000000e+00  1.000000e+00   \n",
       "min   -7.844148e-01 -4.701953e-01 -5.916315e-01 -8.595525e-01 -3.778657e-01   \n",
       "25%   -7.844148e-01 -4.701953e-01 -5.916315e-01 -8.595525e-01 -3.778657e-01   \n",
       "50%   -1.085769e-01 -3.949941e-01 -2.309790e-01 -8.595525e-01 -3.778657e-01   \n",
       "75%    3.139489e-01 -7.649473e-02  2.198366e-01  8.202077e-01 -3.778657e-01   \n",
       "max    3.150844e+01  5.085849e+00  2.947777e+01  9.591164e+00  2.361712e+01   \n",
       "\n",
       "              attr6  \n",
       "count  1.118300e+04  \n",
       "mean   1.459483e-09  \n",
       "std    1.000000e+00  \n",
       "min   -9.457232e-01  \n",
       "25%   -9.457232e-01  \n",
       "50%   -9.457232e-01  \n",
       "75%    1.016613e+00  \n",
       "max    1.949027e+00  "
      ]
     },
     "execution_count": 2,
     "metadata": {},
     "output_type": "execute_result"
    },
    {
     "data": {
      "text/plain": [
       "'-1'    10923\n",
       "'1'       260\n",
       "Name: class, dtype: int64"
      ]
     },
     "execution_count": 2,
     "metadata": {},
     "output_type": "execute_result"
    }
   ],
   "source": [
    "mammogram = pd.read_csv('../DATA/ML/mammography.csv')\n",
    "mammogram.columns\n",
    "mammogram.describe()\n",
    "mammogram['class'].value_counts()"
   ]
  },
  {
   "cell_type": "markdown",
   "metadata": {},
   "source": [
    "_class_ is the target variable.  Its two categories are labeled as '-1' and '1'.  Let's create a new target by coded 0 and 1, and then we'll drop _class_. "
   ]
  },
  {
   "cell_type": "code",
   "execution_count": 3,
   "metadata": {},
   "outputs": [
    {
     "data": {
      "text/plain": [
       "0    10923\n",
       "1      260\n",
       "Name: target, dtype: int64"
      ]
     },
     "execution_count": 3,
     "metadata": {},
     "output_type": "execute_result"
    },
    {
     "data": {
      "text/plain": [
       "Index(['attr1', 'attr2', 'attr3', 'attr4', 'attr5', 'attr6', 'target'], dtype='object')"
      ]
     },
     "execution_count": 3,
     "metadata": {},
     "output_type": "execute_result"
    }
   ],
   "source": [
    "mammogram['target']=mammogram['class'].replace({\"'-1'\":0,\"'1'\":1})\n",
    "mammogram.target.value_counts()\n",
    "mammogram2=mammogram.drop('class',axis=1)\n",
    "mammogram2.columns"
   ]
  },
  {
   "cell_type": "code",
   "execution_count": 4,
   "metadata": {},
   "outputs": [
    {
     "data": {
      "text/plain": [
       "array([[1, 0],\n",
       "       [1, 0],\n",
       "       [1, 0],\n",
       "       ...,\n",
       "       [0, 1],\n",
       "       [0, 1],\n",
       "       [0, 1]], dtype=uint8)"
      ]
     },
     "execution_count": 4,
     "metadata": {},
     "output_type": "execute_result"
    }
   ],
   "source": [
    "## Create numpy arrays\n",
    "\n",
    "X=mammogram.iloc[:,:6].to_numpy()  # features\n",
    "y=pd.get_dummies(mammogram.target)\n",
    "# y.sum(axis=0)\n",
    "y=y.to_numpy()   # target\n",
    "y"
   ]
  },
  {
   "cell_type": "markdown",
   "metadata": {},
   "source": [
    "# Training, Test, and Validation Splits \n",
    "\n",
    "We'll use 80% of the data for training and testing, and the remaining 20% for final validation of the model."
   ]
  },
  {
   "cell_type": "code",
   "execution_count": 5,
   "metadata": {},
   "outputs": [],
   "source": [
    "np.random.seed(99)"
   ]
  },
  {
   "cell_type": "code",
   "execution_count": 6,
   "metadata": {},
   "outputs": [],
   "source": [
    "stratSplit=StratifiedShuffleSplit(\n",
    "        n_splits=1,\n",
    "        test_size=0.40,\n",
    "        random_state=99\n",
    "        )\n",
    "for trainNdx,testNdx in stratSplit.split(X,y):\n",
    "    X_train=X[trainNdx]\n",
    "    y_train=y[trainNdx]\n",
    "    X_test0=X[testNdx]\n",
    "    y_test0=y[testNdx]\n",
    "    \n"
   ]
  },
  {
   "cell_type": "code",
   "execution_count": 7,
   "metadata": {},
   "outputs": [],
   "source": [
    "stratSplit=StratifiedShuffleSplit(\n",
    "        n_splits=1,\n",
    "        test_size=0.50,\n",
    "        random_state=99\n",
    "            )\n",
    "for valNdx, testNdx in stratSplit.split(X_test0,y_test0):\n",
    "        X_valid=X_test0[valNdx]\n",
    "        y_valid=y_test0[valNdx]\n",
    "        X_test=X_test0[testNdx]\n",
    "        y_test=y_test0[testNdx]\n"
   ]
  },
  {
   "cell_type": "markdown",
   "metadata": {},
   "source": [
    "# MLP with Tensorflow and Keras \n",
    "\n",
    "We'll being with training a single hidden layer feedforward NLP that predicts our target variable using the six features attr1 through attr6 as inputs.\n",
    "\n",
    "A \"Sequential\" Keras model is just a \"stack\" of layers connected sequentially."
   ]
  },
  {
   "cell_type": "markdown",
   "metadata": {},
   "source": [
    "## Network Specification"
   ]
  },
  {
   "cell_type": "code",
   "execution_count": 8,
   "metadata": {},
   "outputs": [],
   "source": [
    "# You can use the following to reset the graph, or to wipe it out completely.\n",
    "keras.backend.clear_session()  # this resets\n",
    "#del(mlp)                       # this deletes the graph"
   ]
  },
  {
   "cell_type": "code",
   "execution_count": 9,
   "metadata": {},
   "outputs": [
    {
     "name": "stdout",
     "output_type": "stream",
     "text": [
      "WARNING:tensorflow:From /opt/conda/lib/python3.7/site-packages/tensorflow/python/ops/resource_variable_ops.py:435: colocate_with (from tensorflow.python.framework.ops) is deprecated and will be removed in a future version.\n",
      "Instructions for updating:\n",
      "Colocations handled automatically by placer.\n"
     ]
    }
   ],
   "source": [
    "mlp = keras.models.Sequential() #stacked layers \n",
    "mlp.add(keras.layers.Dense(4,activation='relu',input_shape=(6,))) # six features per row in X\n",
    "mlp.add(keras.layers.Dense(2,activation=\"softmax\"))  # output layer: two categories, normalized to get probs"
   ]
  },
  {
   "cell_type": "code",
   "execution_count": 10,
   "metadata": {},
   "outputs": [
    {
     "data": {
      "text/plain": [
       "[<tensorflow.python.keras.layers.core.Dense at 0x7f8260e9df28>,\n",
       " <tensorflow.python.keras.layers.core.Dense at 0x7f8260e9d358>]"
      ]
     },
     "execution_count": 10,
     "metadata": {},
     "output_type": "execute_result"
    }
   ],
   "source": [
    "# Verifying the layers\n",
    "mlp.layers "
   ]
  },
  {
   "cell_type": "code",
   "execution_count": 11,
   "metadata": {},
   "outputs": [
    {
     "name": "stdout",
     "output_type": "stream",
     "text": [
      "_________________________________________________________________\n",
      "Layer (type)                 Output Shape              Param #   \n",
      "=================================================================\n",
      "dense (Dense)                (None, 4)                 28        \n",
      "_________________________________________________________________\n",
      "dense_1 (Dense)              (None, 2)                 10        \n",
      "=================================================================\n",
      "Total params: 38\n",
      "Trainable params: 38\n",
      "Non-trainable params: 0\n",
      "_________________________________________________________________\n"
     ]
    }
   ],
   "source": [
    "mlp.summary()"
   ]
  },
  {
   "cell_type": "code",
   "execution_count": 12,
   "metadata": {},
   "outputs": [],
   "source": [
    "## compile the network\n",
    "\n",
    "mlp.compile(loss='categorical_crossentropy',\n",
    "           optimizer='sgd',\n",
    "           metrics=['accuracy'])"
   ]
  },
  {
   "cell_type": "markdown",
   "metadata": {},
   "source": [
    "_sdg_, above is \"stochastic gradient descent.\"\n",
    "\n",
    "Keras provides a number of predefined loss functions.  See:\n",
    "\n",
    "[Keras Loss Functions](https://keras.io/losses/)\n",
    "\n",
    "Metrics:\n",
    "\n",
    "[Keras metrics](https://keras.io/metrics/)"
   ]
  },
  {
   "cell_type": "markdown",
   "metadata": {},
   "source": [
    "## Training\n",
    "\n",
    "Output epoch by epoch is surpressed by _verbose_=0."
   ]
  },
  {
   "cell_type": "code",
   "execution_count": 31,
   "metadata": {},
   "outputs": [
    {
     "name": "stdout",
     "output_type": "stream",
     "text": [
      "21.8 s ± 445 ms per loop (mean ± std. dev. of 7 runs, 1 loop each)\n"
     ]
    }
   ],
   "source": [
    "%timeit mlp.fit(X_train,y_train,epochs=50,verbose=0,validation_data=(X_test,y_test))\n"
   ]
  },
  {
   "cell_type": "code",
   "execution_count": 13,
   "metadata": {},
   "outputs": [
    {
     "name": "stdout",
     "output_type": "stream",
     "text": [
      "WARNING:tensorflow:From /opt/conda/lib/python3.7/site-packages/tensorflow/python/ops/math_ops.py:3066: to_int32 (from tensorflow.python.ops.math_ops) is deprecated and will be removed in a future version.\n",
      "Instructions for updating:\n",
      "Use tf.cast instead.\n"
     ]
    }
   ],
   "source": [
    "mlpTraining=mlp.fit(X_train,y_train,epochs=50,verbose=0,\n",
    "                   validation_data=(X_test,y_test))"
   ]
  },
  {
   "cell_type": "markdown",
   "metadata": {},
   "source": [
    "## Training By Epoch"
   ]
  },
  {
   "cell_type": "code",
   "execution_count": 14,
   "metadata": {},
   "outputs": [
    {
     "data": {
      "image/png": "[encoded data removed]",
      "text/plain": [
       "<Figure size 576x360 with 1 Axes>"
      ]
     },
     "metadata": {
      "needs_background": "light"
     },
     "output_type": "display_data"
    }
   ],
   "source": [
    "historyDF=pd.DataFrame(mlp.history.history)\n",
    "historyDF.plot(figsize=(8,5))\n",
    "plt.grid(True)\n",
    "plt.gca().set_ylim(0,1)\n",
    "plt.title(\"Training and Test Metrics by Epoch\")\n",
    "plt.xlabel('Epoch Number')\n",
    "plt.show();"
   ]
  },
  {
   "cell_type": "markdown",
   "metadata": {},
   "source": [
    "It looks like training had \"converged\" by about half way through the epochs.  _But do you see anything odd?_"
   ]
  },
  {
   "cell_type": "code",
   "execution_count": 15,
   "metadata": {},
   "outputs": [
    {
     "data": {
      "image/png": "[encoded data removed]",
      "text/plain": [
       "<Figure size 576x360 with 1 Axes>"
      ]
     },
     "metadata": {
      "needs_background": "light"
     },
     "output_type": "display_data"
    }
   ],
   "source": [
    "historyDF=pd.DataFrame(mlp.history.history).iloc[:6,:]\n",
    "historyDF.plot(figsize=(8,5))\n",
    "plt.grid(True)\n",
    "plt.gca().set_ylim(0,1)\n",
    "plt.title(\"Training and Test Metrics by Epoch\")\n",
    "plt.xlabel('Epoch Number')\n",
    "plt.show();"
   ]
  },
  {
   "cell_type": "markdown",
   "metadata": {},
   "source": [
    "test data가 더 정확해보인다. \n",
    "\n",
    "Note that the training and test metrics are not computed at the same time.  The training metrics are computed during an epoch.  The test metrics are computed at the _end_ of an epoch.  So the training measures should be shifted to the left w.r.t. the test metrics."
   ]
  },
  {
   "cell_type": "markdown",
   "metadata": {},
   "source": [
    "## Evaluation\n",
    "\n",
    "Loss and accuracy on the test data."
   ]
  },
  {
   "cell_type": "code",
   "execution_count": 16,
   "metadata": {},
   "outputs": [
    {
     "name": "stdout",
     "output_type": "stream",
     "text": [
      "Test Data: loss 0.048 accuracy 0.986\n"
     ]
    }
   ],
   "source": [
    "testEval=mlp.evaluate(X_test,y_test,verbose=0)\n",
    "print(\"Test Data: loss {:1.3f} accuracy {:1.3f}\".format(testEval[0],testEval[1]))"
   ]
  },
  {
   "cell_type": "markdown",
   "metadata": {},
   "source": [
    "Loss and accuracy on the _validation_ data."
   ]
  },
  {
   "cell_type": "code",
   "execution_count": 17,
   "metadata": {},
   "outputs": [
    {
     "name": "stdout",
     "output_type": "stream",
     "text": [
      "Validation Data: loss 0.055 accuracy 0.984\n"
     ]
    }
   ],
   "source": [
    "valEval=mlp.evaluate(X_valid,y_valid,verbose=0)\n",
    "print(\"Validation Data: loss {:1.3f} accuracy {:1.3f}\".format(valEval[0],valEval[1]))"
   ]
  },
  {
   "cell_type": "markdown",
   "metadata": {},
   "source": [
    "## Prediction\n",
    "\n",
    "This is done pretty much like with scikit-learn methods.\n",
    "\n",
    "Let's predict using the validation data."
   ]
  },
  {
   "cell_type": "code",
   "execution_count": 18,
   "metadata": {},
   "outputs": [
    {
     "data": {
      "text/plain": [
       "0    2216\n",
       "1      21\n",
       "dtype: int64"
      ]
     },
     "execution_count": 18,
     "metadata": {},
     "output_type": "execute_result"
    }
   ],
   "source": [
    "y_pred=mlp.predict_classes(X_valid)\n",
    "pd.Series(y_pred).value_counts()"
   ]
  },
  {
   "cell_type": "markdown",
   "metadata": {},
   "source": [
    "## Confusion!"
   ]
  },
  {
   "cell_type": "code",
   "execution_count": 19,
   "metadata": {},
   "outputs": [
    {
     "data": {
      "text/plain": [
       "array([[2183,    2],\n",
       "       [  33,   19]])"
      ]
     },
     "execution_count": 19,
     "metadata": {},
     "output_type": "execute_result"
    }
   ],
   "source": [
    "confusion_matrix(y_valid[:,1],y_pred)"
   ]
  },
  {
   "cell_type": "markdown",
   "metadata": {},
   "source": [
    "## Classification Summary"
   ]
  },
  {
   "cell_type": "code",
   "execution_count": 20,
   "metadata": {},
   "outputs": [
    {
     "name": "stdout",
     "output_type": "stream",
     "text": [
      "Classification Summary Based on Validation Data\n",
      "\n",
      "              precision    recall  f1-score   support\n",
      "\n",
      "           0       0.99      1.00      0.99      2185\n",
      "           1       0.90      0.37      0.52        52\n",
      "\n",
      "   micro avg       0.98      0.98      0.98      2237\n",
      "   macro avg       0.94      0.68      0.76      2237\n",
      "weighted avg       0.98      0.98      0.98      2237\n",
      "\n"
     ]
    }
   ],
   "source": [
    "print(\"Classification Summary Based on Validation Data\\n\")\n",
    "print(classification_report(y_valid[:,1],y_pred))"
   ]
  },
  {
   "cell_type": "markdown",
   "metadata": {},
   "source": [
    "## Predicted Probabilities"
   ]
  },
  {
   "cell_type": "code",
   "execution_count": 17,
   "metadata": {},
   "outputs": [
    {
     "data": {
      "text/plain": [
       "count    2237.000000\n",
       "mean        0.023719\n",
       "std         0.083977\n",
       "min         0.003307\n",
       "25%         0.006792\n",
       "50%         0.008423\n",
       "75%         0.011341\n",
       "max         0.999928\n",
       "dtype: float64"
      ]
     },
     "execution_count": 17,
     "metadata": {},
     "output_type": "execute_result"
    }
   ],
   "source": [
    "y_predProb=mlp.predict_proba(X_valid)\n",
    "pd.Series(y_predProb[:,1]).describe()"
   ]
  },
  {
   "cell_type": "code",
   "execution_count": 22,
   "metadata": {},
   "outputs": [
    {
     "data": {
      "text/plain": [
       "(2237, 2)"
      ]
     },
     "execution_count": 22,
     "metadata": {},
     "output_type": "execute_result"
    },
    {
     "data": {
      "text/plain": [
       "(2237, 2)"
      ]
     },
     "execution_count": 22,
     "metadata": {},
     "output_type": "execute_result"
    }
   ],
   "source": [
    "y_valid.shape\n",
    "y_predProb.shape"
   ]
  },
  {
   "cell_type": "markdown",
   "metadata": {},
   "source": [
    "## ROC, AUC \n",
    "\n",
    "Note that \"skplt.metrics.plot_roc()\" expects a _matrix_ of predicted probabilities, one col per class."
   ]
  },
  {
   "cell_type": "code",
   "execution_count": 19,
   "metadata": {},
   "outputs": [
    {
     "data": {
      "image/png": "[encoded data removed]",
      "text/plain": [
       "<Figure size 504x504 with 1 Axes>"
      ]
     },
     "metadata": {
      "needs_background": "light"
     },
     "output_type": "display_data"
    }
   ],
   "source": [
    "skplt.metrics.plot_roc(y_valid[:,1], y_predProb, title=\"Validation Data ROC\",\n",
    "                      figsize=(7,7),\n",
    "                      plot_micro=False,\n",
    "                      plot_macro=False,\n",
    "                      classes_to_plot=1)\n",
    "plt.show();"
   ]
  },
  {
   "cell_type": "code",
   "execution_count": 33,
   "metadata": {},
   "outputs": [
    {
     "ename": "ImportError",
     "evalue": "Failed to import `pydot`. Please install `pydot`. For example with `pip install pydot`.",
     "output_type": "error",
     "traceback": [
      "\u001b[0;31m---------------------------------------------------------------------------\u001b[0m",
      "\u001b[0;31mImportError\u001b[0m                               Traceback (most recent call last)",
      "\u001b[0;32m<ipython-input-33-72832cdc65c7>\u001b[0m in \u001b[0;36m<module>\u001b[0;34m\u001b[0m\n\u001b[1;32m      1\u001b[0m \u001b[0;32mfrom\u001b[0m \u001b[0mkeras\u001b[0m\u001b[0;34m.\u001b[0m\u001b[0mutils\u001b[0m \u001b[0;32mimport\u001b[0m \u001b[0mplot_model\u001b[0m\u001b[0;34m\u001b[0m\u001b[0;34m\u001b[0m\u001b[0m\n\u001b[0;32m----> 2\u001b[0;31m \u001b[0mplot_model\u001b[0m\u001b[0;34m(\u001b[0m\u001b[0mmlp\u001b[0m\u001b[0;34m,\u001b[0m \u001b[0mto_file\u001b[0m\u001b[0;34m=\u001b[0m\u001b[0;34m'model.png'\u001b[0m\u001b[0;34m)\u001b[0m\u001b[0;34m\u001b[0m\u001b[0;34m\u001b[0m\u001b[0m\n\u001b[0m",
      "\u001b[0;32m/opt/conda/lib/python3.7/site-packages/keras/utils/vis_utils.py\u001b[0m in \u001b[0;36mplot_model\u001b[0;34m(model, to_file, show_shapes, show_layer_names, rankdir)\u001b[0m\n\u001b[1;32m    130\u001b[0m             \u001b[0;34m'LR'\u001b[0m \u001b[0mcreates\u001b[0m \u001b[0ma\u001b[0m \u001b[0mhorizontal\u001b[0m \u001b[0mplot\u001b[0m\u001b[0;34m.\u001b[0m\u001b[0;34m\u001b[0m\u001b[0;34m\u001b[0m\u001b[0m\n\u001b[1;32m    131\u001b[0m     \"\"\"\n\u001b[0;32m--> 132\u001b[0;31m     \u001b[0mdot\u001b[0m \u001b[0;34m=\u001b[0m \u001b[0mmodel_to_dot\u001b[0m\u001b[0;34m(\u001b[0m\u001b[0mmodel\u001b[0m\u001b[0;34m,\u001b[0m \u001b[0mshow_shapes\u001b[0m\u001b[0;34m,\u001b[0m \u001b[0mshow_layer_names\u001b[0m\u001b[0;34m,\u001b[0m \u001b[0mrankdir\u001b[0m\u001b[0;34m)\u001b[0m\u001b[0;34m\u001b[0m\u001b[0;34m\u001b[0m\u001b[0m\n\u001b[0m\u001b[1;32m    133\u001b[0m     \u001b[0m_\u001b[0m\u001b[0;34m,\u001b[0m \u001b[0mextension\u001b[0m \u001b[0;34m=\u001b[0m \u001b[0mos\u001b[0m\u001b[0;34m.\u001b[0m\u001b[0mpath\u001b[0m\u001b[0;34m.\u001b[0m\u001b[0msplitext\u001b[0m\u001b[0;34m(\u001b[0m\u001b[0mto_file\u001b[0m\u001b[0;34m)\u001b[0m\u001b[0;34m\u001b[0m\u001b[0;34m\u001b[0m\u001b[0m\n\u001b[1;32m    134\u001b[0m     \u001b[0;32mif\u001b[0m \u001b[0;32mnot\u001b[0m \u001b[0mextension\u001b[0m\u001b[0;34m:\u001b[0m\u001b[0;34m\u001b[0m\u001b[0;34m\u001b[0m\u001b[0m\n",
      "\u001b[0;32m/opt/conda/lib/python3.7/site-packages/keras/utils/vis_utils.py\u001b[0m in \u001b[0;36mmodel_to_dot\u001b[0;34m(model, show_shapes, show_layer_names, rankdir)\u001b[0m\n\u001b[1;32m     53\u001b[0m     \u001b[0;32mfrom\u001b[0m \u001b[0;34m.\u001b[0m\u001b[0;34m.\u001b[0m\u001b[0mmodels\u001b[0m \u001b[0;32mimport\u001b[0m \u001b[0mSequential\u001b[0m\u001b[0;34m\u001b[0m\u001b[0;34m\u001b[0m\u001b[0m\n\u001b[1;32m     54\u001b[0m \u001b[0;34m\u001b[0m\u001b[0m\n\u001b[0;32m---> 55\u001b[0;31m     \u001b[0m_check_pydot\u001b[0m\u001b[0;34m(\u001b[0m\u001b[0;34m)\u001b[0m\u001b[0;34m\u001b[0m\u001b[0;34m\u001b[0m\u001b[0m\n\u001b[0m\u001b[1;32m     56\u001b[0m     \u001b[0mdot\u001b[0m \u001b[0;34m=\u001b[0m \u001b[0mpydot\u001b[0m\u001b[0;34m.\u001b[0m\u001b[0mDot\u001b[0m\u001b[0;34m(\u001b[0m\u001b[0;34m)\u001b[0m\u001b[0;34m\u001b[0m\u001b[0;34m\u001b[0m\u001b[0m\n\u001b[1;32m     57\u001b[0m     \u001b[0mdot\u001b[0m\u001b[0;34m.\u001b[0m\u001b[0mset\u001b[0m\u001b[0;34m(\u001b[0m\u001b[0;34m'rankdir'\u001b[0m\u001b[0;34m,\u001b[0m \u001b[0mrankdir\u001b[0m\u001b[0;34m)\u001b[0m\u001b[0;34m\u001b[0m\u001b[0;34m\u001b[0m\u001b[0m\n",
      "\u001b[0;32m/opt/conda/lib/python3.7/site-packages/keras/utils/vis_utils.py\u001b[0m in \u001b[0;36m_check_pydot\u001b[0;34m()\u001b[0m\n\u001b[1;32m     18\u001b[0m     \u001b[0;32mif\u001b[0m \u001b[0mpydot\u001b[0m \u001b[0;32mis\u001b[0m \u001b[0;32mNone\u001b[0m\u001b[0;34m:\u001b[0m\u001b[0;34m\u001b[0m\u001b[0;34m\u001b[0m\u001b[0m\n\u001b[1;32m     19\u001b[0m         raise ImportError(\n\u001b[0;32m---> 20\u001b[0;31m             \u001b[0;34m'Failed to import `pydot`. '\u001b[0m\u001b[0;34m\u001b[0m\u001b[0;34m\u001b[0m\u001b[0m\n\u001b[0m\u001b[1;32m     21\u001b[0m             \u001b[0;34m'Please install `pydot`. '\u001b[0m\u001b[0;34m\u001b[0m\u001b[0;34m\u001b[0m\u001b[0m\n\u001b[1;32m     22\u001b[0m             'For example with `pip install pydot`.')\n",
      "\u001b[0;31mImportError\u001b[0m: Failed to import `pydot`. Please install `pydot`. For example with `pip install pydot`."
     ]
    }
   ],
   "source": [
    "from keras.utils import plot_model\n",
    "plot_model(mlp, to_file='model.png')"
   ]
  },
  {
   "cell_type": "code",
   "execution_count": 28,
   "metadata": {},
   "outputs": [
    {
     "ename": "ImportError",
     "evalue": "cannot import name 'model_to_dot' from 'keras.utils' (/opt/conda/lib/python3.7/site-packages/keras/utils/__init__.py)",
     "output_type": "error",
     "traceback": [
      "\u001b[0;31m---------------------------------------------------------------------------\u001b[0m",
      "\u001b[0;31mImportError\u001b[0m                               Traceback (most recent call last)",
      "\u001b[0;32m<ipython-input-28-80f19cd42230>\u001b[0m in \u001b[0;36m<module>\u001b[0;34m\u001b[0m\n\u001b[1;32m      1\u001b[0m \u001b[0;32mfrom\u001b[0m \u001b[0mIPython\u001b[0m\u001b[0;34m.\u001b[0m\u001b[0mdisplay\u001b[0m \u001b[0;32mimport\u001b[0m \u001b[0mSVG\u001b[0m\u001b[0;34m\u001b[0m\u001b[0;34m\u001b[0m\u001b[0m\n\u001b[0;32m----> 2\u001b[0;31m \u001b[0;32mfrom\u001b[0m \u001b[0mkeras\u001b[0m\u001b[0;34m.\u001b[0m\u001b[0mutils\u001b[0m \u001b[0;32mimport\u001b[0m \u001b[0mmodel_to_dot\u001b[0m\u001b[0;34m\u001b[0m\u001b[0;34m\u001b[0m\u001b[0m\n\u001b[0m\u001b[1;32m      3\u001b[0m \u001b[0;34m\u001b[0m\u001b[0m\n\u001b[1;32m      4\u001b[0m \u001b[0mSVG\u001b[0m\u001b[0;34m(\u001b[0m\u001b[0mmodel_to_dot\u001b[0m\u001b[0;34m(\u001b[0m\u001b[0mmlp\u001b[0m\u001b[0;34m)\u001b[0m\u001b[0;34m.\u001b[0m\u001b[0mcreate\u001b[0m\u001b[0;34m(\u001b[0m\u001b[0mprog\u001b[0m\u001b[0;34m=\u001b[0m\u001b[0;34m'dot'\u001b[0m\u001b[0;34m,\u001b[0m \u001b[0mformat\u001b[0m\u001b[0;34m=\u001b[0m\u001b[0;34m'svg'\u001b[0m\u001b[0;34m)\u001b[0m\u001b[0;34m)\u001b[0m\u001b[0;34m\u001b[0m\u001b[0;34m\u001b[0m\u001b[0m\n",
      "\u001b[0;31mImportError\u001b[0m: cannot import name 'model_to_dot' from 'keras.utils' (/opt/conda/lib/python3.7/site-packages/keras/utils/__init__.py)"
     ]
    }
   ],
   "source": [
    "from IPython.display import SVG\n",
    "from keras.utils import model_to_dot\n",
    "\n",
    "SVG(model_to_dot(mlp).create(prog='dot', format='svg'))"
   ]
  },
  {
   "cell_type": "markdown",
   "metadata": {},
   "source": [
    "## Unbalanced Target Labels\n",
    "\n",
    "You can see that this MLP has difficulty with unbalanced labels. Here's something to try;"
   ]
  },
  {
   "cell_type": "markdown",
   "metadata": {},
   "source": [
    "# A UDU: Train the MLP By Weighting Observations\n",
    "\n",
    "One of the ways that can help training on data like this is to weight observations' contributions to the loss function based on how frequent, or infrequent, they are.  The Keras [fit function](https://keras.io/models/model/#fit) has an option _class weight_ that can be defined by a dict that maps weights to cases.  It should look something like {0:wt0, 1:wt1}, where wt0 and wt1 are weights (float) to be used for labels 0 and 1, respectively. See if you can apply this kind of weighting of the loss function when retraining the MLP, above.\n",
    "\n",
    "One question is, what data should be used to calculate the weights?"
   ]
  },
  {
   "cell_type": "markdown",
   "metadata": {},
   "source": [
    "# Another UDU: See If you Can Improve the MLP \n",
    "\n",
    "Can you improve the MLP, above, by adding layers to it?  By changing the number of nodes per layer? By using different learning rates? Using different activation functions?"
   ]
  },
  {
   "cell_type": "markdown",
   "metadata": {},
   "source": [
    "# Regularization by \"Dropout\"\n",
    "\n",
    "Several different methods for regularizing neural networks can be used. One of them consists of randomly removing, \"or dropping out,\" individual neurons during training.  This effectively sets the outputs of these neurons doing an training iteration.  It's thought that doing this causes neurons to be less specialized.\n",
    "\n",
    "Let's try applying drop-out to a hidden layer of a version of the MLP that's above, A two hidden layer MLP.  The drop-out will be between the 1<sup>st</sup> and the 2<sup>nd</sup> hidden layers."
   ]
  },
  {
   "cell_type": "markdown",
   "metadata": {},
   "source": [
    "## 3L Network Specification With Dropout, p(Dropout=0.20)"
   ]
  },
  {
   "cell_type": "code",
   "execution_count": 20,
   "metadata": {},
   "outputs": [
    {
     "name": "stdout",
     "output_type": "stream",
     "text": [
      "WARNING:tensorflow:From /opt/conda/lib/python3.7/site-packages/tensorflow/python/keras/layers/core.py:143: calling dropout (from tensorflow.python.ops.nn_ops) with keep_prob is deprecated and will be removed in a future version.\n",
      "Instructions for updating:\n",
      "Please use `rate` instead of `keep_prob`. Rate should be set to `rate = 1 - keep_prob`.\n"
     ]
    }
   ],
   "source": [
    "# del mlp2\n",
    "keras.backend.clear_session()  # this resets\n",
    "mlp2 = keras.models.Sequential() #stacked layers \n",
    "mlp2.add(keras.layers.Dense(6,activation='relu',input_shape=(6,))) # six features per row in X\n",
    "mlp2.add(keras.layers.Dropout(0.2))\n",
    "mlp2.add(keras.layers.Dense(4,activation='relu'))\n",
    "mlp2.add(keras.layers.Dense(2,activation=\"softmax\"))  # output layer: two categories, normalized to get probs"
   ]
  },
  {
   "cell_type": "code",
   "execution_count": 21,
   "metadata": {},
   "outputs": [
    {
     "name": "stdout",
     "output_type": "stream",
     "text": [
      "_________________________________________________________________\n",
      "Layer (type)                 Output Shape              Param #   \n",
      "=================================================================\n",
      "dense (Dense)                (None, 6)                 42        \n",
      "_________________________________________________________________\n",
      "dropout (Dropout)            (None, 6)                 0         \n",
      "_________________________________________________________________\n",
      "dense_1 (Dense)              (None, 4)                 28        \n",
      "_________________________________________________________________\n",
      "dense_2 (Dense)              (None, 2)                 10        \n",
      "=================================================================\n",
      "Total params: 80\n",
      "Trainable params: 80\n",
      "Non-trainable params: 0\n",
      "_________________________________________________________________\n"
     ]
    }
   ],
   "source": [
    "mlp2.summary()"
   ]
  },
  {
   "cell_type": "markdown",
   "metadata": {},
   "source": [
    "## Compiling"
   ]
  },
  {
   "cell_type": "code",
   "execution_count": 22,
   "metadata": {},
   "outputs": [],
   "source": [
    "mlp2.compile(loss='categorical_crossentropy',\n",
    "           optimizer='sgd',\n",
    "           metrics=['accuracy'])\n"
   ]
  },
  {
   "cell_type": "markdown",
   "metadata": {},
   "source": [
    "## Training"
   ]
  },
  {
   "cell_type": "code",
   "execution_count": 23,
   "metadata": {},
   "outputs": [],
   "source": [
    "mlp2Training=mlp2.fit(X_train,y_train,epochs=50,verbose=0,\n",
    "                   validation_data=(X_test,y_test))"
   ]
  },
  {
   "cell_type": "markdown",
   "metadata": {},
   "source": [
    "## Evaluation Using Validation Data"
   ]
  },
  {
   "cell_type": "code",
   "execution_count": 35,
   "metadata": {},
   "outputs": [
    {
     "name": "stdout",
     "output_type": "stream",
     "text": [
      "Validation Data: loss 0.071 accuracy 0.977\n"
     ]
    }
   ],
   "source": [
    "valEval2=mlp2.evaluate(X_valid,y_valid,verbose=0)\n",
    "print(\"Validation Data: loss {:1.3f} accuracy {:1.3f}\".format(valEval2[0],valEval2[1]))"
   ]
  },
  {
   "cell_type": "markdown",
   "metadata": {},
   "source": [
    "## Confusion Again!"
   ]
  },
  {
   "cell_type": "code",
   "execution_count": 36,
   "metadata": {},
   "outputs": [
    {
     "data": {
      "text/plain": [
       "0    2237\n",
       "dtype: int64"
      ]
     },
     "execution_count": 36,
     "metadata": {},
     "output_type": "execute_result"
    }
   ],
   "source": [
    "y_pred2=mlp2.predict_classes(X_valid)\n",
    "pd.Series(y_pred2).value_counts()"
   ]
  },
  {
   "cell_type": "code",
   "execution_count": 37,
   "metadata": {},
   "outputs": [
    {
     "data": {
      "text/plain": [
       "array([[2185,    0],\n",
       "       [  52,    0]])"
      ]
     },
     "execution_count": 37,
     "metadata": {},
     "output_type": "execute_result"
    }
   ],
   "source": [
    "confusion_matrix(y_valid[:,1],y_pred2)"
   ]
  },
  {
   "cell_type": "code",
   "execution_count": 38,
   "metadata": {},
   "outputs": [
    {
     "name": "stdout",
     "output_type": "stream",
     "text": [
      "Classification Summary Based on Validation Data\n",
      "\n",
      "              precision    recall  f1-score   support\n",
      "\n",
      "           0       0.98      1.00      0.99      2185\n",
      "           1       0.00      0.00      0.00        52\n",
      "\n",
      "   micro avg       0.98      0.98      0.98      2237\n",
      "   macro avg       0.49      0.50      0.49      2237\n",
      "weighted avg       0.95      0.98      0.97      2237\n",
      "\n"
     ]
    },
    {
     "name": "stderr",
     "output_type": "stream",
     "text": [
      "/opt/conda/lib/python3.7/site-packages/sklearn/metrics/classification.py:1143: UndefinedMetricWarning: Precision and F-score are ill-defined and being set to 0.0 in labels with no predicted samples.\n",
      "  'precision', 'predicted', average, warn_for)\n"
     ]
    }
   ],
   "source": [
    "print(\"Classification Summary Based on Validation Data\\n\")\n",
    "print(classification_report(y_valid[:,1],y_pred2))"
   ]
  },
  {
   "cell_type": "markdown",
   "metadata": {},
   "source": [
    "## Predicted Probabilities"
   ]
  },
  {
   "cell_type": "code",
   "execution_count": 39,
   "metadata": {},
   "outputs": [],
   "source": [
    "# predicted probabilities\n",
    "y_predProb2=mlp2.predict_proba(X_valid)"
   ]
  },
  {
   "cell_type": "markdown",
   "metadata": {},
   "source": [
    "## ROC, AUC"
   ]
  },
  {
   "cell_type": "code",
   "execution_count": 40,
   "metadata": {},
   "outputs": [
    {
     "data": {
      "image/png": "[encoded data removed]",
      "text/plain": [
       "<Figure size 504x504 with 1 Axes>"
      ]
     },
     "metadata": {
      "needs_background": "light"
     },
     "output_type": "display_data"
    }
   ],
   "source": [
    "skplt.metrics.plot_roc(y_valid[:,1], y_predProb2, title=\"Validation Data ROC\",\n",
    "                      figsize=(7,7),\n",
    "                      plot_micro=False,\n",
    "                      classes_to_plot=1)\n",
    "plt.show();"
   ]
  },
  {
   "cell_type": "markdown",
   "metadata": {},
   "source": [
    "# \"Tweaking\" Dropout Regularization\n",
    "\n",
    "* Dropout can be applied to input layers.\n",
    "* It will be more beneficial when applied to larger, rather than smaller, networks.\n",
    "* Dropout rates that are smaller, e.g. < 0.50, will tend to provide more benefit."
   ]
  },
  {
   "cell_type": "markdown",
   "metadata": {},
   "source": [
    "## UDU:  Try Additional Dropouts\n",
    "\n",
    "See if you can bump up the AUC of the above."
   ]
  },
  {
   "cell_type": "markdown",
   "metadata": {},
   "source": [
    "# Saving and Restoring A Model\n",
    "\n",
    "This can be handy if it takes a long time to train a model, or if you have a model you want to use again later."
   ]
  },
  {
   "cell_type": "markdown",
   "metadata": {},
   "source": [
    "# It turns out that some versions of keras have difficulty \n",
    "\n",
    "#Alternative: \n",
    "\n",
    "model_path = \"yourpath.hdf5\"  # it contains the architecture and the weights\n",
    "model = create_model(...)  # the same cond you used to create the model before training\n",
    "model.load_weights(model_path)"
   ]
  },
  {
   "cell_type": "code",
   "execution_count": 41,
   "metadata": {},
   "outputs": [],
   "source": [
    "mlp2.save('my_mlp2_model.h5')"
   ]
  },
  {
   "cell_type": "code",
   "execution_count": 42,
   "metadata": {},
   "outputs": [
    {
     "name": "stdout",
     "output_type": "stream",
     "text": [
      "_________________________________________________________________\n",
      "Layer (type)                 Output Shape              Param #   \n",
      "=================================================================\n",
      "dense (Dense)                (None, 6)                 42        \n",
      "_________________________________________________________________\n",
      "dropout (Dropout)            (None, 6)                 0         \n",
      "_________________________________________________________________\n",
      "dense_1 (Dense)              (None, 4)                 28        \n",
      "_________________________________________________________________\n",
      "dense_2 (Dense)              (None, 2)                 10        \n",
      "=================================================================\n",
      "Total params: 80\n",
      "Trainable params: 80\n",
      "Non-trainable params: 0\n",
      "_________________________________________________________________\n"
     ]
    }
   ],
   "source": [
    "mlp2IsBack=keras.models.load_model('my_mlp2_model.h5')\n",
    "mlp2IsBack.summary()"
   ]
  },
  {
   "cell_type": "markdown",
   "metadata": {},
   "source": [
    "# Early Stopping\n",
    "\n",
    "This is a regularization method based on the idea that a better model can be obtained by not _over-training_.  It can be observed that when using gradient ascent models it's possible to train a model so much that it's performance on held out validation data starts getting worse and worse.  In the following we're going to apply a simple procedure to find the \"best\" a priori specified MLP model by discovering the epoch of the model the provides the best results.  Note that early stopping can be used with all sorts of gradient descent methods."
   ]
  },
  {
   "cell_type": "code",
   "execution_count": 43,
   "metadata": {},
   "outputs": [],
   "source": [
    "# Sequential Layers\n",
    "keras.backend.clear_session()  # this resets\n",
    "mlp3 = keras.models.Sequential() #stacked layers\n",
    "# mlp3.add(keras.layers.InputLayer(input_shape=[6,]))  \n",
    "mlp3.add(keras.layers.Dense(4,activation='relu',input_shape=(6,)))  # six features per row in X\n",
    "mlp3.add(keras.layers.Dense(3,activation='relu'))\n",
    "mlp3.add(keras.layers.Dense(2,activation=\"softmax\"))  # output layer: two categories, normalized to get probs"
   ]
  },
  {
   "cell_type": "code",
   "execution_count": 44,
   "metadata": {},
   "outputs": [],
   "source": [
    "# Compiling the network\n",
    "\n",
    "mlp3.compile(loss='categorical_crossentropy',\n",
    "           optimizer='sgd',\n",
    "           metrics=['accuracy'])\n"
   ]
  },
  {
   "cell_type": "code",
   "execution_count": 48,
   "metadata": {},
   "outputs": [
    {
     "name": "stdout",
     "output_type": "stream",
     "text": [
      "_________________________________________________________________\n",
      "Layer (type)                 Output Shape              Param #   \n",
      "=================================================================\n",
      "dense (Dense)                (None, 4)                 28        \n",
      "_________________________________________________________________\n",
      "dense_1 (Dense)              (None, 3)                 15        \n",
      "_________________________________________________________________\n",
      "dense_2 (Dense)              (None, 2)                 8         \n",
      "=================================================================\n",
      "Total params: 51\n",
      "Trainable params: 51\n",
      "Non-trainable params: 0\n",
      "_________________________________________________________________\n"
     ]
    }
   ],
   "source": [
    "mlp3.summary()"
   ]
  },
  {
   "cell_type": "markdown",
   "metadata": {},
   "source": [
    "## Using Callbacks\n",
    "\n",
    "One way to do early stopping is to write out the results of training epochs to a file, and then use the file's contents to identify how much training provides the best results.  Alternatively, you can just save the best performing model.  Let's do that, here."
   ]
  },
  {
   "cell_type": "code",
   "execution_count": 45,
   "metadata": {},
   "outputs": [],
   "source": [
    "checkpoint_cb=keras.callbacks.ModelCheckpoint('my_mlp3_model.h5',\n",
    "                        save_best_only=True)\n",
    "history=mlp3.fit(X_train,y_train,epochs=100,verbose=0,\n",
    "                validation_data=(X_valid,y_valid),\n",
    "                callbacks=[checkpoint_cb])"
   ]
  },
  {
   "cell_type": "markdown",
   "metadata": {},
   "source": [
    "# This version should work if your Keras version is 2.2.3+\n",
    "# It will run until fit on test data doesn't improve\n",
    "\n",
    "early_stopping_cb=keras.callbacks.EarlyStopping(\n",
    "                patience=10,restore_best_weights=True)   # stop when criterion doesn't improve for 10 epochs\n",
    "\n",
    "history=mlp3.fit(X_train,y_train,epochs=500,verbose=0,\n",
    "                validation_data=(X_valid,y_valid),\n",
    "                callbacks=[checkpoint_cb,early_stopping_cb])  # save both best, and checkpoints up to it."
   ]
  },
  {
   "cell_type": "code",
   "execution_count": 49,
   "metadata": {},
   "outputs": [],
   "source": [
    "bestModel=keras.models.load_model('my_mlp3_model.h5')"
   ]
  },
  {
   "cell_type": "code",
   "execution_count": 50,
   "metadata": {},
   "outputs": [
    {
     "name": "stdout",
     "output_type": "stream",
     "text": [
      "Best model loss, accuracy:\n"
     ]
    },
    {
     "data": {
      "text/plain": [
       "[0.05408702798522459, 0.98480105]"
      ]
     },
     "execution_count": 50,
     "metadata": {},
     "output_type": "execute_result"
    }
   ],
   "source": [
    "print(\"Best model loss, accuracy:\")\n",
    "bestModel.evaluate(X_valid,y_valid,verbose=0)"
   ]
  },
  {
   "cell_type": "markdown",
   "metadata": {},
   "source": [
    "## Different Answers Based on the Method: Why?"
   ]
  },
  {
   "cell_type": "code",
   "execution_count": 51,
   "metadata": {},
   "outputs": [
    {
     "data": {
      "text/plain": [
       "loss        0.269215\n",
       "acc         0.976748\n",
       "val_loss    0.164639\n",
       "val_acc     0.976755\n",
       "Name: 0, dtype: float64"
      ]
     },
     "execution_count": 51,
     "metadata": {},
     "output_type": "execute_result"
    }
   ],
   "source": [
    "pd.DataFrame(history.history).sort_values(by=[\"val_acc\"],ascending=False).iloc[0,:]"
   ]
  },
  {
   "cell_type": "code",
   "execution_count": 52,
   "metadata": {},
   "outputs": [
    {
     "data": {
      "text/plain": [
       "loss        0.269215\n",
       "acc         0.976748\n",
       "val_loss    0.164639\n",
       "val_acc     0.976755\n",
       "Name: 0, dtype: float64"
      ]
     },
     "execution_count": 52,
     "metadata": {},
     "output_type": "execute_result"
    }
   ],
   "source": [
    "historyDF=pd.DataFrame(history.history)\n",
    "historyDF.iloc[historyDF.val_acc.idxmax(),:]"
   ]
  },
  {
   "cell_type": "code",
   "execution_count": 54,
   "metadata": {},
   "outputs": [
    {
     "data": {
      "text/html": [
       "<div>\n",
       "<style scoped>\n",
       "    .dataframe tbody tr th:only-of-type {\n",
       "        vertical-align: middle;\n",
       "    }\n",
       "\n",
       "    .dataframe tbody tr th {\n",
       "        vertical-align: top;\n",
       "    }\n",
       "\n",
       "    .dataframe thead th {\n",
       "        text-align: right;\n",
       "    }\n",
       "</style>\n",
       "<table border=\"1\" class=\"dataframe\">\n",
       "  <thead>\n",
       "    <tr style=\"text-align: right;\">\n",
       "      <th></th>\n",
       "      <th>loss</th>\n",
       "      <th>acc</th>\n",
       "      <th>val_loss</th>\n",
       "      <th>val_acc</th>\n",
       "    </tr>\n",
       "  </thead>\n",
       "  <tbody>\n",
       "    <tr>\n",
       "      <th>0</th>\n",
       "      <td>0.269215</td>\n",
       "      <td>0.976748</td>\n",
       "      <td>0.164639</td>\n",
       "      <td>0.976755</td>\n",
       "    </tr>\n",
       "    <tr>\n",
       "      <th>1</th>\n",
       "      <td>0.139501</td>\n",
       "      <td>0.976748</td>\n",
       "      <td>0.120916</td>\n",
       "      <td>0.976755</td>\n",
       "    </tr>\n",
       "    <tr>\n",
       "      <th>2</th>\n",
       "      <td>0.114112</td>\n",
       "      <td>0.976748</td>\n",
       "      <td>0.107572</td>\n",
       "      <td>0.976755</td>\n",
       "    </tr>\n",
       "    <tr>\n",
       "      <th>3</th>\n",
       "      <td>0.104687</td>\n",
       "      <td>0.976748</td>\n",
       "      <td>0.101885</td>\n",
       "      <td>0.976755</td>\n",
       "    </tr>\n",
       "    <tr>\n",
       "      <th>4</th>\n",
       "      <td>0.100072</td>\n",
       "      <td>0.976748</td>\n",
       "      <td>0.098812</td>\n",
       "      <td>0.976755</td>\n",
       "    </tr>\n",
       "    <tr>\n",
       "      <th>5</th>\n",
       "      <td>0.097530</td>\n",
       "      <td>0.976748</td>\n",
       "      <td>0.097040</td>\n",
       "      <td>0.976755</td>\n",
       "    </tr>\n",
       "    <tr>\n",
       "      <th>6</th>\n",
       "      <td>0.095974</td>\n",
       "      <td>0.976748</td>\n",
       "      <td>0.095863</td>\n",
       "      <td>0.976755</td>\n",
       "    </tr>\n",
       "    <tr>\n",
       "      <th>7</th>\n",
       "      <td>0.094885</td>\n",
       "      <td>0.976748</td>\n",
       "      <td>0.095033</td>\n",
       "      <td>0.976755</td>\n",
       "    </tr>\n",
       "    <tr>\n",
       "      <th>8</th>\n",
       "      <td>0.094087</td>\n",
       "      <td>0.976748</td>\n",
       "      <td>0.094403</td>\n",
       "      <td>0.976755</td>\n",
       "    </tr>\n",
       "    <tr>\n",
       "      <th>9</th>\n",
       "      <td>0.093468</td>\n",
       "      <td>0.976748</td>\n",
       "      <td>0.093866</td>\n",
       "      <td>0.976755</td>\n",
       "    </tr>\n",
       "    <tr>\n",
       "      <th>10</th>\n",
       "      <td>0.092911</td>\n",
       "      <td>0.976748</td>\n",
       "      <td>0.093382</td>\n",
       "      <td>0.976755</td>\n",
       "    </tr>\n",
       "    <tr>\n",
       "      <th>11</th>\n",
       "      <td>0.092394</td>\n",
       "      <td>0.976748</td>\n",
       "      <td>0.092952</td>\n",
       "      <td>0.976755</td>\n",
       "    </tr>\n",
       "    <tr>\n",
       "      <th>12</th>\n",
       "      <td>0.091898</td>\n",
       "      <td>0.976748</td>\n",
       "      <td>0.092541</td>\n",
       "      <td>0.976755</td>\n",
       "    </tr>\n",
       "    <tr>\n",
       "      <th>13</th>\n",
       "      <td>0.091441</td>\n",
       "      <td>0.976748</td>\n",
       "      <td>0.092166</td>\n",
       "      <td>0.976755</td>\n",
       "    </tr>\n",
       "    <tr>\n",
       "      <th>14</th>\n",
       "      <td>0.091004</td>\n",
       "      <td>0.976748</td>\n",
       "      <td>0.091811</td>\n",
       "      <td>0.976755</td>\n",
       "    </tr>\n",
       "    <tr>\n",
       "      <th>15</th>\n",
       "      <td>0.090550</td>\n",
       "      <td>0.976748</td>\n",
       "      <td>0.091461</td>\n",
       "      <td>0.976755</td>\n",
       "    </tr>\n",
       "    <tr>\n",
       "      <th>16</th>\n",
       "      <td>0.090122</td>\n",
       "      <td>0.976748</td>\n",
       "      <td>0.091114</td>\n",
       "      <td>0.976755</td>\n",
       "    </tr>\n",
       "    <tr>\n",
       "      <th>17</th>\n",
       "      <td>0.089682</td>\n",
       "      <td>0.976748</td>\n",
       "      <td>0.090784</td>\n",
       "      <td>0.976755</td>\n",
       "    </tr>\n",
       "    <tr>\n",
       "      <th>18</th>\n",
       "      <td>0.089242</td>\n",
       "      <td>0.976748</td>\n",
       "      <td>0.090450</td>\n",
       "      <td>0.976755</td>\n",
       "    </tr>\n",
       "    <tr>\n",
       "      <th>19</th>\n",
       "      <td>0.088828</td>\n",
       "      <td>0.976748</td>\n",
       "      <td>0.090124</td>\n",
       "      <td>0.976755</td>\n",
       "    </tr>\n",
       "    <tr>\n",
       "      <th>20</th>\n",
       "      <td>0.088451</td>\n",
       "      <td>0.976748</td>\n",
       "      <td>0.089802</td>\n",
       "      <td>0.976755</td>\n",
       "    </tr>\n",
       "    <tr>\n",
       "      <th>21</th>\n",
       "      <td>0.088076</td>\n",
       "      <td>0.976748</td>\n",
       "      <td>0.089468</td>\n",
       "      <td>0.976755</td>\n",
       "    </tr>\n",
       "    <tr>\n",
       "      <th>22</th>\n",
       "      <td>0.087700</td>\n",
       "      <td>0.976748</td>\n",
       "      <td>0.089144</td>\n",
       "      <td>0.976755</td>\n",
       "    </tr>\n",
       "    <tr>\n",
       "      <th>23</th>\n",
       "      <td>0.087355</td>\n",
       "      <td>0.976748</td>\n",
       "      <td>0.088849</td>\n",
       "      <td>0.976755</td>\n",
       "    </tr>\n",
       "    <tr>\n",
       "      <th>24</th>\n",
       "      <td>0.087014</td>\n",
       "      <td>0.976748</td>\n",
       "      <td>0.088561</td>\n",
       "      <td>0.976755</td>\n",
       "    </tr>\n",
       "    <tr>\n",
       "      <th>25</th>\n",
       "      <td>0.086680</td>\n",
       "      <td>0.976748</td>\n",
       "      <td>0.088260</td>\n",
       "      <td>0.976755</td>\n",
       "    </tr>\n",
       "    <tr>\n",
       "      <th>26</th>\n",
       "      <td>0.086343</td>\n",
       "      <td>0.976748</td>\n",
       "      <td>0.087966</td>\n",
       "      <td>0.976755</td>\n",
       "    </tr>\n",
       "    <tr>\n",
       "      <th>27</th>\n",
       "      <td>0.086034</td>\n",
       "      <td>0.976748</td>\n",
       "      <td>0.087678</td>\n",
       "      <td>0.976755</td>\n",
       "    </tr>\n",
       "    <tr>\n",
       "      <th>28</th>\n",
       "      <td>0.085707</td>\n",
       "      <td>0.976748</td>\n",
       "      <td>0.087396</td>\n",
       "      <td>0.976755</td>\n",
       "    </tr>\n",
       "    <tr>\n",
       "      <th>29</th>\n",
       "      <td>0.085386</td>\n",
       "      <td>0.976748</td>\n",
       "      <td>0.087132</td>\n",
       "      <td>0.976755</td>\n",
       "    </tr>\n",
       "    <tr>\n",
       "      <th>...</th>\n",
       "      <td>...</td>\n",
       "      <td>...</td>\n",
       "      <td>...</td>\n",
       "      <td>...</td>\n",
       "    </tr>\n",
       "    <tr>\n",
       "      <th>70</th>\n",
       "      <td>0.073103</td>\n",
       "      <td>0.976748</td>\n",
       "      <td>0.075517</td>\n",
       "      <td>0.976755</td>\n",
       "    </tr>\n",
       "    <tr>\n",
       "      <th>71</th>\n",
       "      <td>0.072794</td>\n",
       "      <td>0.976748</td>\n",
       "      <td>0.075215</td>\n",
       "      <td>0.976755</td>\n",
       "    </tr>\n",
       "    <tr>\n",
       "      <th>72</th>\n",
       "      <td>0.072492</td>\n",
       "      <td>0.976748</td>\n",
       "      <td>0.074820</td>\n",
       "      <td>0.976755</td>\n",
       "    </tr>\n",
       "    <tr>\n",
       "      <th>73</th>\n",
       "      <td>0.072130</td>\n",
       "      <td>0.976748</td>\n",
       "      <td>0.074459</td>\n",
       "      <td>0.976755</td>\n",
       "    </tr>\n",
       "    <tr>\n",
       "      <th>74</th>\n",
       "      <td>0.071813</td>\n",
       "      <td>0.976748</td>\n",
       "      <td>0.074119</td>\n",
       "      <td>0.976755</td>\n",
       "    </tr>\n",
       "    <tr>\n",
       "      <th>75</th>\n",
       "      <td>0.071516</td>\n",
       "      <td>0.976748</td>\n",
       "      <td>0.073747</td>\n",
       "      <td>0.976755</td>\n",
       "    </tr>\n",
       "    <tr>\n",
       "      <th>76</th>\n",
       "      <td>0.071228</td>\n",
       "      <td>0.976748</td>\n",
       "      <td>0.073406</td>\n",
       "      <td>0.976755</td>\n",
       "    </tr>\n",
       "    <tr>\n",
       "      <th>77</th>\n",
       "      <td>0.070961</td>\n",
       "      <td>0.976748</td>\n",
       "      <td>0.073027</td>\n",
       "      <td>0.976755</td>\n",
       "    </tr>\n",
       "    <tr>\n",
       "      <th>78</th>\n",
       "      <td>0.070651</td>\n",
       "      <td>0.976748</td>\n",
       "      <td>0.072681</td>\n",
       "      <td>0.976755</td>\n",
       "    </tr>\n",
       "    <tr>\n",
       "      <th>79</th>\n",
       "      <td>0.070381</td>\n",
       "      <td>0.976748</td>\n",
       "      <td>0.072340</td>\n",
       "      <td>0.976755</td>\n",
       "    </tr>\n",
       "    <tr>\n",
       "      <th>80</th>\n",
       "      <td>0.070128</td>\n",
       "      <td>0.976748</td>\n",
       "      <td>0.072000</td>\n",
       "      <td>0.976755</td>\n",
       "    </tr>\n",
       "    <tr>\n",
       "      <th>81</th>\n",
       "      <td>0.069871</td>\n",
       "      <td>0.976748</td>\n",
       "      <td>0.071668</td>\n",
       "      <td>0.976755</td>\n",
       "    </tr>\n",
       "    <tr>\n",
       "      <th>82</th>\n",
       "      <td>0.069625</td>\n",
       "      <td>0.976748</td>\n",
       "      <td>0.071300</td>\n",
       "      <td>0.976755</td>\n",
       "    </tr>\n",
       "    <tr>\n",
       "      <th>83</th>\n",
       "      <td>0.069382</td>\n",
       "      <td>0.976748</td>\n",
       "      <td>0.070945</td>\n",
       "      <td>0.976755</td>\n",
       "    </tr>\n",
       "    <tr>\n",
       "      <th>84</th>\n",
       "      <td>0.069118</td>\n",
       "      <td>0.976748</td>\n",
       "      <td>0.070595</td>\n",
       "      <td>0.976755</td>\n",
       "    </tr>\n",
       "    <tr>\n",
       "      <th>85</th>\n",
       "      <td>0.068851</td>\n",
       "      <td>0.976748</td>\n",
       "      <td>0.070248</td>\n",
       "      <td>0.976755</td>\n",
       "    </tr>\n",
       "    <tr>\n",
       "      <th>86</th>\n",
       "      <td>0.068597</td>\n",
       "      <td>0.976748</td>\n",
       "      <td>0.069924</td>\n",
       "      <td>0.976755</td>\n",
       "    </tr>\n",
       "    <tr>\n",
       "      <th>87</th>\n",
       "      <td>0.068360</td>\n",
       "      <td>0.976748</td>\n",
       "      <td>0.069646</td>\n",
       "      <td>0.976755</td>\n",
       "    </tr>\n",
       "    <tr>\n",
       "      <th>88</th>\n",
       "      <td>0.068117</td>\n",
       "      <td>0.976748</td>\n",
       "      <td>0.069343</td>\n",
       "      <td>0.976755</td>\n",
       "    </tr>\n",
       "    <tr>\n",
       "      <th>89</th>\n",
       "      <td>0.067903</td>\n",
       "      <td>0.976748</td>\n",
       "      <td>0.069035</td>\n",
       "      <td>0.976755</td>\n",
       "    </tr>\n",
       "    <tr>\n",
       "      <th>90</th>\n",
       "      <td>0.067664</td>\n",
       "      <td>0.976748</td>\n",
       "      <td>0.068772</td>\n",
       "      <td>0.976755</td>\n",
       "    </tr>\n",
       "    <tr>\n",
       "      <th>91</th>\n",
       "      <td>0.067455</td>\n",
       "      <td>0.976748</td>\n",
       "      <td>0.068490</td>\n",
       "      <td>0.976755</td>\n",
       "    </tr>\n",
       "    <tr>\n",
       "      <th>92</th>\n",
       "      <td>0.067206</td>\n",
       "      <td>0.976748</td>\n",
       "      <td>0.068202</td>\n",
       "      <td>0.976755</td>\n",
       "    </tr>\n",
       "    <tr>\n",
       "      <th>93</th>\n",
       "      <td>0.067033</td>\n",
       "      <td>0.976748</td>\n",
       "      <td>0.067952</td>\n",
       "      <td>0.976755</td>\n",
       "    </tr>\n",
       "    <tr>\n",
       "      <th>94</th>\n",
       "      <td>0.066811</td>\n",
       "      <td>0.976748</td>\n",
       "      <td>0.067682</td>\n",
       "      <td>0.976755</td>\n",
       "    </tr>\n",
       "    <tr>\n",
       "      <th>95</th>\n",
       "      <td>0.066640</td>\n",
       "      <td>0.976748</td>\n",
       "      <td>0.067453</td>\n",
       "      <td>0.976755</td>\n",
       "    </tr>\n",
       "    <tr>\n",
       "      <th>96</th>\n",
       "      <td>0.066472</td>\n",
       "      <td>0.976748</td>\n",
       "      <td>0.067280</td>\n",
       "      <td>0.976755</td>\n",
       "    </tr>\n",
       "    <tr>\n",
       "      <th>97</th>\n",
       "      <td>0.066309</td>\n",
       "      <td>0.976748</td>\n",
       "      <td>0.067031</td>\n",
       "      <td>0.976755</td>\n",
       "    </tr>\n",
       "    <tr>\n",
       "      <th>98</th>\n",
       "      <td>0.066160</td>\n",
       "      <td>0.976748</td>\n",
       "      <td>0.066818</td>\n",
       "      <td>0.976755</td>\n",
       "    </tr>\n",
       "    <tr>\n",
       "      <th>99</th>\n",
       "      <td>0.066013</td>\n",
       "      <td>0.976748</td>\n",
       "      <td>0.066563</td>\n",
       "      <td>0.976755</td>\n",
       "    </tr>\n",
       "  </tbody>\n",
       "</table>\n",
       "<p>100 rows × 4 columns</p>\n",
       "</div>"
      ],
      "text/plain": [
       "        loss       acc  val_loss   val_acc\n",
       "0   0.269215  0.976748  0.164639  0.976755\n",
       "1   0.139501  0.976748  0.120916  0.976755\n",
       "2   0.114112  0.976748  0.107572  0.976755\n",
       "3   0.104687  0.976748  0.101885  0.976755\n",
       "4   0.100072  0.976748  0.098812  0.976755\n",
       "5   0.097530  0.976748  0.097040  0.976755\n",
       "6   0.095974  0.976748  0.095863  0.976755\n",
       "7   0.094885  0.976748  0.095033  0.976755\n",
       "8   0.094087  0.976748  0.094403  0.976755\n",
       "9   0.093468  0.976748  0.093866  0.976755\n",
       "10  0.092911  0.976748  0.093382  0.976755\n",
       "11  0.092394  0.976748  0.092952  0.976755\n",
       "12  0.091898  0.976748  0.092541  0.976755\n",
       "13  0.091441  0.976748  0.092166  0.976755\n",
       "14  0.091004  0.976748  0.091811  0.976755\n",
       "15  0.090550  0.976748  0.091461  0.976755\n",
       "16  0.090122  0.976748  0.091114  0.976755\n",
       "17  0.089682  0.976748  0.090784  0.976755\n",
       "18  0.089242  0.976748  0.090450  0.976755\n",
       "19  0.088828  0.976748  0.090124  0.976755\n",
       "20  0.088451  0.976748  0.089802  0.976755\n",
       "21  0.088076  0.976748  0.089468  0.976755\n",
       "22  0.087700  0.976748  0.089144  0.976755\n",
       "23  0.087355  0.976748  0.088849  0.976755\n",
       "24  0.087014  0.976748  0.088561  0.976755\n",
       "25  0.086680  0.976748  0.088260  0.976755\n",
       "26  0.086343  0.976748  0.087966  0.976755\n",
       "27  0.086034  0.976748  0.087678  0.976755\n",
       "28  0.085707  0.976748  0.087396  0.976755\n",
       "29  0.085386  0.976748  0.087132  0.976755\n",
       "..       ...       ...       ...       ...\n",
       "70  0.073103  0.976748  0.075517  0.976755\n",
       "71  0.072794  0.976748  0.075215  0.976755\n",
       "72  0.072492  0.976748  0.074820  0.976755\n",
       "73  0.072130  0.976748  0.074459  0.976755\n",
       "74  0.071813  0.976748  0.074119  0.976755\n",
       "75  0.071516  0.976748  0.073747  0.976755\n",
       "76  0.071228  0.976748  0.073406  0.976755\n",
       "77  0.070961  0.976748  0.073027  0.976755\n",
       "78  0.070651  0.976748  0.072681  0.976755\n",
       "79  0.070381  0.976748  0.072340  0.976755\n",
       "80  0.070128  0.976748  0.072000  0.976755\n",
       "81  0.069871  0.976748  0.071668  0.976755\n",
       "82  0.069625  0.976748  0.071300  0.976755\n",
       "83  0.069382  0.976748  0.070945  0.976755\n",
       "84  0.069118  0.976748  0.070595  0.976755\n",
       "85  0.068851  0.976748  0.070248  0.976755\n",
       "86  0.068597  0.976748  0.069924  0.976755\n",
       "87  0.068360  0.976748  0.069646  0.976755\n",
       "88  0.068117  0.976748  0.069343  0.976755\n",
       "89  0.067903  0.976748  0.069035  0.976755\n",
       "90  0.067664  0.976748  0.068772  0.976755\n",
       "91  0.067455  0.976748  0.068490  0.976755\n",
       "92  0.067206  0.976748  0.068202  0.976755\n",
       "93  0.067033  0.976748  0.067952  0.976755\n",
       "94  0.066811  0.976748  0.067682  0.976755\n",
       "95  0.066640  0.976748  0.067453  0.976755\n",
       "96  0.066472  0.976748  0.067280  0.976755\n",
       "97  0.066309  0.976748  0.067031  0.976755\n",
       "98  0.066160  0.976748  0.066818  0.976755\n",
       "99  0.066013  0.976748  0.066563  0.976755\n",
       "\n",
       "[100 rows x 4 columns]"
      ]
     },
     "execution_count": 54,
     "metadata": {},
     "output_type": "execute_result"
    }
   ],
   "source": [
    "pd.DataFrame(history.history)\n"
   ]
  },
  {
   "cell_type": "code",
   "execution_count": null,
   "metadata": {},
   "outputs": [],
   "source": []
  }
 ],
 "metadata": {
  "hide_input": false,
  "kernelspec": {
   "display_name": "Python 3",
   "language": "python",
   "name": "python3"
  },
  "language_info": {
   "codemirror_mode": {
    "name": "ipython",
    "version": 3
   },
   "file_extension": ".py",
   "mimetype": "text/x-python",
   "name": "python",
   "nbconvert_exporter": "python",
   "pygments_lexer": "ipython3",
   "version": "3.7.3"
  },
  "latex_envs": {
   "LaTeX_envs_menu_present": true,
   "autoclose": false,
   "autocomplete": true,
   "bibliofile": "biblio.bib",
   "cite_by": "apalike",
   "current_citInitial": 1,
   "eqLabelWithNumbers": true,
   "eqNumInitial": 1,
   "hotkeys": {
    "equation": "Ctrl-E",
    "itemize": "Ctrl-I"
   },
   "labels_anchors": false,
   "latex_user_defs": false,
   "report_style_numbering": false,
   "user_envs_cfg": false
  },
  "toc": {
   "base_numbering": 1,
   "nav_menu": {},
   "number_sections": false,
   "sideBar": false,
   "skip_h1_title": false,
   "title_cell": "Table of Contents",
   "title_sidebar": "Contents",
   "toc_cell": false,
   "toc_position": {},
   "toc_section_display": false,
   "toc_window_display": false
  }
 },
 "nbformat": 4,
 "nbformat_minor": 2
}
