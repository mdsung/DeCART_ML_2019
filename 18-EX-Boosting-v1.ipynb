{
 "cells": [
  {
   "cell_type": "markdown",
   "metadata": {
    "slideshow": {
     "slide_type": "subslide"
    }
   },
   "source": [
    "Creative Commons CC BY 4.0 Lynd Bacon & Associates, Ltd. Not warranted to be suitable for any particular purpose. (You're on your own!)"
   ]
  },
  {
   "cell_type": "markdown",
   "metadata": {},
   "source": [
    "# Boosting\n",
    "\n",
    "Boosting algorithms are [_ensemble_ methods](https://scikit-learn.org/stable/modules/ensemble.html).  They apply a _sequence_ of algorithms, usually regression or classification learners, with the objective of improving predictive accuracy. Each learner in the sequence is trained using the results from the training of the previous learner.  Boosting ca reduce bias.\n",
    "\n",
    "\n",
    "Those results used, learner by learner, depend on the nature of the boosting algorithm.  They may be the residuals resulting from the fit provided by the previous learner (as in _Gradient Boosting_), or they may be the data weighted by the prediction errors resulting from the fit of the preceding learner(_AdaBoost_).\n",
    "\n",
    "The \"learners\" in the sequence are often decision trees, like CART, and they are often constrained to be small, with just a few features. \n",
    "\n",
    "On boosting: \n",
    "\n",
    "[Introduction to Statistical Learning Chapter 8](http://www-bcf.usc.edu/~gareth/ISL/)  \n",
    "[A Gentle Introduction to Boosting](https://machinelearningmastery.com/gentle-introduction-gradient-boosting-algorithm-machine-learning/)  \n",
    "\n",
    "In the following we apply gradient boosting and AdaBoost."
   ]
  },
  {
   "cell_type": "markdown",
   "metadata": {},
   "source": [
    "참고) \n",
    "Ensenble\n",
    "- Voting Classifier\n",
    "- Bagging(=bootstrap aggregating) e.g. Random forest\n",
    "- Bootstrap\n",
    "- Pasting\n",
    "\n",
    "![ensenble](https://t1.daumcdn.net/cfile/tistory/995D67335C46BA4114)"
   ]
  },
  {
   "cell_type": "markdown",
   "metadata": {},
   "source": [
    "# Getting Packages\n",
    "\n",
    "(There may be things here that we don't use.  Apologies.)"
   ]
  },
  {
   "cell_type": "code",
   "execution_count": 3,
   "metadata": {},
   "outputs": [],
   "source": [
    "from IPython.core.interactiveshell import InteractiveShell\n",
    "InteractiveShell.ast_node_interactivity = \"all\"\n",
    "from IPython.display import display, Markdown\n",
    "import numpy as np\n",
    "import pandas as pd\n",
    "\n",
    "import matplotlib.pyplot as plt\n",
    "import scikitplot as skplt\n",
    "from sklearn import linear_model\n",
    "from sklearn.model_selection import KFold, StratifiedShuffleSplit\n",
    "from sklearn.model_selection import cross_val_predict, train_test_split\n",
    "from sklearn.model_selection import GridSearchCV\n",
    "from sklearn import preprocessing\n",
    "from sklearn.metrics import accuracy_score, confusion_matrix, roc_auc_score\n",
    "from sklearn.metrics import roc_curve, precision_score, recall_score\n",
    "from sklearn.metrics import classification_report\n",
    "from sklearn.naive_bayes import GaussianNB\n",
    "from sklearn.ensemble import GradientBoostingClassifier, AdaBoostClassifier\n",
    "import pickle\n",
    "import os\n",
    "import shelve\n",
    "%matplotlib inline\n"
   ]
  },
  {
   "cell_type": "markdown",
   "metadata": {},
   "source": [
    "# Gradient Boosting: Tree-Based Classification\n",
    "\n",
    "Like almost all other ML methods, Boosting methods have parameters that can be used for tuning performance.  When trees are boosted, the parameters include number of trees, a parameter that controls how quickly learning occurs across the trees, and the number of splits a tree can have.  The latter is often small, and may even be 1, in which case the tree is a _stump_.  \n",
    "\n",
    "In the following we're going to use the cervical CA data again. We'll apply [scikit-learn's GradientBoostingClassifier](https://scikit-learn.org/stable/modules/generated/sklearn.ensemble.GradientBoostingClassifier.html#sklearn.ensemble.GradientBoostingClassifier)."
   ]
  },
  {
   "cell_type": "markdown",
   "metadata": {},
   "source": [
    "## Getting the Data"
   ]
  },
  {
   "cell_type": "code",
   "execution_count": 6,
   "metadata": {},
   "outputs": [],
   "source": [
    "# A DataFrame from the shelve db.  Adjust path as may be required.\n",
    "with shelve.open('cervical') as sdb:\n",
    "    cervical2=sdb['cervical2']  # this should be, too"
   ]
  },
  {
   "cell_type": "code",
   "execution_count": 7,
   "metadata": {},
   "outputs": [],
   "source": [
    "X=cervical2.iloc[:,1:].to_numpy()\n",
    "y=cervical2.iloc[:,0].to_numpy()\n",
    "feat_nams=cervical2.columns.to_list()[1:]  # could need these"
   ]
  },
  {
   "cell_type": "markdown",
   "metadata": {},
   "source": [
    "## Simple Train, Test Split"
   ]
  },
  {
   "cell_type": "code",
   "execution_count": 8,
   "metadata": {},
   "outputs": [],
   "source": [
    "## Simple Validation Split.  We'll try to balance the target variable labels in train and test.\n",
    "\n",
    "skf1=StratifiedShuffleSplit(n_splits=1,random_state=99) # Note, just a single random split here\n",
    "for trainNdx,testNdx in skf1.split(X,y):\n",
    "    Xtrain=X[trainNdx]\n",
    "    ytrain=y[trainNdx]\n",
    "    Xtest=X[testNdx]\n",
    "    ytest=y[testNdx]\n"
   ]
  },
  {
   "cell_type": "markdown",
   "metadata": {},
   "source": [
    "## Select Some Parameter Values\n",
    "\n",
    "Let's use \"tiny\" trees which will be \"weak\" learners. Maximum depth of 1 split.  300 \"stumps.\"  \n",
    "Amongst the parameters of this boosting classifier, note the _warm_start_ option.  Setting it to True will allow adding additional trees to a trained classifier."
   ]
  },
  {
   "cell_type": "code",
   "execution_count": 9,
   "metadata": {},
   "outputs": [],
   "source": [
    "treeBoosts = GradientBoostingClassifier(n_estimators=300, learning_rate=0.1, max_depth=1, random_state=99)"
   ]
  },
  {
   "cell_type": "code",
   "execution_count": 10,
   "metadata": {},
   "outputs": [
    {
     "name": "stdout",
     "output_type": "stream",
     "text": [
      "              precision    recall  f1-score   support\n",
      "\n",
      "           0       0.93      1.00      0.96        63\n",
      "           1       0.00      0.00      0.00         5\n",
      "\n",
      "   micro avg       0.93      0.93      0.93        68\n",
      "   macro avg       0.46      0.50      0.48        68\n",
      "weighted avg       0.86      0.93      0.89        68\n",
      "\n"
     ]
    },
    {
     "name": "stderr",
     "output_type": "stream",
     "text": [
      "/opt/conda/lib/python3.7/site-packages/sklearn/metrics/classification.py:1143: UndefinedMetricWarning: Precision and F-score are ill-defined and being set to 0.0 in labels with no predicted samples.\n",
      "  'precision', 'predicted', average, warn_for)\n"
     ]
    }
   ],
   "source": [
    "treeBoostsF=treeBoosts.fit(Xtrain, ytrain)\n",
    "ypred = treeBoostsF.predict(Xtest)\n",
    "print(classification_report(ytest, ypred))"
   ]
  },
  {
   "cell_type": "markdown",
   "metadata": {},
   "source": [
    "See [Classification Report](https://scikit-learn.org/stable/modules/generated/sklearn.metrics.classification_report.html#sklearn.metrics.classification_report) for details about the above metrics."
   ]
  },
  {
   "cell_type": "markdown",
   "metadata": {},
   "source": [
    "# UDU: Graph the Feature Importances for the Classifier Above"
   ]
  },
  {
   "cell_type": "markdown",
   "metadata": {},
   "source": [
    "# UDU: Grid Search for a Better Boosted Tree Classifier\n",
    "\n",
    "Do a grid search to see if  you can get a better model than the above.  Metrics to explore include the learning rate (try varying above and below 0.1), max_depth (try increasing to 2 and 3)."
   ]
  },
  {
   "cell_type": "markdown",
   "metadata": {},
   "source": [
    "# UDU: Early Stopping\n",
    "\n",
    "One way to avoid overfitting is to stop training when an algorithm's fit on test data is no longer improving. The algorithm used above is one of those that has a feature that will end training when a criterion is reached, which are several.  For example, the \"n_iter_no_change\" parameter can be used to specify that training should stop when the validation score being used isn't changing for this many iterations.  \n",
    "\n",
    "Try setting n_iter_no_change to some small integer, like 10, and then run and evaluate the above classifer."
   ]
  },
  {
   "cell_type": "markdown",
   "metadata": {},
   "source": [
    "# Gradient Boosting: Tree-Based Classification Take 2: Different Data\n",
    "\n",
    "Let's use the data set `dataset_37_diabetes.csv`.  It has one binary target, `class`, coded \"tested_positive\" and \"tested_negative\" for disease, and eight \"features.\""
   ]
  },
  {
   "cell_type": "markdown",
   "metadata": {},
   "source": [
    "## Getting the Data, Munging It"
   ]
  },
  {
   "cell_type": "code",
   "execution_count": 11,
   "metadata": {},
   "outputs": [],
   "source": [
    "diabetes=pd.read_csv('../DATA/ML/dataset_37_diabetes.csv')"
   ]
  },
  {
   "cell_type": "code",
   "execution_count": 12,
   "metadata": {},
   "outputs": [
    {
     "data": {
      "text/plain": [
       "0"
      ]
     },
     "execution_count": 12,
     "metadata": {},
     "output_type": "execute_result"
    }
   ],
   "source": [
    "diabetes.isna().sum().sum()   # number of missing values"
   ]
  },
  {
   "cell_type": "code",
   "execution_count": 13,
   "metadata": {},
   "outputs": [
    {
     "data": {
      "text/plain": [
       "array(['tested_positive', 'tested_negative'], dtype=object)"
      ]
     },
     "execution_count": 13,
     "metadata": {},
     "output_type": "execute_result"
    }
   ],
   "source": [
    "# What are those class labels?\n",
    "\n",
    "diabetes['class'].unique()"
   ]
  },
  {
   "cell_type": "markdown",
   "metadata": {},
   "source": [
    "Weird.\n",
    "\n",
    "Let's recode the target variable into a 0,1 variable we'll call \"target\".  It's currently str data type"
   ]
  },
  {
   "cell_type": "code",
   "execution_count": 14,
   "metadata": {},
   "outputs": [
    {
     "data": {
      "text/plain": [
       "array([1, 0])"
      ]
     },
     "execution_count": 14,
     "metadata": {},
     "output_type": "execute_result"
    }
   ],
   "source": [
    "diabetes['target']=np.where(diabetes['class']==\"tested_positive\",1,0)\n",
    "diabetes.target.unique()\n",
    "diabetes.drop('class',axis=1,inplace=True)"
   ]
  },
  {
   "cell_type": "code",
   "execution_count": 15,
   "metadata": {},
   "outputs": [
    {
     "data": {
      "text/plain": [
       "preg        int64\n",
       "plas        int64\n",
       "pres        int64\n",
       "skin        int64\n",
       "insu        int64\n",
       "mass      float64\n",
       "pedi      float64\n",
       "age         int64\n",
       "target      int64\n",
       "dtype: object"
      ]
     },
     "execution_count": 15,
     "metadata": {},
     "output_type": "execute_result"
    }
   ],
   "source": [
    "# Let's check the other dtypes:\n",
    "\n",
    "diabetes.dtypes"
   ]
  },
  {
   "cell_type": "code",
   "execution_count": 16,
   "metadata": {},
   "outputs": [
    {
     "data": {
      "text/plain": [
       "0    500\n",
       "1    268\n",
       "Name: target, dtype: int64"
      ]
     },
     "execution_count": 16,
     "metadata": {},
     "output_type": "execute_result"
    }
   ],
   "source": [
    "# Target label counts\n",
    "\n",
    "diabetes.target.value_counts()"
   ]
  },
  {
   "cell_type": "code",
   "execution_count": 23,
   "metadata": {},
   "outputs": [
    {
     "data": {
      "text/html": [
       "<div>\n",
       "<style scoped>\n",
       "    .dataframe tbody tr th:only-of-type {\n",
       "        vertical-align: middle;\n",
       "    }\n",
       "\n",
       "    .dataframe tbody tr th {\n",
       "        vertical-align: top;\n",
       "    }\n",
       "\n",
       "    .dataframe thead th {\n",
       "        text-align: right;\n",
       "    }\n",
       "</style>\n",
       "<table border=\"1\" class=\"dataframe\">\n",
       "  <thead>\n",
       "    <tr style=\"text-align: right;\">\n",
       "      <th></th>\n",
       "      <th>preg</th>\n",
       "      <th>plas</th>\n",
       "      <th>pres</th>\n",
       "      <th>skin</th>\n",
       "      <th>insu</th>\n",
       "      <th>mass</th>\n",
       "      <th>pedi</th>\n",
       "      <th>age</th>\n",
       "      <th>target</th>\n",
       "    </tr>\n",
       "  </thead>\n",
       "  <tbody>\n",
       "    <tr>\n",
       "      <th>763</th>\n",
       "      <td>10</td>\n",
       "      <td>101</td>\n",
       "      <td>76</td>\n",
       "      <td>48</td>\n",
       "      <td>180</td>\n",
       "      <td>32.9</td>\n",
       "      <td>0.171</td>\n",
       "      <td>63</td>\n",
       "      <td>0</td>\n",
       "    </tr>\n",
       "    <tr>\n",
       "      <th>764</th>\n",
       "      <td>2</td>\n",
       "      <td>122</td>\n",
       "      <td>70</td>\n",
       "      <td>27</td>\n",
       "      <td>0</td>\n",
       "      <td>36.8</td>\n",
       "      <td>0.340</td>\n",
       "      <td>27</td>\n",
       "      <td>0</td>\n",
       "    </tr>\n",
       "    <tr>\n",
       "      <th>765</th>\n",
       "      <td>5</td>\n",
       "      <td>121</td>\n",
       "      <td>72</td>\n",
       "      <td>23</td>\n",
       "      <td>112</td>\n",
       "      <td>26.2</td>\n",
       "      <td>0.245</td>\n",
       "      <td>30</td>\n",
       "      <td>0</td>\n",
       "    </tr>\n",
       "    <tr>\n",
       "      <th>766</th>\n",
       "      <td>1</td>\n",
       "      <td>126</td>\n",
       "      <td>60</td>\n",
       "      <td>0</td>\n",
       "      <td>0</td>\n",
       "      <td>30.1</td>\n",
       "      <td>0.349</td>\n",
       "      <td>47</td>\n",
       "      <td>1</td>\n",
       "    </tr>\n",
       "    <tr>\n",
       "      <th>767</th>\n",
       "      <td>1</td>\n",
       "      <td>93</td>\n",
       "      <td>70</td>\n",
       "      <td>31</td>\n",
       "      <td>0</td>\n",
       "      <td>30.4</td>\n",
       "      <td>0.315</td>\n",
       "      <td>23</td>\n",
       "      <td>0</td>\n",
       "    </tr>\n",
       "  </tbody>\n",
       "</table>\n",
       "</div>"
      ],
      "text/plain": [
       "     preg  plas  pres  skin  insu  mass   pedi  age  target\n",
       "763    10   101    76    48   180  32.9  0.171   63       0\n",
       "764     2   122    70    27     0  36.8  0.340   27       0\n",
       "765     5   121    72    23   112  26.2  0.245   30       0\n",
       "766     1   126    60     0     0  30.1  0.349   47       1\n",
       "767     1    93    70    31     0  30.4  0.315   23       0"
      ]
     },
     "execution_count": 23,
     "metadata": {},
     "output_type": "execute_result"
    }
   ],
   "source": [
    "diabetes.tail()"
   ]
  },
  {
   "cell_type": "code",
   "execution_count": 39,
   "metadata": {},
   "outputs": [
    {
     "data": {
      "text/plain": [
       "(768, 8)"
      ]
     },
     "execution_count": 39,
     "metadata": {},
     "output_type": "execute_result"
    },
    {
     "data": {
      "text/plain": [
       "(768,)"
      ]
     },
     "execution_count": 39,
     "metadata": {},
     "output_type": "execute_result"
    }
   ],
   "source": [
    "## Convert to np arrays\n",
    "\n",
    "X=diabetes.iloc[:,:8].to_numpy()\n",
    "y=diabetes.iloc[:,8].to_numpy()\n",
    "X.shape\n",
    "y.shape"
   ]
  },
  {
   "cell_type": "code",
   "execution_count": 40,
   "metadata": {},
   "outputs": [],
   "source": [
    "## Training and test split\n",
    "skf1=StratifiedShuffleSplit(n_splits=1,random_state=99) # Note, just a single random split here\n",
    "for trainNdx,testNdx in skf1.split(X,y):\n",
    "    Xtrain=X[trainNdx]\n",
    "    ytrain=y[trainNdx]\n",
    "    Xtest=X[testNdx]\n",
    "    ytest=y[testNdx]\n"
   ]
  },
  {
   "cell_type": "code",
   "execution_count": 41,
   "metadata": {},
   "outputs": [],
   "source": [
    "treeBoosts = GradientBoostingClassifier(n_estimators=300, learning_rate=0.1, max_depth=1, random_state=99)"
   ]
  },
  {
   "cell_type": "code",
   "execution_count": 42,
   "metadata": {},
   "outputs": [
    {
     "name": "stdout",
     "output_type": "stream",
     "text": [
      "              precision    recall  f1-score   support\n",
      "\n",
      "           0       0.78      0.90      0.83        50\n",
      "           1       0.74      0.52      0.61        27\n",
      "\n",
      "   micro avg       0.77      0.77      0.77        77\n",
      "   macro avg       0.76      0.71      0.72        77\n",
      "weighted avg       0.76      0.77      0.75        77\n",
      "\n"
     ]
    }
   ],
   "source": [
    "treeBoostsFit=treeBoosts.fit(Xtrain, ytrain)\n",
    "ypred = treeBoostsFit.predict(Xtest)\n",
    "print(classification_report(ytest, ypred))"
   ]
  },
  {
   "cell_type": "markdown",
   "metadata": {},
   "source": [
    "## ROC, AUC"
   ]
  },
  {
   "cell_type": "code",
   "execution_count": 43,
   "metadata": {},
   "outputs": [],
   "source": [
    "ypredProb=treeBoostsFit.predict_proba(Xtest)"
   ]
  },
  {
   "cell_type": "code",
   "execution_count": 44,
   "metadata": {},
   "outputs": [
    {
     "data": {
      "image/png": "[encoded data removed]",
      "text/plain": [
       "<Figure size 504x504 with 1 Axes>"
      ]
     },
     "metadata": {
      "needs_background": "light"
     },
     "output_type": "display_data"
    },
    {
     "data": {
      "image/png": "[encoded data removed]",
      "text/plain": [
       "<Figure size 504x504 with 1 Axes>"
      ]
     },
     "metadata": {
      "needs_background": "light"
     },
     "output_type": "display_data"
    }
   ],
   "source": [
    "skplt.metrics.plot_roc(ytest, ypredProb, title=\"Gradient Boosting Test Data ROC\",\n",
    "                      figsize=(7,7),\n",
    "                      plot_micro=False,\n",
    "                      plot_macro=False,\n",
    "                      classes_to_plot=1);\n",
    "skplt.metrics.plot_precision_recall(ytest, ypredProb, title=\"Gradient Boosting Test Data ROC\",\n",
    "                      figsize=(7,7),\n",
    "                      plot_micro=False,\n",
    "                      classes_to_plot=1);\n"
   ]
  },
  {
   "cell_type": "markdown",
   "metadata": {},
   "source": [
    "## GridsearchCV"
   ]
  },
  {
   "cell_type": "code",
   "execution_count": 48,
   "metadata": {
    "scrolled": true
   },
   "outputs": [
    {
     "name": "stderr",
     "output_type": "stream",
     "text": [
      "/opt/conda/lib/python3.7/site-packages/sklearn/model_selection/_search.py:841: DeprecationWarning: The default of the `iid` parameter will change from True to False in version 0.22 and will be removed in 0.24. This will change numeric results when test-set sizes are unequal.\n",
      "  DeprecationWarning)\n"
     ]
    },
    {
     "data": {
      "text/plain": [
       "GridSearchCV(cv=20, error_score='raise-deprecating',\n",
       "       estimator=GradientBoostingClassifier(criterion='friedman_mse', init=None,\n",
       "              learning_rate=0.1, loss='deviance', max_depth=1,\n",
       "              max_features=None, max_leaf_nodes=None,\n",
       "              min_impurity_decrease=0.0, min_impurity_split=None,\n",
       "              min_samples_leaf=1, min_sampl...      subsample=1.0, tol=0.0001, validation_fraction=0.1,\n",
       "              verbose=0, warm_start=False),\n",
       "       fit_params=None, iid='warn', n_jobs=None,\n",
       "       param_grid={'n_estimators': [300, 400, 500], 'learning_rate': [0.01, 0.1, 1], 'max_depth': [1, 2, 3]},\n",
       "       pre_dispatch='2*n_jobs', refit=True, return_train_score='warn',\n",
       "       scoring=None, verbose=0)"
      ]
     },
     "execution_count": 48,
     "metadata": {},
     "output_type": "execute_result"
    },
    {
     "name": "stdout",
     "output_type": "stream",
     "text": [
      "Best cross-validation accuracy: 0.7728\n",
      "Test set score: 0.7792\n",
      "Best parameters: {'learning_rate': 0.01, 'max_depth': 2, 'n_estimators': 300}\n"
     ]
    }
   ],
   "source": [
    "param_grid = {'n_estimators':[300,400,500], \n",
    "             'learning_rate':[0.01, 0.1, 1],\n",
    "             'max_depth':[1,2,3]}\n",
    "grid=GridSearchCV(treeBoosts,param_grid=param_grid,cv=20)\n",
    "grid.fit(Xtrain,ytrain)\n",
    "print(\"Best cross-validation accuracy: {:.4f}\".format(grid.best_score_))\n",
    "print(\"Test set score: {:.4f}\".format(grid.score(Xtest, ytest)))\n",
    "print(\"Best parameters: {}\".format(grid.best_params_))   "
   ]
  },
  {
   "cell_type": "code",
   "execution_count": 51,
   "metadata": {},
   "outputs": [
    {
     "data": {
      "text/plain": [
       "GradientBoostingClassifier(criterion='friedman_mse', init=None,\n",
       "              learning_rate=0.01, loss='deviance', max_depth=2,\n",
       "              max_features=None, max_leaf_nodes=None,\n",
       "              min_impurity_decrease=0.0, min_impurity_split=None,\n",
       "              min_samples_leaf=1, min_samples_split=2,\n",
       "              min_weight_fraction_leaf=0.0, n_estimators=300,\n",
       "              n_iter_no_change=None, presort='auto', random_state=None,\n",
       "              subsample=1.0, tol=0.0001, validation_fraction=0.1,\n",
       "              verbose=0, warm_start=False)"
      ]
     },
     "execution_count": 51,
     "metadata": {},
     "output_type": "execute_result"
    }
   ],
   "source": [
    "bestgrid = GradientBoostingClassifier(**grid.best_params_)\n",
    "bestgrid.fit(Xtrain,ytrain)"
   ]
  },
  {
   "cell_type": "code",
   "execution_count": 74,
   "metadata": {},
   "outputs": [
    {
     "data": {
      "image/png": "[encoded data removed]",
      "text/plain": [
       "<Figure size 504x504 with 1 Axes>"
      ]
     },
     "metadata": {
      "needs_background": "light"
     },
     "output_type": "display_data"
    },
    {
     "data": {
      "image/png": "[encoded data removed]",
      "text/plain": [
       "<Figure size 504x504 with 1 Axes>"
      ]
     },
     "metadata": {
      "needs_background": "light"
     },
     "output_type": "display_data"
    }
   ],
   "source": [
    "bestgrid.score(Xtest,ytest)\n",
    "skplt.metrics.plot_roc(ytest, bestgrid.predict_proba(Xtest),\n",
    "                      figsize=(7,7),\n",
    "                      plot_micro=False,\n",
    "                      plot_macro=False,\n",
    "                      classes_to_plot=1);\n",
    "skplt.metrics.plot_precision_recall(ytest, bestgrid.predict_proba(Xtest),\n",
    "                      figsize=(7,7),\n",
    "                      plot_micro=False,\n",
    "                      classes_to_plot=1);\n",
    "\n"
   ]
  },
  {
   "cell_type": "markdown",
   "metadata": {},
   "source": [
    "# UDU: Plot the Features Importances for the Above Boosted Classifier"
   ]
  },
  {
   "cell_type": "markdown",
   "metadata": {},
   "source": [
    "# UDU: Gradient Boosting Regression\n",
    "\n",
    "Try training a Boosted regression model using the _radon_ data.\n",
    "\n",
    "Here's where you can find the scikit-learn documentation to do it: [GradientBoostingRegressor](https://scikit-learn.org/stable/modules/generated/sklearn.ensemble.GradientBoostingRegressor.html#sklearn.ensemble.GradientBoostingRegressor). "
   ]
  },
  {
   "cell_type": "markdown",
   "metadata": {},
   "source": [
    "# AdaBoost Classifier\n",
    "\n",
    "Let's give AdaBoost a try using the diabetes data.  Here's where the documentation is pm the scikit-learn site:\n",
    "\n",
    "[AdaBoostClassifier](https://scikit-learn.org/stable/modules/generated/sklearn.ensemble.AdaBoostClassifier.html#sklearn.ensemble.AdaBoostClassifier)"
   ]
  },
  {
   "cell_type": "markdown",
   "metadata": {},
   "source": [
    "[AdaBoost](https://excelsior-cjh.tistory.com/166)"
   ]
  },
  {
   "cell_type": "code",
   "execution_count": 33,
   "metadata": {},
   "outputs": [
    {
     "name": "stdout",
     "output_type": "stream",
     "text": [
      "              precision    recall  f1-score   support\n",
      "\n",
      "           0       0.79      0.88      0.83        50\n",
      "           1       0.71      0.56      0.63        27\n",
      "\n",
      "   micro avg       0.77      0.77      0.77        77\n",
      "   macro avg       0.75      0.72      0.73        77\n",
      "weighted avg       0.76      0.77      0.76        77\n",
      "\n"
     ]
    }
   ],
   "source": [
    "AdaBoosts=AdaBoostClassifier(n_estimators=300,random_state=99,\n",
    "                             learning_rate=0.1)\n",
    "AdaBoostsFit=AdaBoosts.fit(Xtrain, ytrain)\n",
    "ypred = AdaBoostsFit.predict(Xtest)\n",
    "print(classification_report(ytest, ypred))\n"
   ]
  },
  {
   "cell_type": "code",
   "execution_count": 34,
   "metadata": {},
   "outputs": [
    {
     "name": "stdout",
     "output_type": "stream",
     "text": [
      "AdaBoost Feature Importances:\n"
     ]
    },
    {
     "data": {
      "text/plain": [
       "array([0.04666667, 0.22666667, 0.05666667, 0.01      , 0.05666667,\n",
       "       0.17666667, 0.27666667, 0.15      ])"
      ]
     },
     "execution_count": 34,
     "metadata": {},
     "output_type": "execute_result"
    }
   ],
   "source": [
    "print('AdaBoost Feature Importances:')\n",
    "\n",
    "AdaBoostsFit.feature_importances_"
   ]
  },
  {
   "cell_type": "markdown",
   "metadata": {},
   "source": [
    "Looks about the same as the gradient boosting results?  Here's the ROC:"
   ]
  },
  {
   "cell_type": "code",
   "execution_count": 35,
   "metadata": {},
   "outputs": [],
   "source": [
    "ypredProb=AdaBoostsFit.predict_proba(Xtest)"
   ]
  },
  {
   "cell_type": "code",
   "execution_count": 38,
   "metadata": {},
   "outputs": [
    {
     "data": {
      "image/png": "[encoded data removed]",
      "text/plain": [
       "<Figure size 504x504 with 1 Axes>"
      ]
     },
     "metadata": {
      "needs_background": "light"
     },
     "output_type": "display_data"
    },
    {
     "data": {
      "image/png": "[encoded data removed]",
      "text/plain": [
       "<Figure size 504x504 with 1 Axes>"
      ]
     },
     "metadata": {
      "needs_background": "light"
     },
     "output_type": "display_data"
    }
   ],
   "source": [
    "skplt.metrics.plot_roc(ytest, ypredProb, title=\"ADaBoosted Test Data ROC\",\n",
    "                      figsize=(7,7),\n",
    "                      plot_micro=False,\n",
    "                      plot_macro=False,\n",
    "                      classes_to_plot=1);\n",
    "\n",
    "skplt.metrics.plot_precision_recall(ytest, ypredProb, title=\"Gradient Boosting Test Data ROC\",\n",
    "                      figsize=(7,7),\n",
    "                      plot_micro=False,\n",
    "                      classes_to_plot=1);"
   ]
  },
  {
   "cell_type": "markdown",
   "metadata": {},
   "source": [
    "# UDU: AdaBoosted Regression\n",
    "\n",
    "Try training a Boosted regression model using the _radon_ data.\n",
    "\n",
    "Here's where you can find the scikit-learn documentation to do it: [AdaBoostRegressor](https://scikit-learn.org/stable/modules/generated/sklearn.ensemble.AdaBoostRegressor.html#sklearn.ensemble.AdaBoostRegressor). "
   ]
  }
 ],
 "metadata": {
  "hide_input": false,
  "kernelspec": {
   "display_name": "Python 3",
   "language": "python",
   "name": "python3"
  },
  "language_info": {
   "codemirror_mode": {
    "name": "ipython",
    "version": 3
   },
   "file_extension": ".py",
   "mimetype": "text/x-python",
   "name": "python",
   "nbconvert_exporter": "python",
   "pygments_lexer": "ipython3",
   "version": "3.7.3"
  },
  "latex_envs": {
   "LaTeX_envs_menu_present": true,
   "autoclose": false,
   "autocomplete": true,
   "bibliofile": "biblio.bib",
   "cite_by": "apalike",
   "current_citInitial": 1,
   "eqLabelWithNumbers": true,
   "eqNumInitial": 1,
   "hotkeys": {
    "equation": "Ctrl-E",
    "itemize": "Ctrl-I"
   },
   "labels_anchors": false,
   "latex_user_defs": false,
   "report_style_numbering": false,
   "user_envs_cfg": false
  },
  "toc": {
   "base_numbering": 1,
   "nav_menu": {},
   "number_sections": false,
   "sideBar": true,
   "skip_h1_title": false,
   "title_cell": "Table of Contents",
   "title_sidebar": "Contents",
   "toc_cell": false,
   "toc_position": {
    "height": "calc(100% - 180px)",
    "left": "10px",
    "top": "150px",
    "width": "315.8px"
   },
   "toc_section_display": true,
   "toc_window_display": false
  }
 },
 "nbformat": 4,
 "nbformat_minor": 2
}
