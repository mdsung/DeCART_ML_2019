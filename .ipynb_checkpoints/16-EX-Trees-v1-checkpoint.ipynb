{
 "cells": [
  {
   "cell_type": "markdown",
   "metadata": {},
   "source": [
    "Creative Commons CC BY 4.0 Lynd Bacon & Associates, Ltd. Not warranted to be suitable for any particular purpose. (You're on your own!)"
   ]
  },
  {
   "cell_type": "markdown",
   "metadata": {},
   "source": [
    "# Classification and Regression Trees\n",
    "\n",
    "There are many different algorithms that use tree-structured partitionings of features to predict target variable values.  They include:  \n",
    "\n",
    "* CART\n",
    "* C 5.0\n",
    "* Random Forest (an _ensemble_ method)\n",
    "* CHAID ($\\chi^2$ interaction detection)\n",
    "* Various boosting implmentations\n",
    "\n",
    "## CART \n",
    "\n",
    "CART \"trains\" by recursively partitioning, or splitting the data in a sequence of steps that each attempts to best explain, or discriminate between, target variable labels.  It can be used for regression and for classification problems. In the case of the latter, CART can be used to predict k labels, where k $\\ge$ 2. \n",
    "\n",
    "It is a _greedy algorithm_: it attempts to optimize predictive accuracy binary split by split, rather than on an overall basis.  As a result, it may not find the best, or optimal, tree.  Classifier tree splits are determined based on the resulting quality of the results of the split based on a measure of homogeneity, [_Gini Impurity_](https://en.wikipedia.org/wiki/Decision_tree_learning#Gini_impurity), or in terms of [entropy](https://en.wikipedia.org/wiki/Entropy#Information_theory). The utility of regression tree splits are measured in terms of mean squared predictor error, and variations on it.\n",
    "\n",
    "\n",
    "CART requires making few assumptions about the data.  It tends to overfit.  Overfitting can be mitigated by regularization using hyperparameters that limit tree size, minimum size of the result of a split, the number of features used for splitting, and the final number of distinct partitions of the data.\n",
    "\n",
    "A CART model can be _examined_:  it can be represented as a hierarchy of \"if then\" rules.  It's not \"black box.\"\n",
    "\n",
    "CART and other tree models have some specific terminology:\n",
    "\n",
    "* A partition is called a _node_;\n",
    "* Splits result in _branches_ that lead to new, smaller nodes that descend from \"parent\" nodes;\n",
    "* The final nodes are sometimes called _leaves_.\n",
    "* The pre-split data is usually called the _root_ node.\n",
    "\n",
    "This terminology becomes more clear when looking \n",
    "\n",
    "The CART algorithm was originally described by [Breiman, Freedman, Stone & Olshen (1984)](https://www.amazon.com/Classification-Regression-Wadsworth-Statistics-Probability/dp/0412048418). \n",
    "\n",
    "Let's give using CART on the cervical CA data a try."
   ]
  },
  {
   "cell_type": "code",
   "execution_count": 84,
   "metadata": {},
   "outputs": [],
   "source": [
    "from IPython.core.interactiveshell import InteractiveShell\n",
    "InteractiveShell.ast_node_interactivity = \"all\"\n",
    "from IPython.display import display, Markdown\n",
    "import numpy as np\n",
    "import pandas as pd\n",
    "\n",
    "import matplotlib.pyplot as plt\n",
    "import scikitplot as skplt\n",
    "from sklearn import linear_model\n",
    "from sklearn.model_selection import KFold, StratifiedShuffleSplit\n",
    "from sklearn.model_selection import cross_val_predict, train_test_split\n",
    "from sklearn.model_selection import GridSearchCV\n",
    "from sklearn import preprocessing\n",
    "from sklearn.metrics import accuracy_score, confusion_matrix, roc_auc_score, average_precision_score,f1_score\n",
    "from sklearn.metrics import roc_curve, precision_score, recall_score\n",
    "from sklearn.naive_bayes import GaussianNB\n",
    "import pickle\n",
    "import os\n",
    "import shelve\n",
    "from sklearn.tree import DecisionTreeClassifier, export_graphviz \n",
    "%matplotlib inline\n"
   ]
  },
  {
   "cell_type": "markdown",
   "metadata": {},
   "source": [
    "# Getting the Data\n",
    "\n",
    "Let's get the data in that `shelve` database. \n",
    "\n",
    "Assuming they are in the data subdirectory of the current pwd: (Adjust as necessary)"
   ]
  },
  {
   "cell_type": "code",
   "execution_count": 2,
   "metadata": {},
   "outputs": [],
   "source": [
    "with shelve.open('cervical') as sdb:\n",
    "    cervical=sdb['cervical']  # this should be aPandas DataFrame\n",
    "    cervical2=sdb['cervical2']  # this should be, too"
   ]
  },
  {
   "cell_type": "code",
   "execution_count": 3,
   "metadata": {},
   "outputs": [],
   "source": [
    "X=cervical2.iloc[:,1:].to_numpy()\n",
    "y=cervical2.iloc[:,0].to_numpy()\n",
    "feat_nams=cervical2.columns.to_list()[1:]"
   ]
  },
  {
   "cell_type": "markdown",
   "metadata": {},
   "source": [
    "# CART Classifier"
   ]
  },
  {
   "cell_type": "markdown",
   "metadata": {},
   "source": [
    "Here we're using the [scikit-learn DecisionTreeClassifier](https://scikit-learn.org/stable/modules/generated/sklearn.tree.DecisionTreeClassifier.html#sklearn.tree.DecisionTreeClassifier):"
   ]
  },
  {
   "cell_type": "code",
   "execution_count": 4,
   "metadata": {},
   "outputs": [],
   "source": [
    "cTree=DecisionTreeClassifier(max_depth=2,\n",
    "                             min_samples_leaf=20,\n",
    "                             min_samples_split=50)\n",
    "tree_clf1=cTree.fit(X,y)"
   ]
  },
  {
   "cell_type": "code",
   "execution_count": 24,
   "metadata": {},
   "outputs": [],
   "source": [
    "# export to dot file, use the dot program to create a png file.\n",
    "export_graphviz(\n",
    "    tree_clf1,\n",
    "    out_file='cTree.dot',  #doesn't seem to overwrite by default\n",
    "    feature_names=feat_nams,\n",
    "    rounded=True,\n",
    "    filled=True\n",
    ")"
   ]
  },
  {
   "cell_type": "markdown",
   "metadata": {},
   "source": [
    "After exporting the dot file, it is converted to a png file using the dot program from the command prompt. Then the png is inserted into this Notebook:"
   ]
  },
  {
   "cell_type": "markdown",
   "metadata": {},
   "source": [
    "# dot program command; > is the terminal command prompt:\n"
   ]
  },
  {
   "cell_type": "code",
   "execution_count": 25,
   "metadata": {},
   "outputs": [],
   "source": [
    "!dot -Tpng cTree.dot -o cTree.png"
   ]
  },
  {
   "cell_type": "markdown",
   "metadata": {},
   "source": [
    "![cTree](cTree.png)"
   ]
  },
  {
   "cell_type": "markdown",
   "metadata": {},
   "source": [
    "![cTree](cTree.png)"
   ]
  },
  {
   "cell_type": "markdown",
   "metadata": {},
   "source": [
    "## CART Predictions, etc.\n",
    "\n",
    "Predictions can be obtained from either type of CART model.  Here we'll examine the predictions the classifier above produces."
   ]
  },
  {
   "cell_type": "code",
   "execution_count": 10,
   "metadata": {},
   "outputs": [],
   "source": [
    "cervPred=tree_clf1.predict(X)\n",
    "cervPredProb=tree_clf1.predict_proba(X)"
   ]
  },
  {
   "cell_type": "markdown",
   "metadata": {},
   "source": [
    "## Accuracy, AUC"
   ]
  },
  {
   "cell_type": "code",
   "execution_count": 11,
   "metadata": {},
   "outputs": [
    {
     "name": "stdout",
     "output_type": "stream",
     "text": [
      "CART accuracy: 0.932 AUC: 0.600\n"
     ]
    }
   ],
   "source": [
    "print(\"CART accuracy: {:5.3f} AUC: {:5.3f}\".format(\n",
    "        accuracy_score(y,cervPred),\n",
    "        roc_auc_score(y,cervPredProb[:,1]))\n",
    "     )"
   ]
  },
  {
   "cell_type": "markdown",
   "metadata": {},
   "source": [
    "# Precision and Recall"
   ]
  },
  {
   "cell_type": "raw",
   "metadata": {},
   "source": [
    "print(\"CART precision: {:5.3f} Recall: {:5.3f}\".format(\n",
    "        precision_score(y,cervPredProb),\n",
    "        recall_score(y,cervPredProb))\n",
    "     )"
   ]
  },
  {
   "cell_type": "code",
   "execution_count": 12,
   "metadata": {},
   "outputs": [
    {
     "data": {
      "image/png": "[encoded data removed]",
      "text/plain": [
       "<Figure size 504x504 with 1 Axes>"
      ]
     },
     "metadata": {
      "needs_background": "light"
     },
     "output_type": "display_data"
    }
   ],
   "source": [
    "skplt.metrics.plot_precision_recall(y, cervPredProb,\n",
    "        plot_micro=False,\n",
    "        figsize=(7,7),\n",
    "        classes_to_plot=1,\n",
    "        title='CART Classifier PR Curve');"
   ]
  },
  {
   "cell_type": "markdown",
   "metadata": {},
   "source": [
    "**Question**:  Why do you think there's an \"elbow\" in the above Precision/Recall graph?"
   ]
  },
  {
   "cell_type": "markdown",
   "metadata": {},
   "source": [
    "# UDU: Grid Search and CV for Better CARTing\n",
    "\n",
    "There are tools in other (non-Python) environments for \"pruning\" CART trees so as to reduce overfitting.  Another way of getting a good CART model is by doing a grid search over tree parameters.  Try that here.  The following code will give you a start.  Give at go at manipulating the parameter values that are searched.  Try adding additional parameters with values to search over.\n",
    "\n",
    "Did your results produce anything really useful?"
   ]
  },
  {
   "cell_type": "code",
   "execution_count": 13,
   "metadata": {},
   "outputs": [],
   "source": [
    "X_train, X_test, y_train, y_test = train_test_split(X, y, random_state=99)"
   ]
  },
  {
   "cell_type": "markdown",
   "metadata": {},
   "source": [
    "Here are the parameters that values can be searched for:"
   ]
  },
  {
   "cell_type": "code",
   "execution_count": 14,
   "metadata": {},
   "outputs": [
    {
     "name": "stdout",
     "output_type": "stream",
     "text": [
      "Tree Parameters:\n"
     ]
    },
    {
     "data": {
      "text/plain": [
       "dict_keys(['class_weight', 'criterion', 'max_depth', 'max_features', 'max_leaf_nodes', 'min_impurity_decrease', 'min_impurity_split', 'min_samples_leaf', 'min_samples_split', 'min_weight_fraction_leaf', 'presort', 'random_state', 'splitter'])"
      ]
     },
     "execution_count": 14,
     "metadata": {},
     "output_type": "execute_result"
    }
   ],
   "source": [
    "treeclf=DecisionTreeClassifier(criterion='entropy',random_state=99)\n",
    "print(\"Tree Parameters:\")\n",
    "treeclf.get_params().keys()"
   ]
  },
  {
   "cell_type": "code",
   "execution_count": 15,
   "metadata": {},
   "outputs": [
    {
     "name": "stderr",
     "output_type": "stream",
     "text": [
      "/opt/conda/lib/python3.7/site-packages/sklearn/model_selection/_search.py:841: DeprecationWarning: The default of the `iid` parameter will change from True to False in version 0.22 and will be removed in 0.24. This will change numeric results when test-set sizes are unequal.\n",
      "  DeprecationWarning)\n"
     ]
    },
    {
     "data": {
      "text/plain": [
       "GridSearchCV(cv=20, error_score='raise-deprecating',\n",
       "       estimator=DecisionTreeClassifier(class_weight=None, criterion='entropy', max_depth=None,\n",
       "            max_features=None, max_leaf_nodes=None,\n",
       "            min_impurity_decrease=0.0, min_impurity_split=None,\n",
       "            min_samples_leaf=1, min_samples_split=2,\n",
       "            min_weight_fraction_leaf=0.0, presort=False, random_state=99,\n",
       "            splitter='best'),\n",
       "       fit_params=None, iid='warn', n_jobs=None,\n",
       "       param_grid={'max_depth': [2, 3, 4], 'min_samples_leaf': [10, 20], 'max_features': [3, 5, 7]},\n",
       "       pre_dispatch='2*n_jobs', refit=True, return_train_score='warn',\n",
       "       scoring=None, verbose=0)"
      ]
     },
     "execution_count": 15,
     "metadata": {},
     "output_type": "execute_result"
    }
   ],
   "source": [
    "param_grid={'max_depth':[2,3,4],'min_samples_leaf':[10,20],\n",
    "            'max_features':[3,5,7]}\n",
    "grid=GridSearchCV(treeclf,param_grid=param_grid,cv=20)\n",
    "grid.fit(X_train,y_train)"
   ]
  },
  {
   "cell_type": "code",
   "execution_count": 16,
   "metadata": {},
   "outputs": [
    {
     "name": "stdout",
     "output_type": "stream",
     "text": [
      "Best cross-validation accuracy: 0.9270\n",
      "Test set score: 0.9467\n",
      "Best parameters: {'max_depth': 2, 'max_features': 3, 'min_samples_leaf': 10}\n"
     ]
    }
   ],
   "source": [
    "print(\"Best cross-validation accuracy: {:.4f}\".format(grid.best_score_))\n",
    "print(\"Test set score: {:.4f}\".format(grid.score(X_test, y_test)))\n",
    "print(\"Best parameters: {}\".format(grid.best_params_))"
   ]
  },
  {
   "cell_type": "code",
   "execution_count": 18,
   "metadata": {},
   "outputs": [
    {
     "name": "stderr",
     "output_type": "stream",
     "text": [
      "/opt/conda/lib/python3.7/site-packages/sklearn/utils/deprecation.py:125: FutureWarning: You are accessing a training score ('split0_train_score'), which will not be available by default any more in 0.21. If you need training scores, please set return_train_score=True\n",
      "  warnings.warn(*warn_args, **warn_kwargs)\n",
      "/opt/conda/lib/python3.7/site-packages/sklearn/utils/deprecation.py:125: FutureWarning: You are accessing a training score ('split1_train_score'), which will not be available by default any more in 0.21. If you need training scores, please set return_train_score=True\n",
      "  warnings.warn(*warn_args, **warn_kwargs)\n",
      "/opt/conda/lib/python3.7/site-packages/sklearn/utils/deprecation.py:125: FutureWarning: You are accessing a training score ('split2_train_score'), which will not be available by default any more in 0.21. If you need training scores, please set return_train_score=True\n",
      "  warnings.warn(*warn_args, **warn_kwargs)\n",
      "/opt/conda/lib/python3.7/site-packages/sklearn/utils/deprecation.py:125: FutureWarning: You are accessing a training score ('split3_train_score'), which will not be available by default any more in 0.21. If you need training scores, please set return_train_score=True\n",
      "  warnings.warn(*warn_args, **warn_kwargs)\n",
      "/opt/conda/lib/python3.7/site-packages/sklearn/utils/deprecation.py:125: FutureWarning: You are accessing a training score ('split4_train_score'), which will not be available by default any more in 0.21. If you need training scores, please set return_train_score=True\n",
      "  warnings.warn(*warn_args, **warn_kwargs)\n",
      "/opt/conda/lib/python3.7/site-packages/sklearn/utils/deprecation.py:125: FutureWarning: You are accessing a training score ('split5_train_score'), which will not be available by default any more in 0.21. If you need training scores, please set return_train_score=True\n",
      "  warnings.warn(*warn_args, **warn_kwargs)\n",
      "/opt/conda/lib/python3.7/site-packages/sklearn/utils/deprecation.py:125: FutureWarning: You are accessing a training score ('split6_train_score'), which will not be available by default any more in 0.21. If you need training scores, please set return_train_score=True\n",
      "  warnings.warn(*warn_args, **warn_kwargs)\n",
      "/opt/conda/lib/python3.7/site-packages/sklearn/utils/deprecation.py:125: FutureWarning: You are accessing a training score ('split7_train_score'), which will not be available by default any more in 0.21. If you need training scores, please set return_train_score=True\n",
      "  warnings.warn(*warn_args, **warn_kwargs)\n",
      "/opt/conda/lib/python3.7/site-packages/sklearn/utils/deprecation.py:125: FutureWarning: You are accessing a training score ('split8_train_score'), which will not be available by default any more in 0.21. If you need training scores, please set return_train_score=True\n",
      "  warnings.warn(*warn_args, **warn_kwargs)\n",
      "/opt/conda/lib/python3.7/site-packages/sklearn/utils/deprecation.py:125: FutureWarning: You are accessing a training score ('split9_train_score'), which will not be available by default any more in 0.21. If you need training scores, please set return_train_score=True\n",
      "  warnings.warn(*warn_args, **warn_kwargs)\n",
      "/opt/conda/lib/python3.7/site-packages/sklearn/utils/deprecation.py:125: FutureWarning: You are accessing a training score ('split10_train_score'), which will not be available by default any more in 0.21. If you need training scores, please set return_train_score=True\n",
      "  warnings.warn(*warn_args, **warn_kwargs)\n",
      "/opt/conda/lib/python3.7/site-packages/sklearn/utils/deprecation.py:125: FutureWarning: You are accessing a training score ('split11_train_score'), which will not be available by default any more in 0.21. If you need training scores, please set return_train_score=True\n",
      "  warnings.warn(*warn_args, **warn_kwargs)\n",
      "/opt/conda/lib/python3.7/site-packages/sklearn/utils/deprecation.py:125: FutureWarning: You are accessing a training score ('split12_train_score'), which will not be available by default any more in 0.21. If you need training scores, please set return_train_score=True\n",
      "  warnings.warn(*warn_args, **warn_kwargs)\n",
      "/opt/conda/lib/python3.7/site-packages/sklearn/utils/deprecation.py:125: FutureWarning: You are accessing a training score ('split13_train_score'), which will not be available by default any more in 0.21. If you need training scores, please set return_train_score=True\n",
      "  warnings.warn(*warn_args, **warn_kwargs)\n",
      "/opt/conda/lib/python3.7/site-packages/sklearn/utils/deprecation.py:125: FutureWarning: You are accessing a training score ('split14_train_score'), which will not be available by default any more in 0.21. If you need training scores, please set return_train_score=True\n",
      "  warnings.warn(*warn_args, **warn_kwargs)\n",
      "/opt/conda/lib/python3.7/site-packages/sklearn/utils/deprecation.py:125: FutureWarning: You are accessing a training score ('split15_train_score'), which will not be available by default any more in 0.21. If you need training scores, please set return_train_score=True\n",
      "  warnings.warn(*warn_args, **warn_kwargs)\n",
      "/opt/conda/lib/python3.7/site-packages/sklearn/utils/deprecation.py:125: FutureWarning: You are accessing a training score ('split16_train_score'), which will not be available by default any more in 0.21. If you need training scores, please set return_train_score=True\n",
      "  warnings.warn(*warn_args, **warn_kwargs)\n",
      "/opt/conda/lib/python3.7/site-packages/sklearn/utils/deprecation.py:125: FutureWarning: You are accessing a training score ('split17_train_score'), which will not be available by default any more in 0.21. If you need training scores, please set return_train_score=True\n",
      "  warnings.warn(*warn_args, **warn_kwargs)\n",
      "/opt/conda/lib/python3.7/site-packages/sklearn/utils/deprecation.py:125: FutureWarning: You are accessing a training score ('split18_train_score'), which will not be available by default any more in 0.21. If you need training scores, please set return_train_score=True\n",
      "  warnings.warn(*warn_args, **warn_kwargs)\n",
      "/opt/conda/lib/python3.7/site-packages/sklearn/utils/deprecation.py:125: FutureWarning: You are accessing a training score ('split19_train_score'), which will not be available by default any more in 0.21. If you need training scores, please set return_train_score=True\n",
      "  warnings.warn(*warn_args, **warn_kwargs)\n",
      "/opt/conda/lib/python3.7/site-packages/sklearn/utils/deprecation.py:125: FutureWarning: You are accessing a training score ('mean_train_score'), which will not be available by default any more in 0.21. If you need training scores, please set return_train_score=True\n",
      "  warnings.warn(*warn_args, **warn_kwargs)\n",
      "/opt/conda/lib/python3.7/site-packages/sklearn/utils/deprecation.py:125: FutureWarning: You are accessing a training score ('std_train_score'), which will not be available by default any more in 0.21. If you need training scores, please set return_train_score=True\n",
      "  warnings.warn(*warn_args, **warn_kwargs)\n"
     ]
    },
    {
     "data": {
      "text/html": [
       "<div>\n",
       "<style scoped>\n",
       "    .dataframe tbody tr th:only-of-type {\n",
       "        vertical-align: middle;\n",
       "    }\n",
       "\n",
       "    .dataframe tbody tr th {\n",
       "        vertical-align: top;\n",
       "    }\n",
       "\n",
       "    .dataframe thead th {\n",
       "        text-align: right;\n",
       "    }\n",
       "</style>\n",
       "<table border=\"1\" class=\"dataframe\">\n",
       "  <thead>\n",
       "    <tr style=\"text-align: right;\">\n",
       "      <th></th>\n",
       "      <th>mean_fit_time</th>\n",
       "      <th>std_fit_time</th>\n",
       "      <th>mean_score_time</th>\n",
       "      <th>std_score_time</th>\n",
       "      <th>param_max_depth</th>\n",
       "      <th>param_max_features</th>\n",
       "      <th>param_min_samples_leaf</th>\n",
       "      <th>params</th>\n",
       "      <th>split0_test_score</th>\n",
       "      <th>split1_test_score</th>\n",
       "      <th>...</th>\n",
       "      <th>split12_train_score</th>\n",
       "      <th>split13_train_score</th>\n",
       "      <th>split14_train_score</th>\n",
       "      <th>split15_train_score</th>\n",
       "      <th>split16_train_score</th>\n",
       "      <th>split17_train_score</th>\n",
       "      <th>split18_train_score</th>\n",
       "      <th>split19_train_score</th>\n",
       "      <th>mean_train_score</th>\n",
       "      <th>std_train_score</th>\n",
       "    </tr>\n",
       "  </thead>\n",
       "  <tbody>\n",
       "    <tr>\n",
       "      <th>0</th>\n",
       "      <td>0.000728</td>\n",
       "      <td>0.000054</td>\n",
       "      <td>0.000467</td>\n",
       "      <td>0.000029</td>\n",
       "      <td>2</td>\n",
       "      <td>3</td>\n",
       "      <td>10</td>\n",
       "      <td>{'max_depth': 2, 'max_features': 3, 'min_sampl...</td>\n",
       "      <td>0.923077</td>\n",
       "      <td>0.923077</td>\n",
       "      <td>...</td>\n",
       "      <td>0.927386</td>\n",
       "      <td>0.927386</td>\n",
       "      <td>0.927386</td>\n",
       "      <td>0.927386</td>\n",
       "      <td>0.927386</td>\n",
       "      <td>0.925466</td>\n",
       "      <td>0.925466</td>\n",
       "      <td>0.925466</td>\n",
       "      <td>0.927022</td>\n",
       "      <td>0.000657</td>\n",
       "    </tr>\n",
       "    <tr>\n",
       "      <th>1</th>\n",
       "      <td>0.000671</td>\n",
       "      <td>0.000020</td>\n",
       "      <td>0.000446</td>\n",
       "      <td>0.000018</td>\n",
       "      <td>2</td>\n",
       "      <td>3</td>\n",
       "      <td>20</td>\n",
       "      <td>{'max_depth': 2, 'max_features': 3, 'min_sampl...</td>\n",
       "      <td>0.923077</td>\n",
       "      <td>0.923077</td>\n",
       "      <td>...</td>\n",
       "      <td>0.927386</td>\n",
       "      <td>0.927386</td>\n",
       "      <td>0.927386</td>\n",
       "      <td>0.927386</td>\n",
       "      <td>0.927386</td>\n",
       "      <td>0.925466</td>\n",
       "      <td>0.925466</td>\n",
       "      <td>0.925466</td>\n",
       "      <td>0.927022</td>\n",
       "      <td>0.000657</td>\n",
       "    </tr>\n",
       "    <tr>\n",
       "      <th>2</th>\n",
       "      <td>0.000759</td>\n",
       "      <td>0.000025</td>\n",
       "      <td>0.000454</td>\n",
       "      <td>0.000019</td>\n",
       "      <td>2</td>\n",
       "      <td>5</td>\n",
       "      <td>10</td>\n",
       "      <td>{'max_depth': 2, 'max_features': 5, 'min_sampl...</td>\n",
       "      <td>0.923077</td>\n",
       "      <td>0.923077</td>\n",
       "      <td>...</td>\n",
       "      <td>0.927386</td>\n",
       "      <td>0.927386</td>\n",
       "      <td>0.927386</td>\n",
       "      <td>0.927386</td>\n",
       "      <td>0.927386</td>\n",
       "      <td>0.925466</td>\n",
       "      <td>0.925466</td>\n",
       "      <td>0.925466</td>\n",
       "      <td>0.927022</td>\n",
       "      <td>0.000657</td>\n",
       "    </tr>\n",
       "    <tr>\n",
       "      <th>3</th>\n",
       "      <td>0.000723</td>\n",
       "      <td>0.000023</td>\n",
       "      <td>0.000434</td>\n",
       "      <td>0.000015</td>\n",
       "      <td>2</td>\n",
       "      <td>5</td>\n",
       "      <td>20</td>\n",
       "      <td>{'max_depth': 2, 'max_features': 5, 'min_sampl...</td>\n",
       "      <td>0.923077</td>\n",
       "      <td>0.923077</td>\n",
       "      <td>...</td>\n",
       "      <td>0.927386</td>\n",
       "      <td>0.927386</td>\n",
       "      <td>0.927386</td>\n",
       "      <td>0.927386</td>\n",
       "      <td>0.927386</td>\n",
       "      <td>0.925466</td>\n",
       "      <td>0.925466</td>\n",
       "      <td>0.925466</td>\n",
       "      <td>0.927022</td>\n",
       "      <td>0.000657</td>\n",
       "    </tr>\n",
       "    <tr>\n",
       "      <th>4</th>\n",
       "      <td>0.000762</td>\n",
       "      <td>0.000025</td>\n",
       "      <td>0.000423</td>\n",
       "      <td>0.000015</td>\n",
       "      <td>2</td>\n",
       "      <td>7</td>\n",
       "      <td>10</td>\n",
       "      <td>{'max_depth': 2, 'max_features': 7, 'min_sampl...</td>\n",
       "      <td>0.923077</td>\n",
       "      <td>0.923077</td>\n",
       "      <td>...</td>\n",
       "      <td>0.927386</td>\n",
       "      <td>0.927386</td>\n",
       "      <td>0.927386</td>\n",
       "      <td>0.927386</td>\n",
       "      <td>0.927386</td>\n",
       "      <td>0.925466</td>\n",
       "      <td>0.925466</td>\n",
       "      <td>0.925466</td>\n",
       "      <td>0.927022</td>\n",
       "      <td>0.000657</td>\n",
       "    </tr>\n",
       "    <tr>\n",
       "      <th>5</th>\n",
       "      <td>0.001309</td>\n",
       "      <td>0.000076</td>\n",
       "      <td>0.000729</td>\n",
       "      <td>0.000007</td>\n",
       "      <td>2</td>\n",
       "      <td>7</td>\n",
       "      <td>20</td>\n",
       "      <td>{'max_depth': 2, 'max_features': 7, 'min_sampl...</td>\n",
       "      <td>0.923077</td>\n",
       "      <td>0.923077</td>\n",
       "      <td>...</td>\n",
       "      <td>0.927386</td>\n",
       "      <td>0.927386</td>\n",
       "      <td>0.927386</td>\n",
       "      <td>0.927386</td>\n",
       "      <td>0.927386</td>\n",
       "      <td>0.925466</td>\n",
       "      <td>0.925466</td>\n",
       "      <td>0.925466</td>\n",
       "      <td>0.927022</td>\n",
       "      <td>0.000657</td>\n",
       "    </tr>\n",
       "    <tr>\n",
       "      <th>6</th>\n",
       "      <td>0.001218</td>\n",
       "      <td>0.000017</td>\n",
       "      <td>0.000739</td>\n",
       "      <td>0.000014</td>\n",
       "      <td>3</td>\n",
       "      <td>3</td>\n",
       "      <td>10</td>\n",
       "      <td>{'max_depth': 3, 'max_features': 3, 'min_sampl...</td>\n",
       "      <td>0.923077</td>\n",
       "      <td>0.923077</td>\n",
       "      <td>...</td>\n",
       "      <td>0.927386</td>\n",
       "      <td>0.927386</td>\n",
       "      <td>0.927386</td>\n",
       "      <td>0.927386</td>\n",
       "      <td>0.927386</td>\n",
       "      <td>0.925466</td>\n",
       "      <td>0.925466</td>\n",
       "      <td>0.925466</td>\n",
       "      <td>0.927022</td>\n",
       "      <td>0.000657</td>\n",
       "    </tr>\n",
       "    <tr>\n",
       "      <th>7</th>\n",
       "      <td>0.001208</td>\n",
       "      <td>0.000027</td>\n",
       "      <td>0.000732</td>\n",
       "      <td>0.000008</td>\n",
       "      <td>3</td>\n",
       "      <td>3</td>\n",
       "      <td>20</td>\n",
       "      <td>{'max_depth': 3, 'max_features': 3, 'min_sampl...</td>\n",
       "      <td>0.923077</td>\n",
       "      <td>0.923077</td>\n",
       "      <td>...</td>\n",
       "      <td>0.927386</td>\n",
       "      <td>0.927386</td>\n",
       "      <td>0.927386</td>\n",
       "      <td>0.927386</td>\n",
       "      <td>0.927386</td>\n",
       "      <td>0.925466</td>\n",
       "      <td>0.925466</td>\n",
       "      <td>0.925466</td>\n",
       "      <td>0.927022</td>\n",
       "      <td>0.000657</td>\n",
       "    </tr>\n",
       "    <tr>\n",
       "      <th>8</th>\n",
       "      <td>0.001343</td>\n",
       "      <td>0.000103</td>\n",
       "      <td>0.000699</td>\n",
       "      <td>0.000056</td>\n",
       "      <td>3</td>\n",
       "      <td>5</td>\n",
       "      <td>10</td>\n",
       "      <td>{'max_depth': 3, 'max_features': 5, 'min_sampl...</td>\n",
       "      <td>0.923077</td>\n",
       "      <td>0.923077</td>\n",
       "      <td>...</td>\n",
       "      <td>0.927386</td>\n",
       "      <td>0.927386</td>\n",
       "      <td>0.927386</td>\n",
       "      <td>0.927386</td>\n",
       "      <td>0.927386</td>\n",
       "      <td>0.925466</td>\n",
       "      <td>0.925466</td>\n",
       "      <td>0.925466</td>\n",
       "      <td>0.927022</td>\n",
       "      <td>0.000657</td>\n",
       "    </tr>\n",
       "    <tr>\n",
       "      <th>9</th>\n",
       "      <td>0.001400</td>\n",
       "      <td>0.000397</td>\n",
       "      <td>0.000748</td>\n",
       "      <td>0.000163</td>\n",
       "      <td>3</td>\n",
       "      <td>5</td>\n",
       "      <td>20</td>\n",
       "      <td>{'max_depth': 3, 'max_features': 5, 'min_sampl...</td>\n",
       "      <td>0.923077</td>\n",
       "      <td>0.923077</td>\n",
       "      <td>...</td>\n",
       "      <td>0.927386</td>\n",
       "      <td>0.927386</td>\n",
       "      <td>0.927386</td>\n",
       "      <td>0.927386</td>\n",
       "      <td>0.927386</td>\n",
       "      <td>0.925466</td>\n",
       "      <td>0.925466</td>\n",
       "      <td>0.925466</td>\n",
       "      <td>0.927022</td>\n",
       "      <td>0.000657</td>\n",
       "    </tr>\n",
       "    <tr>\n",
       "      <th>10</th>\n",
       "      <td>0.001459</td>\n",
       "      <td>0.000064</td>\n",
       "      <td>0.000708</td>\n",
       "      <td>0.000030</td>\n",
       "      <td>3</td>\n",
       "      <td>7</td>\n",
       "      <td>10</td>\n",
       "      <td>{'max_depth': 3, 'max_features': 7, 'min_sampl...</td>\n",
       "      <td>0.923077</td>\n",
       "      <td>0.923077</td>\n",
       "      <td>...</td>\n",
       "      <td>0.927386</td>\n",
       "      <td>0.927386</td>\n",
       "      <td>0.927386</td>\n",
       "      <td>0.927386</td>\n",
       "      <td>0.927386</td>\n",
       "      <td>0.925466</td>\n",
       "      <td>0.925466</td>\n",
       "      <td>0.925466</td>\n",
       "      <td>0.927022</td>\n",
       "      <td>0.000657</td>\n",
       "    </tr>\n",
       "    <tr>\n",
       "      <th>11</th>\n",
       "      <td>0.001131</td>\n",
       "      <td>0.000262</td>\n",
       "      <td>0.000563</td>\n",
       "      <td>0.000129</td>\n",
       "      <td>3</td>\n",
       "      <td>7</td>\n",
       "      <td>20</td>\n",
       "      <td>{'max_depth': 3, 'max_features': 7, 'min_sampl...</td>\n",
       "      <td>0.923077</td>\n",
       "      <td>0.923077</td>\n",
       "      <td>...</td>\n",
       "      <td>0.927386</td>\n",
       "      <td>0.927386</td>\n",
       "      <td>0.927386</td>\n",
       "      <td>0.927386</td>\n",
       "      <td>0.927386</td>\n",
       "      <td>0.925466</td>\n",
       "      <td>0.925466</td>\n",
       "      <td>0.925466</td>\n",
       "      <td>0.927022</td>\n",
       "      <td>0.000657</td>\n",
       "    </tr>\n",
       "    <tr>\n",
       "      <th>12</th>\n",
       "      <td>0.000849</td>\n",
       "      <td>0.000020</td>\n",
       "      <td>0.000464</td>\n",
       "      <td>0.000009</td>\n",
       "      <td>4</td>\n",
       "      <td>3</td>\n",
       "      <td>10</td>\n",
       "      <td>{'max_depth': 4, 'max_features': 3, 'min_sampl...</td>\n",
       "      <td>0.923077</td>\n",
       "      <td>0.923077</td>\n",
       "      <td>...</td>\n",
       "      <td>0.927386</td>\n",
       "      <td>0.927386</td>\n",
       "      <td>0.927386</td>\n",
       "      <td>0.927386</td>\n",
       "      <td>0.927386</td>\n",
       "      <td>0.925466</td>\n",
       "      <td>0.925466</td>\n",
       "      <td>0.925466</td>\n",
       "      <td>0.927022</td>\n",
       "      <td>0.000657</td>\n",
       "    </tr>\n",
       "    <tr>\n",
       "      <th>13</th>\n",
       "      <td>0.000797</td>\n",
       "      <td>0.000017</td>\n",
       "      <td>0.000447</td>\n",
       "      <td>0.000020</td>\n",
       "      <td>4</td>\n",
       "      <td>3</td>\n",
       "      <td>20</td>\n",
       "      <td>{'max_depth': 4, 'max_features': 3, 'min_sampl...</td>\n",
       "      <td>0.923077</td>\n",
       "      <td>0.923077</td>\n",
       "      <td>...</td>\n",
       "      <td>0.927386</td>\n",
       "      <td>0.927386</td>\n",
       "      <td>0.927386</td>\n",
       "      <td>0.927386</td>\n",
       "      <td>0.927386</td>\n",
       "      <td>0.925466</td>\n",
       "      <td>0.925466</td>\n",
       "      <td>0.925466</td>\n",
       "      <td>0.927022</td>\n",
       "      <td>0.000657</td>\n",
       "    </tr>\n",
       "    <tr>\n",
       "      <th>14</th>\n",
       "      <td>0.000948</td>\n",
       "      <td>0.000020</td>\n",
       "      <td>0.000449</td>\n",
       "      <td>0.000010</td>\n",
       "      <td>4</td>\n",
       "      <td>5</td>\n",
       "      <td>10</td>\n",
       "      <td>{'max_depth': 4, 'max_features': 5, 'min_sampl...</td>\n",
       "      <td>0.923077</td>\n",
       "      <td>0.923077</td>\n",
       "      <td>...</td>\n",
       "      <td>0.927386</td>\n",
       "      <td>0.927386</td>\n",
       "      <td>0.927386</td>\n",
       "      <td>0.927386</td>\n",
       "      <td>0.927386</td>\n",
       "      <td>0.925466</td>\n",
       "      <td>0.925466</td>\n",
       "      <td>0.925466</td>\n",
       "      <td>0.927022</td>\n",
       "      <td>0.000657</td>\n",
       "    </tr>\n",
       "    <tr>\n",
       "      <th>15</th>\n",
       "      <td>0.000948</td>\n",
       "      <td>0.000033</td>\n",
       "      <td>0.000460</td>\n",
       "      <td>0.000009</td>\n",
       "      <td>4</td>\n",
       "      <td>5</td>\n",
       "      <td>20</td>\n",
       "      <td>{'max_depth': 4, 'max_features': 5, 'min_sampl...</td>\n",
       "      <td>0.923077</td>\n",
       "      <td>0.923077</td>\n",
       "      <td>...</td>\n",
       "      <td>0.927386</td>\n",
       "      <td>0.927386</td>\n",
       "      <td>0.927386</td>\n",
       "      <td>0.927386</td>\n",
       "      <td>0.927386</td>\n",
       "      <td>0.925466</td>\n",
       "      <td>0.925466</td>\n",
       "      <td>0.925466</td>\n",
       "      <td>0.927022</td>\n",
       "      <td>0.000657</td>\n",
       "    </tr>\n",
       "    <tr>\n",
       "      <th>16</th>\n",
       "      <td>0.001045</td>\n",
       "      <td>0.000024</td>\n",
       "      <td>0.000468</td>\n",
       "      <td>0.000009</td>\n",
       "      <td>4</td>\n",
       "      <td>7</td>\n",
       "      <td>10</td>\n",
       "      <td>{'max_depth': 4, 'max_features': 7, 'min_sampl...</td>\n",
       "      <td>0.923077</td>\n",
       "      <td>0.923077</td>\n",
       "      <td>...</td>\n",
       "      <td>0.927386</td>\n",
       "      <td>0.927386</td>\n",
       "      <td>0.927386</td>\n",
       "      <td>0.927386</td>\n",
       "      <td>0.927386</td>\n",
       "      <td>0.925466</td>\n",
       "      <td>0.925466</td>\n",
       "      <td>0.925466</td>\n",
       "      <td>0.927022</td>\n",
       "      <td>0.000657</td>\n",
       "    </tr>\n",
       "    <tr>\n",
       "      <th>17</th>\n",
       "      <td>0.001062</td>\n",
       "      <td>0.000060</td>\n",
       "      <td>0.000469</td>\n",
       "      <td>0.000008</td>\n",
       "      <td>4</td>\n",
       "      <td>7</td>\n",
       "      <td>20</td>\n",
       "      <td>{'max_depth': 4, 'max_features': 7, 'min_sampl...</td>\n",
       "      <td>0.923077</td>\n",
       "      <td>0.923077</td>\n",
       "      <td>...</td>\n",
       "      <td>0.927386</td>\n",
       "      <td>0.927386</td>\n",
       "      <td>0.927386</td>\n",
       "      <td>0.927386</td>\n",
       "      <td>0.927386</td>\n",
       "      <td>0.925466</td>\n",
       "      <td>0.925466</td>\n",
       "      <td>0.925466</td>\n",
       "      <td>0.927022</td>\n",
       "      <td>0.000657</td>\n",
       "    </tr>\n",
       "  </tbody>\n",
       "</table>\n",
       "<p>18 rows × 53 columns</p>\n",
       "</div>"
      ],
      "text/plain": [
       "    mean_fit_time  std_fit_time  mean_score_time  std_score_time  \\\n",
       "0        0.000728      0.000054         0.000467        0.000029   \n",
       "1        0.000671      0.000020         0.000446        0.000018   \n",
       "2        0.000759      0.000025         0.000454        0.000019   \n",
       "3        0.000723      0.000023         0.000434        0.000015   \n",
       "4        0.000762      0.000025         0.000423        0.000015   \n",
       "5        0.001309      0.000076         0.000729        0.000007   \n",
       "6        0.001218      0.000017         0.000739        0.000014   \n",
       "7        0.001208      0.000027         0.000732        0.000008   \n",
       "8        0.001343      0.000103         0.000699        0.000056   \n",
       "9        0.001400      0.000397         0.000748        0.000163   \n",
       "10       0.001459      0.000064         0.000708        0.000030   \n",
       "11       0.001131      0.000262         0.000563        0.000129   \n",
       "12       0.000849      0.000020         0.000464        0.000009   \n",
       "13       0.000797      0.000017         0.000447        0.000020   \n",
       "14       0.000948      0.000020         0.000449        0.000010   \n",
       "15       0.000948      0.000033         0.000460        0.000009   \n",
       "16       0.001045      0.000024         0.000468        0.000009   \n",
       "17       0.001062      0.000060         0.000469        0.000008   \n",
       "\n",
       "   param_max_depth param_max_features param_min_samples_leaf  \\\n",
       "0                2                  3                     10   \n",
       "1                2                  3                     20   \n",
       "2                2                  5                     10   \n",
       "3                2                  5                     20   \n",
       "4                2                  7                     10   \n",
       "5                2                  7                     20   \n",
       "6                3                  3                     10   \n",
       "7                3                  3                     20   \n",
       "8                3                  5                     10   \n",
       "9                3                  5                     20   \n",
       "10               3                  7                     10   \n",
       "11               3                  7                     20   \n",
       "12               4                  3                     10   \n",
       "13               4                  3                     20   \n",
       "14               4                  5                     10   \n",
       "15               4                  5                     20   \n",
       "16               4                  7                     10   \n",
       "17               4                  7                     20   \n",
       "\n",
       "                                               params  split0_test_score  \\\n",
       "0   {'max_depth': 2, 'max_features': 3, 'min_sampl...           0.923077   \n",
       "1   {'max_depth': 2, 'max_features': 3, 'min_sampl...           0.923077   \n",
       "2   {'max_depth': 2, 'max_features': 5, 'min_sampl...           0.923077   \n",
       "3   {'max_depth': 2, 'max_features': 5, 'min_sampl...           0.923077   \n",
       "4   {'max_depth': 2, 'max_features': 7, 'min_sampl...           0.923077   \n",
       "5   {'max_depth': 2, 'max_features': 7, 'min_sampl...           0.923077   \n",
       "6   {'max_depth': 3, 'max_features': 3, 'min_sampl...           0.923077   \n",
       "7   {'max_depth': 3, 'max_features': 3, 'min_sampl...           0.923077   \n",
       "8   {'max_depth': 3, 'max_features': 5, 'min_sampl...           0.923077   \n",
       "9   {'max_depth': 3, 'max_features': 5, 'min_sampl...           0.923077   \n",
       "10  {'max_depth': 3, 'max_features': 7, 'min_sampl...           0.923077   \n",
       "11  {'max_depth': 3, 'max_features': 7, 'min_sampl...           0.923077   \n",
       "12  {'max_depth': 4, 'max_features': 3, 'min_sampl...           0.923077   \n",
       "13  {'max_depth': 4, 'max_features': 3, 'min_sampl...           0.923077   \n",
       "14  {'max_depth': 4, 'max_features': 5, 'min_sampl...           0.923077   \n",
       "15  {'max_depth': 4, 'max_features': 5, 'min_sampl...           0.923077   \n",
       "16  {'max_depth': 4, 'max_features': 7, 'min_sampl...           0.923077   \n",
       "17  {'max_depth': 4, 'max_features': 7, 'min_sampl...           0.923077   \n",
       "\n",
       "    split1_test_score  ...  split12_train_score  split13_train_score  \\\n",
       "0            0.923077  ...             0.927386             0.927386   \n",
       "1            0.923077  ...             0.927386             0.927386   \n",
       "2            0.923077  ...             0.927386             0.927386   \n",
       "3            0.923077  ...             0.927386             0.927386   \n",
       "4            0.923077  ...             0.927386             0.927386   \n",
       "5            0.923077  ...             0.927386             0.927386   \n",
       "6            0.923077  ...             0.927386             0.927386   \n",
       "7            0.923077  ...             0.927386             0.927386   \n",
       "8            0.923077  ...             0.927386             0.927386   \n",
       "9            0.923077  ...             0.927386             0.927386   \n",
       "10           0.923077  ...             0.927386             0.927386   \n",
       "11           0.923077  ...             0.927386             0.927386   \n",
       "12           0.923077  ...             0.927386             0.927386   \n",
       "13           0.923077  ...             0.927386             0.927386   \n",
       "14           0.923077  ...             0.927386             0.927386   \n",
       "15           0.923077  ...             0.927386             0.927386   \n",
       "16           0.923077  ...             0.927386             0.927386   \n",
       "17           0.923077  ...             0.927386             0.927386   \n",
       "\n",
       "    split14_train_score  split15_train_score  split16_train_score  \\\n",
       "0              0.927386             0.927386             0.927386   \n",
       "1              0.927386             0.927386             0.927386   \n",
       "2              0.927386             0.927386             0.927386   \n",
       "3              0.927386             0.927386             0.927386   \n",
       "4              0.927386             0.927386             0.927386   \n",
       "5              0.927386             0.927386             0.927386   \n",
       "6              0.927386             0.927386             0.927386   \n",
       "7              0.927386             0.927386             0.927386   \n",
       "8              0.927386             0.927386             0.927386   \n",
       "9              0.927386             0.927386             0.927386   \n",
       "10             0.927386             0.927386             0.927386   \n",
       "11             0.927386             0.927386             0.927386   \n",
       "12             0.927386             0.927386             0.927386   \n",
       "13             0.927386             0.927386             0.927386   \n",
       "14             0.927386             0.927386             0.927386   \n",
       "15             0.927386             0.927386             0.927386   \n",
       "16             0.927386             0.927386             0.927386   \n",
       "17             0.927386             0.927386             0.927386   \n",
       "\n",
       "    split17_train_score  split18_train_score  split19_train_score  \\\n",
       "0              0.925466             0.925466             0.925466   \n",
       "1              0.925466             0.925466             0.925466   \n",
       "2              0.925466             0.925466             0.925466   \n",
       "3              0.925466             0.925466             0.925466   \n",
       "4              0.925466             0.925466             0.925466   \n",
       "5              0.925466             0.925466             0.925466   \n",
       "6              0.925466             0.925466             0.925466   \n",
       "7              0.925466             0.925466             0.925466   \n",
       "8              0.925466             0.925466             0.925466   \n",
       "9              0.925466             0.925466             0.925466   \n",
       "10             0.925466             0.925466             0.925466   \n",
       "11             0.925466             0.925466             0.925466   \n",
       "12             0.925466             0.925466             0.925466   \n",
       "13             0.925466             0.925466             0.925466   \n",
       "14             0.925466             0.925466             0.925466   \n",
       "15             0.925466             0.925466             0.925466   \n",
       "16             0.925466             0.925466             0.925466   \n",
       "17             0.925466             0.925466             0.925466   \n",
       "\n",
       "    mean_train_score  std_train_score  \n",
       "0           0.927022         0.000657  \n",
       "1           0.927022         0.000657  \n",
       "2           0.927022         0.000657  \n",
       "3           0.927022         0.000657  \n",
       "4           0.927022         0.000657  \n",
       "5           0.927022         0.000657  \n",
       "6           0.927022         0.000657  \n",
       "7           0.927022         0.000657  \n",
       "8           0.927022         0.000657  \n",
       "9           0.927022         0.000657  \n",
       "10          0.927022         0.000657  \n",
       "11          0.927022         0.000657  \n",
       "12          0.927022         0.000657  \n",
       "13          0.927022         0.000657  \n",
       "14          0.927022         0.000657  \n",
       "15          0.927022         0.000657  \n",
       "16          0.927022         0.000657  \n",
       "17          0.927022         0.000657  \n",
       "\n",
       "[18 rows x 53 columns]"
      ]
     },
     "execution_count": 18,
     "metadata": {},
     "output_type": "execute_result"
    }
   ],
   "source": [
    "# Use the following to examine cv_results. \n",
    "pd.DataFrame(grid.cv_results_)"
   ]
  },
  {
   "cell_type": "markdown",
   "metadata": {},
   "source": [
    "## \"Best\" Tree Based On Grid Search  \n",
    "\n",
    "Assuming that you get a \"best\" tree that is really any better than any other tree, of course.\n",
    "\n",
    "\\*\\*grid_best_params_, below, is a dict of parameter key value pairs.  It should be like the dict that's output, above."
   ]
  },
  {
   "cell_type": "code",
   "execution_count": 19,
   "metadata": {},
   "outputs": [],
   "source": [
    "# Get the best tree based on the search\n",
    "\n",
    "bestTree=DecisionTreeClassifier(**grid.best_params_)  \n",
    "\n",
    "# Fit this tree using the training data\n",
    "\n",
    "bestTreeFit=bestTree.fit(X_train,y_train)"
   ]
  },
  {
   "cell_type": "markdown",
   "metadata": {},
   "source": [
    "## Feature Importances\n",
    "\n",
    "Importance here is a normalized measure of the extent to which splits based on a feature reduce the fitting criterion, either _gini impurity_ or _entropy_. \n",
    "\n",
    "Your results will vary."
   ]
  },
  {
   "cell_type": "code",
   "execution_count": 39,
   "metadata": {},
   "outputs": [
    {
     "data": {
      "text/plain": [
       "array([0.82929217, 0.        , 0.17070783, 0.        , 0.        ,\n",
       "       0.        , 0.        , 0.        , 0.        ])"
      ]
     },
     "execution_count": 39,
     "metadata": {},
     "output_type": "execute_result"
    }
   ],
   "source": [
    "bestTree.feature_importances_ "
   ]
  },
  {
   "cell_type": "code",
   "execution_count": 26,
   "metadata": {},
   "outputs": [],
   "source": [
    "export_graphviz(\n",
    "    bestTree,\n",
    "    out_file='cTree1.dot',  #doesn't seem to overwrite by default\n",
    "    feature_names=feat_nams,\n",
    "    rounded=True,\n",
    "    filled=True\n",
    ")\n",
    "!dot -Tpng cTree1.dot -o cTree1.png"
   ]
  },
  {
   "cell_type": "markdown",
   "metadata": {},
   "source": [
    "![cTree1.png](cTree1.png)"
   ]
  },
  {
   "cell_type": "markdown",
   "metadata": {},
   "source": [
    "## Breast CA data"
   ]
  },
  {
   "cell_type": "code",
   "execution_count": 61,
   "metadata": {},
   "outputs": [
    {
     "name": "stdout",
     "output_type": "stream",
     "text": [
      "Tree Parameters:\n"
     ]
    },
    {
     "data": {
      "text/plain": [
       "dict_keys(['class_weight', 'criterion', 'max_depth', 'max_features', 'max_leaf_nodes', 'min_impurity_decrease', 'min_impurity_split', 'min_samples_leaf', 'min_samples_split', 'min_weight_fraction_leaf', 'presort', 'random_state', 'splitter'])"
      ]
     },
     "execution_count": 61,
     "metadata": {},
     "output_type": "execute_result"
    },
    {
     "name": "stderr",
     "output_type": "stream",
     "text": [
      "/opt/conda/lib/python3.7/site-packages/sklearn/model_selection/_search.py:841: DeprecationWarning: The default of the `iid` parameter will change from True to False in version 0.22 and will be removed in 0.24. This will change numeric results when test-set sizes are unequal.\n",
      "  DeprecationWarning)\n"
     ]
    },
    {
     "data": {
      "text/plain": [
       "GridSearchCV(cv=20, error_score='raise-deprecating',\n",
       "       estimator=DecisionTreeClassifier(class_weight=None, criterion='entropy', max_depth=None,\n",
       "            max_features=None, max_leaf_nodes=None,\n",
       "            min_impurity_decrease=0.0, min_impurity_split=None,\n",
       "            min_samples_leaf=1, min_samples_split=2,\n",
       "            min_weight_fraction_leaf=0.0, presort=False, random_state=99,\n",
       "            splitter='best'),\n",
       "       fit_params=None, iid='warn', n_jobs=None,\n",
       "       param_grid={'max_depth': [2, 3, 4], 'min_samples_leaf': [10, 20], 'max_features': [3, 5, 7]},\n",
       "       pre_dispatch='2*n_jobs', refit=True, return_train_score='warn',\n",
       "       scoring=None, verbose=0)"
      ]
     },
     "execution_count": 61,
     "metadata": {},
     "output_type": "execute_result"
    },
    {
     "name": "stdout",
     "output_type": "stream",
     "text": [
      "Best cross-validation accuracy: 0.9390\n",
      "Test set score: 0.9510\n",
      "Best parameters: {'max_depth': 4, 'max_features': 3, 'min_samples_leaf': 10}\n"
     ]
    }
   ],
   "source": [
    "from sklearn import datasets\n",
    "breastCA=datasets.load_breast_cancer()\n",
    "X=breastCA['data']  # features\n",
    "y=breastCA['target'] # labels: 0=malignancy, 1=benign\n",
    "y=1-y                # relabelled: 0=benign, 1=malignancy\n",
    "X_train, X_test, y_train, y_test = train_test_split(X, y, random_state=99)\n",
    "treeclf=DecisionTreeClassifier(criterion='entropy',random_state=99)\n",
    "print(\"Tree Parameters:\")\n",
    "treeclf.get_params().keys()\n",
    "param_grid={'max_depth':[2,3,4],'min_samples_leaf':[10,20],\n",
    "            'max_features':[3,5,7]}\n",
    "grid=GridSearchCV(treeclf,param_grid=param_grid,cv=20)\n",
    "grid.fit(X_train,y_train)\n",
    "print(\"Best cross-validation accuracy: {:.4f}\".format(grid.best_score_))\n",
    "print(\"Test set score: {:.4f}\".format(grid.score(X_test, y_test)))\n",
    "print(\"Best parameters: {}\".format(grid.best_params_))"
   ]
  },
  {
   "cell_type": "code",
   "execution_count": 80,
   "metadata": {},
   "outputs": [
    {
     "data": {
      "text/plain": [
       "array([0, 0, 0, 0, 0, 1, 1, 1, 0, 0, 1, 0, 1, 0, 0, 1, 1, 0, 0, 0, 0, 0,\n",
       "       0, 0, 1, 0, 0, 0, 0, 0, 1, 0, 0, 0, 0, 0, 0, 0, 0, 1, 0, 0, 0, 1,\n",
       "       0, 0, 0, 0, 1, 0, 0, 1, 0, 0, 1, 0, 0, 0, 0, 0, 1, 1, 1, 0, 1, 0,\n",
       "       0, 0, 0, 1, 1, 1, 1, 0, 1, 1, 0, 1, 1, 0, 0, 0, 0, 0, 1, 0, 0, 0,\n",
       "       0, 0, 1, 0, 0, 0, 0, 1, 1, 0, 0, 1, 0, 0, 0, 0, 0, 0, 0, 0, 0, 0,\n",
       "       1, 1, 0, 0, 0, 0, 1, 0, 0, 0, 0, 0, 1, 0, 0, 0, 1, 0, 0, 1, 0, 1,\n",
       "       0, 0, 0, 0, 0, 1, 0, 0, 0, 0, 0])"
      ]
     },
     "execution_count": 80,
     "metadata": {},
     "output_type": "execute_result"
    },
    {
     "data": {
      "text/plain": [
       "array([[0.98461538, 0.01538462],\n",
       "       [0.98461538, 0.01538462],\n",
       "       [1.        , 0.        ],\n",
       "       [1.        , 0.        ],\n",
       "       [1.        , 0.        ],\n",
       "       [0.        , 1.        ],\n",
       "       [0.        , 1.        ],\n",
       "       [0.        , 1.        ],\n",
       "       [0.98461538, 0.01538462],\n",
       "       [1.        , 0.        ],\n",
       "       [0.        , 1.        ],\n",
       "       [0.98461538, 0.01538462],\n",
       "       [0.        , 1.        ],\n",
       "       [1.        , 0.        ],\n",
       "       [1.        , 0.        ],\n",
       "       [0.        , 1.        ],\n",
       "       [0.        , 1.        ],\n",
       "       [0.5       , 0.5       ],\n",
       "       [1.        , 0.        ],\n",
       "       [0.98461538, 0.01538462],\n",
       "       [1.        , 0.        ],\n",
       "       [0.98461538, 0.01538462],\n",
       "       [0.98461538, 0.01538462],\n",
       "       [1.        , 0.        ],\n",
       "       [0.        , 1.        ],\n",
       "       [0.98461538, 0.01538462],\n",
       "       [1.        , 0.        ],\n",
       "       [1.        , 0.        ],\n",
       "       [1.        , 0.        ],\n",
       "       [1.        , 0.        ],\n",
       "       [0.        , 1.        ],\n",
       "       [1.        , 0.        ],\n",
       "       [1.        , 0.        ],\n",
       "       [1.        , 0.        ],\n",
       "       [1.        , 0.        ],\n",
       "       [1.        , 0.        ],\n",
       "       [0.98461538, 0.01538462],\n",
       "       [1.        , 0.        ],\n",
       "       [0.98461538, 0.01538462],\n",
       "       [0.        , 1.        ],\n",
       "       [1.        , 0.        ],\n",
       "       [1.        , 0.        ],\n",
       "       [0.88888889, 0.11111111],\n",
       "       [0.        , 1.        ],\n",
       "       [1.        , 0.        ],\n",
       "       [0.98461538, 0.01538462],\n",
       "       [1.        , 0.        ],\n",
       "       [1.        , 0.        ],\n",
       "       [0.        , 1.        ],\n",
       "       [0.98461538, 0.01538462],\n",
       "       [0.88888889, 0.11111111],\n",
       "       [0.16666667, 0.83333333],\n",
       "       [0.5       , 0.5       ],\n",
       "       [0.98461538, 0.01538462],\n",
       "       [0.        , 1.        ],\n",
       "       [1.        , 0.        ],\n",
       "       [0.98461538, 0.01538462],\n",
       "       [1.        , 0.        ],\n",
       "       [1.        , 0.        ],\n",
       "       [0.98461538, 0.01538462],\n",
       "       [0.        , 1.        ],\n",
       "       [0.        , 1.        ],\n",
       "       [0.        , 1.        ],\n",
       "       [0.98461538, 0.01538462],\n",
       "       [0.2       , 0.8       ],\n",
       "       [1.        , 0.        ],\n",
       "       [1.        , 0.        ],\n",
       "       [1.        , 0.        ],\n",
       "       [0.98461538, 0.01538462],\n",
       "       [0.        , 1.        ],\n",
       "       [0.        , 1.        ],\n",
       "       [0.        , 1.        ],\n",
       "       [0.        , 1.        ],\n",
       "       [1.        , 0.        ],\n",
       "       [0.        , 1.        ],\n",
       "       [0.        , 1.        ],\n",
       "       [1.        , 0.        ],\n",
       "       [0.        , 1.        ],\n",
       "       [0.        , 1.        ],\n",
       "       [0.88888889, 0.11111111],\n",
       "       [1.        , 0.        ],\n",
       "       [1.        , 0.        ],\n",
       "       [1.        , 0.        ],\n",
       "       [0.5       , 0.5       ],\n",
       "       [0.        , 1.        ],\n",
       "       [0.98461538, 0.01538462],\n",
       "       [1.        , 0.        ],\n",
       "       [1.        , 0.        ],\n",
       "       [0.88888889, 0.11111111],\n",
       "       [1.        , 0.        ],\n",
       "       [0.        , 1.        ],\n",
       "       [0.5       , 0.5       ],\n",
       "       [0.7       , 0.3       ],\n",
       "       [1.        , 0.        ],\n",
       "       [1.        , 0.        ],\n",
       "       [0.        , 1.        ],\n",
       "       [0.        , 1.        ],\n",
       "       [1.        , 0.        ],\n",
       "       [1.        , 0.        ],\n",
       "       [0.        , 1.        ],\n",
       "       [0.98461538, 0.01538462],\n",
       "       [0.98461538, 0.01538462],\n",
       "       [0.7       , 0.3       ],\n",
       "       [0.7       , 0.3       ],\n",
       "       [0.5       , 0.5       ],\n",
       "       [1.        , 0.        ],\n",
       "       [0.5       , 0.5       ],\n",
       "       [1.        , 0.        ],\n",
       "       [1.        , 0.        ],\n",
       "       [1.        , 0.        ],\n",
       "       [0.        , 1.        ],\n",
       "       [0.        , 1.        ],\n",
       "       [1.        , 0.        ],\n",
       "       [1.        , 0.        ],\n",
       "       [1.        , 0.        ],\n",
       "       [1.        , 0.        ],\n",
       "       [0.16666667, 0.83333333],\n",
       "       [1.        , 0.        ],\n",
       "       [0.98461538, 0.01538462],\n",
       "       [1.        , 0.        ],\n",
       "       [0.98461538, 0.01538462],\n",
       "       [1.        , 0.        ],\n",
       "       [0.        , 1.        ],\n",
       "       [0.98461538, 0.01538462],\n",
       "       [1.        , 0.        ],\n",
       "       [1.        , 0.        ],\n",
       "       [0.        , 1.        ],\n",
       "       [1.        , 0.        ],\n",
       "       [0.98461538, 0.01538462],\n",
       "       [0.        , 1.        ],\n",
       "       [1.        , 0.        ],\n",
       "       [0.        , 1.        ],\n",
       "       [1.        , 0.        ],\n",
       "       [1.        , 0.        ],\n",
       "       [1.        , 0.        ],\n",
       "       [0.7       , 0.3       ],\n",
       "       [1.        , 0.        ],\n",
       "       [0.        , 1.        ],\n",
       "       [0.7       , 0.3       ],\n",
       "       [1.        , 0.        ],\n",
       "       [1.        , 0.        ],\n",
       "       [1.        , 0.        ],\n",
       "       [1.        , 0.        ]])"
      ]
     },
     "execution_count": 80,
     "metadata": {},
     "output_type": "execute_result"
    }
   ],
   "source": [
    "grid.predict(X_test)\n",
    "grid.predict_proba(X_test)"
   ]
  },
  {
   "cell_type": "code",
   "execution_count": 96,
   "metadata": {},
   "outputs": [
    {
     "name": "stdout",
     "output_type": "stream",
     "text": [
      "CART accuracy: 0.951 AUC: 0.930 AUPRC: 0.906\n"
     ]
    }
   ],
   "source": [
    "print(\"Breast CA CART accuracy: {:5.3f} AUC: {:5.3f} AUPRC: {:5.3f}\".format(\n",
    "        accuracy_score(y_test,grid.predict(X_test)),\n",
    "        roc_auc_score(y_test,grid.predict_proba(X_test)[:,1]),\n",
    "        average_precision_score(y_test,grid.predict_proba(X_test)[:,1]))\n",
    "    )"
   ]
  },
  {
   "cell_type": "code",
   "execution_count": 104,
   "metadata": {},
   "outputs": [
    {
     "data": {
      "image/png": "[encoded data removed]",
      "text/plain": [
       "<Figure size 504x504 with 1 Axes>"
      ]
     },
     "metadata": {
      "needs_background": "light"
     },
     "output_type": "display_data"
    },
    {
     "data": {
      "image/png": "[encoded data removed]",
      "text/plain": [
       "<Figure size 504x504 with 1 Axes>"
      ]
     },
     "metadata": {
      "needs_background": "light"
     },
     "output_type": "display_data"
    }
   ],
   "source": [
    "skplt.metrics.plot_roc(y_test, grid.predict_proba(X_test),\n",
    "        plot_micro=False,\n",
    "        plot_macro=False,\n",
    "        figsize=(7,7),\n",
    "        classes_to_plot=1,\n",
    "        title='Breast CA CART Classifier PR Curve');\n",
    "skplt.metrics.plot_precision_recall(y_test, grid.predict_proba(X_test),\n",
    "        plot_micro=False,\n",
    "        figsize=(7,7),\n",
    "        classes_to_plot=1,\n",
    "        title='Breast CA CART Classifier PR Curve');"
   ]
  },
  {
   "cell_type": "code",
   "execution_count": 63,
   "metadata": {},
   "outputs": [
    {
     "data": {
      "text/plain": [
       "array(['mean radius', 'mean texture', 'mean perimeter', 'mean area',\n",
       "       'mean smoothness', 'mean compactness', 'mean concavity',\n",
       "       'mean concave points', 'mean symmetry', 'mean fractal dimension',\n",
       "       'radius error', 'texture error', 'perimeter error', 'area error',\n",
       "       'smoothness error', 'compactness error', 'concavity error',\n",
       "       'concave points error', 'symmetry error',\n",
       "       'fractal dimension error', 'worst radius', 'worst texture',\n",
       "       'worst perimeter', 'worst area', 'worst smoothness',\n",
       "       'worst compactness', 'worst concavity', 'worst concave points',\n",
       "       'worst symmetry', 'worst fractal dimension'], dtype='<U23')"
      ]
     },
     "execution_count": 63,
     "metadata": {},
     "output_type": "execute_result"
    },
    {
     "data": {
      "text/plain": [
       "array(['malignant', 'benign'], dtype='<U9')"
      ]
     },
     "execution_count": 63,
     "metadata": {},
     "output_type": "execute_result"
    }
   ],
   "source": [
    "breastCA['feature_names']\n",
    "breastCA['target_names']"
   ]
  },
  {
   "cell_type": "code",
   "execution_count": 75,
   "metadata": {},
   "outputs": [
    {
     "name": "stdout",
     "output_type": "stream",
     "text": [
      "cTree1.png  cTree.png\r\n"
     ]
    }
   ],
   "source": [
    "!rm -rf cTree2.*\n",
    "!ls *.png"
   ]
  },
  {
   "cell_type": "code",
   "execution_count": 97,
   "metadata": {},
   "outputs": [],
   "source": [
    "bestTree=DecisionTreeClassifier(**grid.best_params_) \n",
    "bestTreeFit=bestTree.fit(X_train,y_train)\n",
    "\n",
    "export_graphviz(\n",
    "    bestTree,\n",
    "    out_file='cTree2.dot',  #doesn't seem to overwrite by default\n",
    "    feature_names=breastCA['feature_names'],\n",
    "    rounded=True,\n",
    "    filled=True\n",
    ")\n"
   ]
  },
  {
   "cell_type": "code",
   "execution_count": 98,
   "metadata": {},
   "outputs": [],
   "source": [
    "!dot -Tpng cTree2.dot -o cTree2.png"
   ]
  },
  {
   "cell_type": "markdown",
   "metadata": {},
   "source": [
    "![cTree2](cTree2.png)"
   ]
  },
  {
   "cell_type": "markdown",
   "metadata": {},
   "source": [
    "## 기타 adaboost model"
   ]
  },
  {
   "cell_type": "code",
   "execution_count": 30,
   "metadata": {},
   "outputs": [],
   "source": [
    "from sklearn.ensemble import AdaBoostClassifier\n",
    "adaboostModel=AdaBoostClassifier()\n",
    "adafit = adaboostModel.fit(X_train,y_train)"
   ]
  },
  {
   "cell_type": "code",
   "execution_count": 31,
   "metadata": {},
   "outputs": [],
   "source": [
    "cervPred=adafit.predict(X)\n",
    "cervPredProb=adafit.predict_proba(X)"
   ]
  },
  {
   "cell_type": "code",
   "execution_count": 38,
   "metadata": {},
   "outputs": [
    {
     "name": "stderr",
     "output_type": "stream",
     "text": [
      "/opt/conda/lib/python3.7/site-packages/sklearn/utils/deprecation.py:77: DeprecationWarning: Function plot_roc_curve is deprecated; This will be removed in v0.5.0. Please use scikitplot.metrics.plot_roc instead.\n",
      "  warnings.warn(msg, category=DeprecationWarning)\n"
     ]
    },
    {
     "data": {
      "image/png": "[encoded data removed]",
      "text/plain": [
       "<Figure size 504x504 with 1 Axes>"
      ]
     },
     "metadata": {
      "needs_background": "light"
     },
     "output_type": "display_data"
    },
    {
     "data": {
      "image/png": "[encoded data removed]",
      "text/plain": [
       "<Figure size 504x504 with 1 Axes>"
      ]
     },
     "metadata": {
      "needs_background": "light"
     },
     "output_type": "display_data"
    }
   ],
   "source": [
    "skplt.metrics.plot_roc_curve(y, cervPredProb,\n",
    "        curves=('each_class'),\n",
    "        figsize=(7,7),\n",
    "        title='ADAboost Classifier ROC Curve');\n",
    "skplt.metrics.plot_precision_recall(y, cervPredProb,\n",
    "        plot_micro=False,\n",
    "        figsize=(7,7),\n",
    "        classes_to_plot=1,\n",
    "        title='ADAboost Classifier PR Curve');"
   ]
  },
  {
   "cell_type": "code",
   "execution_count": null,
   "metadata": {},
   "outputs": [],
   "source": []
  }
 ],
 "metadata": {
  "hide_input": false,
  "kernelspec": {
   "display_name": "Python 3",
   "language": "python",
   "name": "python3"
  },
  "language_info": {
   "codemirror_mode": {
    "name": "ipython",
    "version": 3
   },
   "file_extension": ".py",
   "mimetype": "text/x-python",
   "name": "python",
   "nbconvert_exporter": "python",
   "pygments_lexer": "ipython3",
   "version": "3.7.3"
  },
  "latex_envs": {
   "LaTeX_envs_menu_present": true,
   "autoclose": false,
   "autocomplete": true,
   "bibliofile": "biblio.bib",
   "cite_by": "apalike",
   "current_citInitial": 1,
   "eqLabelWithNumbers": true,
   "eqNumInitial": 1,
   "hotkeys": {
    "equation": "Ctrl-E",
    "itemize": "Ctrl-I"
   },
   "labels_anchors": false,
   "latex_user_defs": false,
   "report_style_numbering": false,
   "user_envs_cfg": false
  },
  "toc": {
   "base_numbering": 1,
   "nav_menu": {},
   "number_sections": false,
   "sideBar": false,
   "skip_h1_title": false,
   "title_cell": "Table of Contents",
   "title_sidebar": "Contents",
   "toc_cell": false,
   "toc_position": {
    "height": "calc(100% - 180px)",
    "left": "10px",
    "top": "150px",
    "width": "313.4px"
   },
   "toc_section_display": false,
   "toc_window_display": false
  }
 },
 "nbformat": 4,
 "nbformat_minor": 2
}
