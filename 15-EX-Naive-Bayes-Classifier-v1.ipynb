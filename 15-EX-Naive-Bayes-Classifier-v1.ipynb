{
 "cells": [
  {
   "cell_type": "markdown",
   "metadata": {},
   "source": [
    "Creative Commons CC BY 4.0 Lynd Bacon & Associates, Ltd. Not warranted to be suitable for any particular purpose. (You're on your own!)"
   ]
  },
  {
   "cell_type": "markdown",
   "metadata": {},
   "source": [
    "# Naive Bayes Classifier\n",
    "\n",
    "An algorithm that predicts target values by conditioning on the values of features, which are assumed to be conditionally independent.\n",
    "\n",
    "Because of the features independence assumption, this method has also been called the _Idiot Bayes_ classifier. "
   ]
  },
  {
   "cell_type": "markdown",
   "metadata": {},
   "source": [
    "# Bayes Rule\n",
    "\n",
    "You've seen this before:\n",
    "\n",
    "\\begin{align*}\n",
    "\\large\n",
    "p(\\theta|D)~=~\\frac{p(D|\\theta)p(\\theta)}{p(D)}\n",
    "\\end{align*}  \n",
    "\n",
    "Here, $\\theta$ is one or more parameters we want to learn about.  In the Bayesian Classifier context, the parameters specify label probabilities.  D is \"data,\" or information. $\\theta$ can be a very long vector. That is the, posterior density on the LHS can be highly dimensional.\n",
    "\n",
    "The term on the LHS is the posterior probability of $\\theta$ conditional on D; it tells us about uncertainty about $\\theta$.  The two quantities in the numerator on the RHS are referred to as the likelihood of the data given $\\theta$, and the prior probability of $\\theta$.  p(D) is often called the data density.  For a particular data set it's constant, so when estimating p($\\theta$|D) it's ignored, and the version of the above that's used is:  \n",
    "\n",
    "\\begin{align*}\n",
    "\\large\n",
    "p(\\theta|D)~\\propto~p(D|\\theta)p(\\theta)\n",
    "\\end{align*}\n",
    "\n",
    "One way of looking at this theorem is that it is a _learning algorithm_:  \n",
    "* p($\\theta$) is what we know about parameters of interest before getting D.  \n",
    "* p(D|$\\theta$) is the likelihood of data we've observed given what we have believed about $\\theta$.\n",
    "* p($\\theta$|D) is how we've \"adjusted\" what we believe about $\\theta$ now that we've received D. \n",
    "\n",
    "p($\\theta$|D) can be our \"best guess\" about p($\\theta$) the next time we are about to get new D.  "
   ]
  },
  {
   "cell_type": "markdown",
   "metadata": {},
   "source": [
    "<h1>The benefit of Bayes Classifier Idiocy</h1>\n",
    "\n",
    "The benefit of the independence assumption as applied in these classifiers is that it greatly simplifies computation, and makes training much faster than it might otherwise be.  Use of the probability product rule, and simplification resulting from the the _conditional independence_ \n",
    "\n",
    "For example, in the context of binary features and a binary target, some outcome \"O\" and a set of binary indicators X<sub>i</sub>, the _joint posterior density_ can be calculated as:\n",
    "\n",
    "\\begin{align*}\n",
    "\\large\n",
    "\\text{p} (O,X_1, X_2, ... X_n) = \\text{p}(O)\\prod_{i=1}^{n} \\text{p}(X_i\\mid p(O))\n",
    "\\end{align*}\n",
    "\n",
    "The posterior probability of 0, $p(0\\mid X_1,.., X_n)$ can then be obtained by using the product rule."
   ]
  },
  {
   "cell_type": "markdown",
   "metadata": {},
   "source": [
    "<h1>Bayes Classifier Flavors</h1>\n",
    "\n",
    "Defined mainly in terms of the type(s) of distributions assumed, and there are several.  In `scikit-learn`, the [naive Bayes Methods](https://scikit-learn.org/stable/modules/naive_bayes.html#naive-bayes) include:\n",
    "\n",
    "* [GaussianNB](https://scikit-learn.org/stable/modules/generated/sklearn.naive_bayes.GaussianNB.html#sklearn.naive_bayes.GaussianNB): Data likelihood assumed to be Gaussian.\n",
    "* [BurnoulliNB](https://scikit-learn.org/stable/modules/generated/sklearn.naive_bayes.BernoulliNB.html#sklearn.naive_bayes.BernoulliNB): binary data.\n",
    "* [MultinomialNB](https://scikit-learn.org/stable/modules/generated/sklearn.naive_bayes.MultinomialNB.html#sklearn.naive_bayes.MultinomialNB) : features that are count data.\n",
    "\n",
    "All three use _smoothing_ parameters to deal with either 0 counts or with heterogeneous or zero variances."
   ]
  },
  {
   "cell_type": "markdown",
   "metadata": {},
   "source": [
    "<h1>Getting Packages</h1>"
   ]
  },
  {
   "cell_type": "code",
   "execution_count": 3,
   "metadata": {},
   "outputs": [],
   "source": [
    "from IPython.core.interactiveshell import InteractiveShell\n",
    "InteractiveShell.ast_node_interactivity = \"all\"\n",
    "from IPython.display import display, Markdown\n",
    "import numpy as np\n",
    "import pandas as pd\n",
    "\n",
    "import matplotlib.pyplot as plt\n",
    "import scikitplot as skplt\n",
    "from sklearn import linear_model\n",
    "from sklearn.model_selection import KFold, StratifiedShuffleSplit\n",
    "from sklearn.model_selection import cross_val_predict\n",
    "from sklearn import preprocessing\n",
    "from sklearn.metrics import accuracy_score, confusion_matrix, roc_auc_score\n",
    "from sklearn.metrics import roc_curve, precision_score, recall_score\n",
    "from sklearn.naive_bayes import GaussianNB\n",
    "import pickle\n",
    "import os\n",
    "import shelve\n",
    "%matplotlib inline"
   ]
  },
  {
   "cell_type": "markdown",
   "metadata": {},
   "source": [
    "# Naive Bayes Cervical CA Classification\n",
    "\n",
    "Let's get the data we put into that `shelve` database.  These are the stubborn data we used to train a support vector classifier.  \n",
    "\n",
    "Assuming they are in the data subdirectory of the current pwd. Adjust as may be necessary.  In the following, the shelve db is opened and read from the DATA/ML subdir of your current environment.   If you want to load instead from your current working environment, remove the DATA/ML/ path part that's in the open() statement."
   ]
  },
  {
   "cell_type": "code",
   "execution_count": 17,
   "metadata": {},
   "outputs": [],
   "source": [
    "with shelve.open('cervical') as sdb:\n",
    "    cervical=sdb['cervical']  # this should be aPandas DataFrame\n",
    "    cervical2=sdb['cervical2']  # this should be, too"
   ]
  },
  {
   "cell_type": "code",
   "execution_count": 18,
   "metadata": {},
   "outputs": [
    {
     "data": {
      "text/plain": [
       "Index(['Age', 'Number of sexual partners', 'First sexual intercourse',\n",
       "       'Num of pregnancies', 'Smokes', 'Smokes (years)', 'Smokes (packs/year)',\n",
       "       'Hormonal Contraceptives', 'Hormonal Contraceptives (years)', 'IUD',\n",
       "       'IUD (years)', 'STDs', 'STDs (number)', 'STDs:condylomatosis',\n",
       "       'STDs:cervical condylomatosis', 'STDs:vaginal condylomatosis',\n",
       "       'STDs:vulvo-perineal condylomatosis', 'STDs:syphilis',\n",
       "       'STDs:pelvic inflammatory disease', 'STDs:genital herpes',\n",
       "       'STDs:molluscum contagiosum', 'STDs:AIDS', 'STDs:HIV',\n",
       "       'STDs:Hepatitis B', 'STDs:HPV', 'STDs: Number of diagnosis',\n",
       "       'STDs: Time since first diagnosis', 'STDs: Time since last diagnosis',\n",
       "       'Dx:Cancer', 'Dx:CIN', 'Dx:HPV', 'Dx', 'Hinselmann', 'Schiller',\n",
       "       'Citology', 'Biopsy'],\n",
       "      dtype='object')"
      ]
     },
     "execution_count": 18,
     "metadata": {},
     "output_type": "execute_result"
    }
   ],
   "source": [
    "cervical.columns"
   ]
  },
  {
   "cell_type": "code",
   "execution_count": 19,
   "metadata": {},
   "outputs": [
    {
     "data": {
      "text/plain": [
       "Index(['Biopsy', 'Age', 'Number of sexual partners',\n",
       "       'First sexual intercourse', 'Num of pregnancies', 'Smokes',\n",
       "       'Smokes (years)', 'Smokes (packs/year)', 'Hormonal Contraceptives',\n",
       "       'Hormonal Contraceptives (years)'],\n",
       "      dtype='object')"
      ]
     },
     "execution_count": 19,
     "metadata": {},
     "output_type": "execute_result"
    }
   ],
   "source": [
    "cervical2.columns"
   ]
  },
  {
   "cell_type": "markdown",
   "metadata": {},
   "source": [
    "# Gaussian Naive Bayes Classifier\n",
    "\n",
    "We'll use a Gaussian classifier as our features are other than binary or counts.\n",
    "\n",
    "We'll do a K-Fold CV.  Let's see if we can beat the SVM performance we saw."
   ]
  },
  {
   "cell_type": "code",
   "execution_count": 20,
   "metadata": {},
   "outputs": [],
   "source": [
    "skf=StratifiedShuffleSplit(n_splits=20,random_state=99)\n",
    "X=cervical2.iloc[:,1:].to_numpy()\n",
    "y=cervical2.iloc[:,0].to_numpy()\n",
    "\n",
    "cvres=list()  # This will hold cv results\n",
    "\n",
    "gaussNB=GaussianNB() # define a reg model to use\n",
    "\n",
    "for traindx, testdx in skf.split(X,y):  # loop over folds, balancing y label frequencies\n",
    "    resDict={}                       # Dictionary to hold fold results\n",
    "    XTrain=X[traindx]                # Xtrain\n",
    "    yTrain=y[traindx]\n",
    "    XTest=X[testdx]\n",
    "    yTest=y[testdx]\n",
    "\n",
    "    NBclf=gaussNB.fit(XTrain,yTrain)\n",
    "    trainPredProb=NBclf.predict_proba(XTrain)\n",
    "    trainAUC=roc_auc_score(yTrain,trainPredProb[:,1])\n",
    "    trainPred=NBclf.predict(XTrain)\n",
    "    trainACC=accuracy_score(yTrain,trainPred)\n",
    "\n",
    "    testPredProb=NBclf.predict_proba(XTest)\n",
    "    testAUC=roc_auc_score(yTest,testPredProb[:,1])\n",
    "    testPred=NBclf.predict(XTest)\n",
    "    testACC=accuracy_score(yTest,testPred)\n",
    "\n",
    "    resDict.update({'trainAUC':trainAUC,\n",
    "                    'testAUC':testAUC,\n",
    "                    'trainACC':trainACC,\n",
    "                    'testACC':testACC})\n",
    "\n",
    "    cvres.append(resDict)\n",
    "    "
   ]
  },
  {
   "cell_type": "code",
   "execution_count": 21,
   "metadata": {},
   "outputs": [
    {
     "data": {
      "text/html": [
       "<div>\n",
       "<style scoped>\n",
       "    .dataframe tbody tr th:only-of-type {\n",
       "        vertical-align: middle;\n",
       "    }\n",
       "\n",
       "    .dataframe tbody tr th {\n",
       "        vertical-align: top;\n",
       "    }\n",
       "\n",
       "    .dataframe thead th {\n",
       "        text-align: right;\n",
       "    }\n",
       "</style>\n",
       "<table border=\"1\" class=\"dataframe\">\n",
       "  <thead>\n",
       "    <tr style=\"text-align: right;\">\n",
       "      <th></th>\n",
       "      <th>trainACC</th>\n",
       "      <th>testACC</th>\n",
       "      <th>trainAUC</th>\n",
       "      <th>testAUC</th>\n",
       "    </tr>\n",
       "  </thead>\n",
       "  <tbody>\n",
       "    <tr>\n",
       "      <th>count</th>\n",
       "      <td>20.000000</td>\n",
       "      <td>20.000000</td>\n",
       "      <td>20.000000</td>\n",
       "      <td>20.000000</td>\n",
       "    </tr>\n",
       "    <tr>\n",
       "      <th>mean</th>\n",
       "      <td>0.903536</td>\n",
       "      <td>0.890441</td>\n",
       "      <td>0.568365</td>\n",
       "      <td>0.515317</td>\n",
       "    </tr>\n",
       "    <tr>\n",
       "      <th>std</th>\n",
       "      <td>0.003967</td>\n",
       "      <td>0.033897</td>\n",
       "      <td>0.013164</td>\n",
       "      <td>0.109692</td>\n",
       "    </tr>\n",
       "    <tr>\n",
       "      <th>min</th>\n",
       "      <td>0.898026</td>\n",
       "      <td>0.823529</td>\n",
       "      <td>0.535617</td>\n",
       "      <td>0.253968</td>\n",
       "    </tr>\n",
       "    <tr>\n",
       "      <th>25%</th>\n",
       "      <td>0.901316</td>\n",
       "      <td>0.867647</td>\n",
       "      <td>0.560691</td>\n",
       "      <td>0.491270</td>\n",
       "    </tr>\n",
       "    <tr>\n",
       "      <th>50%</th>\n",
       "      <td>0.902961</td>\n",
       "      <td>0.882353</td>\n",
       "      <td>0.567460</td>\n",
       "      <td>0.506349</td>\n",
       "    </tr>\n",
       "    <tr>\n",
       "      <th>75%</th>\n",
       "      <td>0.906250</td>\n",
       "      <td>0.911765</td>\n",
       "      <td>0.578048</td>\n",
       "      <td>0.550794</td>\n",
       "    </tr>\n",
       "    <tr>\n",
       "      <th>max</th>\n",
       "      <td>0.911184</td>\n",
       "      <td>0.955882</td>\n",
       "      <td>0.592119</td>\n",
       "      <td>0.758730</td>\n",
       "    </tr>\n",
       "  </tbody>\n",
       "</table>\n",
       "</div>"
      ],
      "text/plain": [
       "        trainACC    testACC   trainAUC    testAUC\n",
       "count  20.000000  20.000000  20.000000  20.000000\n",
       "mean    0.903536   0.890441   0.568365   0.515317\n",
       "std     0.003967   0.033897   0.013164   0.109692\n",
       "min     0.898026   0.823529   0.535617   0.253968\n",
       "25%     0.901316   0.867647   0.560691   0.491270\n",
       "50%     0.902961   0.882353   0.567460   0.506349\n",
       "75%     0.906250   0.911765   0.578048   0.550794\n",
       "max     0.911184   0.955882   0.592119   0.758730"
      ]
     },
     "execution_count": 21,
     "metadata": {},
     "output_type": "execute_result"
    }
   ],
   "source": [
    "pd.DataFrame(cvres)[['trainACC','testACC','trainAUC','testAUC']].describe()"
   ]
  },
  {
   "cell_type": "markdown",
   "metadata": {},
   "source": [
    "# Another UDU 4U\n",
    "\n",
    "Train the above naive Bayes classifier while applying a rescaling method to the features, either MinMax, or by standardizing mean=0, sd=1.  Either should be done separately for train and test data, and within each fold."
   ]
  },
  {
   "cell_type": "code",
   "execution_count": 26,
   "metadata": {},
   "outputs": [],
   "source": [
    "from sklearn import datasets\n",
    "breastCA=datasets.load_breast_cancer()\n",
    "target_values, value_counts = np.unique(breastCA['target'], return_counts=True)\n",
    "X=breastCA['data']  # features\n",
    "y=breastCA['target'] # labels: 0=malignancy, 1=benign\n",
    "y=1-y                # relabelled: 0=benign, 1=malignancy"
   ]
  },
  {
   "cell_type": "code",
   "execution_count": 27,
   "metadata": {},
   "outputs": [],
   "source": [
    "skf=StratifiedShuffleSplit(n_splits=20,random_state=99)"
   ]
  },
  {
   "cell_type": "code",
   "execution_count": 28,
   "metadata": {},
   "outputs": [],
   "source": [
    "cvres=list()  # This will hold cv results\n",
    "\n",
    "gaussNB=GaussianNB() # define a reg model to use\n",
    "\n",
    "for traindx, testdx in skf.split(X,y):  # loop over folds, balancing y label frequencies\n",
    "    resDict={}                       # Dictionary to hold fold results\n",
    "    XTrain=X[traindx]                # Xtrain\n",
    "    yTrain=y[traindx]\n",
    "    XTest=X[testdx]\n",
    "    yTest=y[testdx]\n",
    "\n",
    "    NBclf=gaussNB.fit(XTrain,yTrain)\n",
    "    trainPredProb=NBclf.predict_proba(XTrain)\n",
    "    trainAUC=roc_auc_score(yTrain,trainPredProb[:,1])\n",
    "    trainPred=NBclf.predict(XTrain)\n",
    "    trainACC=accuracy_score(yTrain,trainPred)\n",
    "\n",
    "    testPredProb=NBclf.predict_proba(XTest)\n",
    "    testAUC=roc_auc_score(yTest,testPredProb[:,1])\n",
    "    testPred=NBclf.predict(XTest)\n",
    "    testACC=accuracy_score(yTest,testPred)\n",
    "\n",
    "    resDict.update({'trainAUC':trainAUC,\n",
    "                    'testAUC':testAUC,\n",
    "                    'trainACC':trainACC,\n",
    "                    'testACC':testACC})\n",
    "\n",
    "    cvres.append(resDict)"
   ]
  },
  {
   "cell_type": "code",
   "execution_count": 29,
   "metadata": {},
   "outputs": [
    {
     "data": {
      "text/html": [
       "<div>\n",
       "<style scoped>\n",
       "    .dataframe tbody tr th:only-of-type {\n",
       "        vertical-align: middle;\n",
       "    }\n",
       "\n",
       "    .dataframe tbody tr th {\n",
       "        vertical-align: top;\n",
       "    }\n",
       "\n",
       "    .dataframe thead th {\n",
       "        text-align: right;\n",
       "    }\n",
       "</style>\n",
       "<table border=\"1\" class=\"dataframe\">\n",
       "  <thead>\n",
       "    <tr style=\"text-align: right;\">\n",
       "      <th></th>\n",
       "      <th>trainACC</th>\n",
       "      <th>testACC</th>\n",
       "      <th>trainAUC</th>\n",
       "      <th>testAUC</th>\n",
       "    </tr>\n",
       "  </thead>\n",
       "  <tbody>\n",
       "    <tr>\n",
       "      <th>count</th>\n",
       "      <td>20.000000</td>\n",
       "      <td>20.000000</td>\n",
       "      <td>20.000000</td>\n",
       "      <td>20.000000</td>\n",
       "    </tr>\n",
       "    <tr>\n",
       "      <th>mean</th>\n",
       "      <td>0.942285</td>\n",
       "      <td>0.930702</td>\n",
       "      <td>0.988982</td>\n",
       "      <td>0.983466</td>\n",
       "    </tr>\n",
       "    <tr>\n",
       "      <th>std</th>\n",
       "      <td>0.003135</td>\n",
       "      <td>0.036657</td>\n",
       "      <td>0.000782</td>\n",
       "      <td>0.016642</td>\n",
       "    </tr>\n",
       "    <tr>\n",
       "      <th>min</th>\n",
       "      <td>0.937500</td>\n",
       "      <td>0.859649</td>\n",
       "      <td>0.987327</td>\n",
       "      <td>0.940476</td>\n",
       "    </tr>\n",
       "    <tr>\n",
       "      <th>25%</th>\n",
       "      <td>0.940918</td>\n",
       "      <td>0.912281</td>\n",
       "      <td>0.988664</td>\n",
       "      <td>0.981151</td>\n",
       "    </tr>\n",
       "    <tr>\n",
       "      <th>50%</th>\n",
       "      <td>0.942383</td>\n",
       "      <td>0.929825</td>\n",
       "      <td>0.989056</td>\n",
       "      <td>0.988757</td>\n",
       "    </tr>\n",
       "    <tr>\n",
       "      <th>75%</th>\n",
       "      <td>0.943359</td>\n",
       "      <td>0.964912</td>\n",
       "      <td>0.989427</td>\n",
       "      <td>0.993717</td>\n",
       "    </tr>\n",
       "    <tr>\n",
       "      <th>max</th>\n",
       "      <td>0.949219</td>\n",
       "      <td>0.982456</td>\n",
       "      <td>0.990279</td>\n",
       "      <td>1.000000</td>\n",
       "    </tr>\n",
       "  </tbody>\n",
       "</table>\n",
       "</div>"
      ],
      "text/plain": [
       "        trainACC    testACC   trainAUC    testAUC\n",
       "count  20.000000  20.000000  20.000000  20.000000\n",
       "mean    0.942285   0.930702   0.988982   0.983466\n",
       "std     0.003135   0.036657   0.000782   0.016642\n",
       "min     0.937500   0.859649   0.987327   0.940476\n",
       "25%     0.940918   0.912281   0.988664   0.981151\n",
       "50%     0.942383   0.929825   0.989056   0.988757\n",
       "75%     0.943359   0.964912   0.989427   0.993717\n",
       "max     0.949219   0.982456   0.990279   1.000000"
      ]
     },
     "execution_count": 29,
     "metadata": {},
     "output_type": "execute_result"
    }
   ],
   "source": [
    "pd.DataFrame(cvres)[['trainACC','testACC','trainAUC','testAUC']].describe()"
   ]
  },
  {
   "cell_type": "markdown",
   "metadata": {},
   "source": [
    "# Precision-Recall Plot\n",
    "\n",
    "You may still recall that:\n",
    "\n",
    "**Precision** = proportion of cases classified as positive that are actually positive  \n",
    "**Recall** = proportion of positive cases that are classified as positive\n",
    "\n",
    "In cases where the target variable's labels are distributed in a very \"skewed\" manner (i.e., when one or more labels are quite rare in the data), a precision-recall plot can be more informative than an ROC curve.\n",
    "\n",
    "See, for example,\n",
    "\n",
    "[The Precision-Recall Plot Is More Informative than the ROC Plot When Evaluating Binary Classifiers on Imbalanced Datasets](https://www.ncbi.nlm.nih.gov/pmc/articles/PMC4349800/)\n",
    "\n",
    "Let's get a single random split of our data, refit on the resulting training data, get precision and recall for the training and test splits, and finally, plot some precision-recall graphs.\n"
   ]
  },
  {
   "cell_type": "code",
   "execution_count": 30,
   "metadata": {},
   "outputs": [],
   "source": [
    "skf1=StratifiedShuffleSplit(n_splits=1,random_state=99) # Note, just a single random split here\n",
    "for trainNdx,testNdx in skf1.split(X,y):\n",
    "    Xtrain=X[trainNdx]\n",
    "    ytrain=y[trainNdx]\n",
    "    Xtest=X[testNdx]\n",
    "    ytest=y[testNdx]\n"
   ]
  },
  {
   "cell_type": "code",
   "execution_count": 31,
   "metadata": {},
   "outputs": [
    {
     "name": "stdout",
     "output_type": "stream",
     "text": [
      "Training Data AUC 0.990 Test Data AUC 0.983\n"
     ]
    }
   ],
   "source": [
    "NBclf2=gaussNB.fit(Xtrain,ytrain)\n",
    "trainPredProb1=NBclf2.predict_proba(Xtrain)[:,1]\n",
    "testPredProb1=NBclf2.predict_proba(Xtest)[:,1]\n",
    "print('Training Data AUC {:5.3f} Test Data AUC {:5.3f}'.format(\n",
    "    roc_auc_score(ytrain,trainPredProb1),\n",
    "    roc_auc_score(ytest,testPredProb1)\n",
    "     ))"
   ]
  },
  {
   "cell_type": "markdown",
   "metadata": {},
   "source": [
    "## Precision and Recall for Training and Test Data"
   ]
  },
  {
   "cell_type": "code",
   "execution_count": 36,
   "metadata": {},
   "outputs": [
    {
     "data": {
      "image/png": "[encoded data removed]",
      "text/plain": [
       "<Figure size 504x504 with 1 Axes>"
      ]
     },
     "metadata": {
      "needs_background": "light"
     },
     "output_type": "display_data"
    }
   ],
   "source": [
    "trainPredProb=NBclf2.predict_proba(Xtrain)\n",
    "skplt.metrics.plot_precision_recall(ytrain, trainPredProb,\n",
    "        plot_micro=False,\n",
    "        figsize=(7,7),\n",
    "        classes_to_plot=1,\n",
    "        title='training data PR Curves');"
   ]
  },
  {
   "cell_type": "code",
   "execution_count": 33,
   "metadata": {},
   "outputs": [
    {
     "data": {
      "image/png": "[encoded data removed]",
      "text/plain": [
       "<Figure size 504x504 with 1 Axes>"
      ]
     },
     "metadata": {
      "needs_background": "light"
     },
     "output_type": "display_data"
    }
   ],
   "source": [
    "testPredProb=NBclf2.predict_proba(Xtest)\n",
    "skplt.metrics.plot_precision_recall(ytest, testPredProb,\n",
    "        plot_micro=False,\n",
    "        figsize=(7,7),\n",
    "        classes_to_plot=1,\n",
    "        title='test data PR Curves');"
   ]
  },
  {
   "cell_type": "markdown",
   "metadata": {},
   "source": [
    "# Another UDU 4U: Idiot Bayes With More Features\n",
    "\n",
    "See if you can improve the model performances, above, by using more features."
   ]
  },
  {
   "cell_type": "code",
   "execution_count": null,
   "metadata": {},
   "outputs": [],
   "source": []
  }
 ],
 "metadata": {
  "hide_input": false,
  "kernelspec": {
   "display_name": "Python 3",
   "language": "python",
   "name": "python3"
  },
  "language_info": {
   "codemirror_mode": {
    "name": "ipython",
    "version": 3
   },
   "file_extension": ".py",
   "mimetype": "text/x-python",
   "name": "python",
   "nbconvert_exporter": "python",
   "pygments_lexer": "ipython3",
   "version": "3.7.3"
  },
  "latex_envs": {
   "LaTeX_envs_menu_present": true,
   "autoclose": false,
   "autocomplete": true,
   "bibliofile": "biblio.bib",
   "cite_by": "apalike",
   "current_citInitial": 1,
   "eqLabelWithNumbers": true,
   "eqNumInitial": 1,
   "hotkeys": {
    "equation": "Ctrl-E",
    "itemize": "Ctrl-I"
   },
   "labels_anchors": false,
   "latex_user_defs": false,
   "report_style_numbering": false,
   "user_envs_cfg": false
  },
  "toc": {
   "base_numbering": 1,
   "nav_menu": {},
   "number_sections": false,
   "sideBar": true,
   "skip_h1_title": false,
   "title_cell": "Table of Contents",
   "title_sidebar": "Contents",
   "toc_cell": false,
   "toc_position": {
    "height": "calc(100% - 180px)",
    "left": "10px",
    "top": "150px",
    "width": "313.4px"
   },
   "toc_section_display": true,
   "toc_window_display": false
  }
 },
 "nbformat": 4,
 "nbformat_minor": 2
}
